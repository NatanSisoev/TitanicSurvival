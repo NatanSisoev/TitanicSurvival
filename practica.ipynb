{
 "cells": [
  {
   "metadata": {},
   "cell_type": "markdown",
   "source": [
    "# Pràctica 1: Resolem un problema de classificació\n",
    "\n",
    "## Objectius\n",
    "\n",
    "Els objectius d'aquesta pràctica són:\n",
    "\n",
    "* Aplicar els coneixements adquirits sobre processament de dades, classificació i validacio creuada.\n",
    "  \n",
    "* Ser capaç de comparar diferents models de classificació.\n",
    "\n",
    "* Ser capac de fer cerca d'hiperparàmetres.\n",
    "\n",
    "* Entendre i implementar la validació creuada.\n",
    "\n",
    "* Analitzar detalladament els resultats obtinguts durant l'aprenentatge dels diferents models.\n",
    "\n",
    "Aquesta pràctica és prèvia al cas kaggle que realitzareu durant la segona part de l'assignatura. En aquesta primera pràctica les preguntes estan definides, però us ha de servir d'aprenentatge a l'hora de saber com estructurar un projecte d'aprenentatge automàtic ja que en el cas kaggle no tindreu les preguntes.\n",
    "\n",
    "## Base de dades\n",
    "\n",
    "En aquesta pràctica farem servir la base de dades del titanic. L'atribut que predirem es Survived, el qual ens diu si cada passatger va sobreviure o no.\n",
    "\n",
    "\n",
    "https://www.kaggle.com/c/titanic/data\n",
    "\n",
    "\n",
    "## Treball en grup\n",
    "Aquesta pràctica es treballarà en grups de 2-3 persones. En casos excepcionals i degudament justificats la pràctica es podrà realitzar de forma individual.\n",
    "\n",
    "## Seguiment i entrega de la pràctica\n",
    "\n",
    "En la pràctica 1 es presenten diverses tasques per fer una correcta comparativa dels resultats obtinguts per diversos mètodes de classificació en una mateixa base de dades.\n",
    "\n",
    "En aquesta pràctica es realitzaran sessions de seguiment del treball. Aquestes sessions de treball estan orientades a que els alumnes que vingueu pugueu preguntar i resoldre dubtes sobre les dades, preguntar sobre l'objectiu de cada apartat dels enunciats que no us hagi quedat clar, i preguntar sobre els resultats que esteu obtenint a l'hora d'analitzar les dades. És molt recomanable venir a classe amb el treball fet per tal de poder comentar dubtes.\n",
    "\n",
    "Pel que fa l'entrega, caldrà entregar per caronte el següent:\n",
    "\n",
    "1. Memòria en format PDF explicant els resultats trobats sobre la bases de dades. La memòria ha d'utilitzar la plantilla de LaTeX que podeu trobar al Caronte i ha de ser de com a màxim 3 pàgines.\n",
    "   \n",
    "2. Notebook amb el respectiu codi de python.\n",
    "\n",
    "3. (Opcional) Presentació amb els resultats 4 min màxim."
   ]
  },
  {
   "metadata": {},
   "cell_type": "markdown",
   "source": [
    "# Descripció de la pràctica\n",
    "\n",
    "A continuació es mostren tots els continguts que s'evaluaran en la pràctica:\n",
    "\n",
    "1. EDA (exploratory data analysis) (1 punt):\n",
    "  * Anàlisi de tamany i tipologia de dades\n",
    "  * Primera valoració de correlacions\n",
    "  * Anàlisi atribut target\n",
    "2. Preprocessing (2 punts):\n",
    "  * Eliminació de nans\n",
    "  * Encoding de categòriques\n",
    "  * Altres (PCA, normalització, ...)\n",
    "3. Metric selection (1.5 punts):\n",
    "  * Selecció de la millor mètrica pel problema\n",
    "  * Visualització de ROC/AUC per model base\n",
    "4. Model Selection amb Crossvalidation (4 punts):\n",
    "  * Selecció del millor model\n",
    "  * Cerca d'hiperparàmetres\n",
    "5. Anàlisi final (1.5 punt)\n",
    "\n",
    "La pràctica esta construida a partir d'un seguit de preguntes orientatives en cada apartat les quals tenen relació amb els continguts evaluables. **NO cal contestar-les totes**. Són una guia per a que reflexioneu i aprengueu detalls de cada apartat. És recomanable llegir totes les preguntes abans de realitzar la pràctica i tenir-les en ment a l'hora d'executar-la.\n",
    "\n",
    "\n",
    "**IMPORTANT**: El que es valorarà en la pràctica és la capacitat de mantenir una narrativa coherent alhora que s'expliquen els resultats. No es mirarà tant que alguna pregunta quedi per respondre sinó que els passos seguits en base als resultats obtinguts siguin coherents."
   ]
  },
  {
   "metadata": {},
   "cell_type": "markdown",
   "source": [
    "### 1. EDA (exploratory data analysis) (1 punt)\n",
    "\n",
    "Abans de res cal sempre veure com es la base de dades assignada.\n",
    "\n",
    "**Preguntes:**\n",
    "- Quants atributs té la vostra base de dades?\n",
    "- Quin tipus d'atributs teniu? (Númerics, temporals, categòrics, binaris...)\n",
    "- Com es el target? quantes categories diferents existeixen?\n",
    "- Tenim nans en les dades?\n",
    "- Podeu veure alguna correlació entre X i y?\n",
    "- Estan balancejades les etiquetes (distribució similar entre categories)? Creieu que pot afectar a la classificació la seva distribució?"
   ]
  },
  {
   "metadata": {},
   "cell_type": "markdown",
   "source": "bPrimer, importem la llibreria `pandas` i llegim el fitxer de dades `.csv`."
  },
  {
   "metadata": {},
   "cell_type": "code",
   "source": [
    "import pandas as pd\n",
    "import numpy as np\n",
    "import seaborn as sns\n",
    "import matplotlib.pyplot as plt\n",
    "from tqdm import tqdm\n",
    "\n",
    "df = pd.read_csv(\"./titanic/train.csv\")"
   ],
   "outputs": [],
   "execution_count": null
  },
  {
   "metadata": {},
   "cell_type": "markdown",
   "source": "Podem analitzar els atributs de la base de dades fent servir la comanda `describe()`:"
  },
  {
   "metadata": {},
   "cell_type": "code",
   "source": "df.describe(include=\"all\")",
   "outputs": [],
   "execution_count": null
  },
  {
   "metadata": {},
   "cell_type": "markdown",
   "source": "Observem que la nostra base de dades conté **12 atributs**, dels següents tipus:"
  },
  {
   "metadata": {},
   "cell_type": "code",
   "source": "df.dtypes",
   "outputs": [],
   "execution_count": null
  },
  {
   "metadata": {},
   "cell_type": "markdown",
   "source": [
    "On `int64` és un nombre enter (numèric), `float64` és un nombre decimal (numèric) i `object` és text (es podria considerar una etiqueta o categòrica).\n",
    "\n",
    "Però veiem que podem assignar altres tipus en funció del significat de cada columna:\n",
    "\n",
    "- `PassengerId`: etiqueta: identifica a cada persona\n",
    "- `Survived`: binària: `1`=si o `0`=no\n",
    "- `Pclass`: categòrica: `1`=primera, `2`=segona i `3`=tercera classe\n",
    "- `Name`: etiqueta: identifica a cada persona (potser no de forma única)\n",
    "- `Sex`: categòrica: `female` o `male`\n",
    "- `Age`: numèrica: edat en anys\n",
    "- `SibSp`: numèrica: nombre de germans o parelles en el Titanic\n",
    "- `Parch`: numèrica: nombre de pares o fills en el Titanic\n",
    "- `Ticket`: text: codi del tiquet\n",
    "- `Fare`: numèrica: preu del tiquet\n",
    "- `Cabin`: text: codi de la cabina\n",
    "- `Embarked`: categòrica: port d'embarcació, `C`=Cherbourg, `Q`=Queenstown i `S`=Southampton\n",
    "\n",
    "Per aquest estudi, el target és l'atribut binari `Survived`, que pot prendre dos valors: 0 o 1:"
   ]
  },
  {
   "metadata": {},
   "cell_type": "code",
   "source": "df[\"Survived\"].unique()",
   "outputs": [],
   "execution_count": null
  },
  {
   "metadata": {},
   "cell_type": "markdown",
   "source": [
    "\n",
    "Per analitzar la qualitat de les dades, mirem quantes files tenen dades incompletes."
   ]
  },
  {
   "metadata": {},
   "cell_type": "code",
   "source": "df.isna().sum()",
   "outputs": [],
   "execution_count": null
  },
  {
   "metadata": {},
   "cell_type": "markdown",
   "source": [
    "De les 891 dades, falta el port d'embarcació `Embarked` per a dues persones, l'edat per a 177 i la cabina per a 687.\n",
    "\n",
    "Les dues persones sense port d'embarcació no son molt importants, podríem fins i tot prescindir d'aquestes files. L'edat podria ser un problema, i la cabina, que d'entrada sembla que pot ser la variable explicativa més important, no apareix en la majoria de files."
   ]
  },
  {
   "metadata": {},
   "cell_type": "markdown",
   "source": "Per detectar possibles correlacions en les dades, podem calcular el coeficient de correlació de Pearson entre tots els atributs numèrics i representar-los en una gràfica de calor."
  },
  {
   "metadata": {},
   "cell_type": "code",
   "source": [
    "sns.heatmap(df.corr(numeric_only=True), annot=True)\n",
    "plt.show()"
   ],
   "outputs": [],
   "execution_count": null
  },
  {
   "metadata": {},
   "cell_type": "markdown",
   "source": [
    "Unes quantes observacions (comentarem la correlació només a una de les dues variables):\n",
    "\n",
    "- `PassengerId`: aquesta no té correlació significant amb cap dels altres atributs (com és d'esperar)\n",
    "- `Survived`: obté la seva màxima correlació (inversament) amb `Pclass` i `Fare`: com més gran la classe, més petita la probabilitat de supervivència, i com més car el tiquet, més probabilitat\n",
    "- `Pclass`: correlació inversa amb el preu del tiquet (està clar) i també amb l'edat, és dir els més joves es trobaven a classes més altes\n",
    "- `Age`: relació inversa amb el nombre de germans/parelles i pares/fills, com més joves més germans/parelles i pares/fills\n",
    "- `SibSp`: correlació amb el nombre de pares/fills, com més fills/parelles, més pares/fills\n",
    "- `Parch`: correlació molt petita amb el preu del tiquet\n",
    "\n",
    "Estudiem ara la distribució de les dades amb histogrames per cada atribut numèric (afegim les columnes `Embarked` i `Sex` al gràfic)."
   ]
  },
  {
   "metadata": {},
   "cell_type": "code",
   "source": [
    "cols = list(df.select_dtypes(\"number\")) + [\"Sex\", \"Embarked\"]\n",
    "fig, axes = plt.subplots(3, 3, figsize=(18, 10))\n",
    "axes = axes.flatten()\n",
    "\n",
    "for ax, col in zip(axes, cols):\n",
    "    if df[col].dtype == \"object\":\n",
    "        sns.countplot(x=col, data=df, ax=ax)\n",
    "    else:\n",
    "        df[col].hist(bins=30, ax=ax)\n",
    "    ax.set_title(col)\n",
    "\n",
    "for ax in axes[len(cols):]:\n",
    "    ax.set_visible(False)\n",
    "\n",
    "plt.tight_layout()\n",
    "plt.show()"
   ],
   "outputs": [],
   "execution_count": null
  },
  {
   "metadata": {},
   "cell_type": "markdown",
   "source": [
    "Veiem que la distribució de l'edat té forma bastant normal (la distribució), amb una petita acumulació a edats petites. Les dues variables quantitatives enteres (`SibSp` i `Parch`) tenen més representació per a nombres petits.\n",
    "\n",
    "Mirem amb més detall les distribucions de les altres columnes."
   ]
  },
  {
   "metadata": {},
   "cell_type": "code",
   "source": [
    "for col in [\"Survived\", \"Pclass\", \"Sex\", \"Embarked\"]:\n",
    "    print(f\"{col}:\\n\\t- {\"\\n\\t- \".join([f\"{key}: {value:.2%}\" for key, value in dict(df[col].value_counts(normalize=True)).items()])}\")"
   ],
   "outputs": [],
   "execution_count": null
  },
  {
   "metadata": {},
   "cell_type": "markdown",
   "source": [
    "Tenim representació prou bona per totes les etiquetes, només pel port Queenstown una mica menys, però no és res greu.\n",
    "\n",
    "Ara per ara, creiem que la distribució de les dades no influirà molt en la predicció de les dades, i que no donarà problemes. Faltaria fer una selecció, normalització i processament dels atributs per acabar de concloure si la distribució ens afectarà la predicció final, que és el que farem a la següent secció."
   ]
  },
  {
   "metadata": {},
   "cell_type": "markdown",
   "source": [
    "### 2. Preprocessing (normalitzation, outlier removal, feature selection, ...) (2 punts)\n",
    "Un cop vistes les dades de les que es disposa, cal preparar les dades per als nostres algoritmes. Segons la tipologia de dades, es poden filtrar atributs, aplicar-hi reductors de dimensionalitat, codificar categories textuals en valors numèrics, normalitzar les dades, treure outliers...\n",
    "\n",
    "Navegueu per la [documentació de sklearn sobre preprocessing](https://scikit-learn.org/stable/modules/preprocessing.html) per tal de trobar les diferents opcions que proporciona sklearn.\n",
    "\n",
    "**Preguntes:**\n",
    "* Estan les dades normalitzades? Caldria fer-ho?\n",
    "* En cas que les normalitzeu, quin tipus de normalització serà més adient per a les vostres dades?\n",
    "* Teniu gaires dades sense informació (nans)? Tingueu en compte que hi ha metodes que no els toleren durant l'aprenentatge. Com afecta a la classificació si les filtrem? I si les reompliu? Com ho farieu? [Pista](https://scikit-learn.org/stable/modules/impute.html)\n",
    "* Teniu dades categòriques? Quina seria la codificació amb més sentit?\n",
    "* Podreu treure algun atribut extra de les categòriques (per exemple, aplicant alguna regla sobre el text)?\n",
    "* Caldria aplicar PCA? Quins beneficis o inconvenients trobarieu?\n",
    "* Caldria aplicar alguna tècnica de selecció de variables? Ho trobeu necessari?"
   ]
  },
  {
   "metadata": {},
   "cell_type": "markdown",
   "source": "Llibreries que farem servir en aquesta secció."
  },
  {
   "metadata": {},
   "cell_type": "code",
   "source": [
    "from sklearn.base import BaseEstimator, TransformerMixin\n",
    "from sklearn.preprocessing import StandardScaler, OneHotEncoder\n",
    "from sklearn.impute import KNNImputer\n",
    "from sklearn.preprocessing import FunctionTransformer\n",
    "from sklearn.compose import ColumnTransformer\n",
    "from sklearn.pipeline import Pipeline\n",
    "import pandas as pd"
   ],
   "outputs": [],
   "execution_count": null
  },
  {
   "metadata": {},
   "cell_type": "markdown",
   "source": "A partir de les conclusions extretes de la secció anterior, comencem a fer el preprocessing de tot el dataset. Ja hem vist que tenim moltes dades que falten, sobretot en el cas de l'edat i la cabina."
  },
  {
   "metadata": {},
   "cell_type": "code",
   "source": [
    "nan_count = df.isna().sum()\n",
    "nan_percent = (nan_count / len(df)) * 100\n",
    "nan_info = pd.DataFrame({\n",
    "    \"NaN Count\": nan_count,\n",
    "    \"NaN Percent\": nan_percent\n",
    "})\n",
    "\n",
    "nan_info[nan_info[\"NaN Count\"] > 0]"
   ],
   "outputs": [],
   "execution_count": null
  },
  {
   "metadata": {},
   "cell_type": "markdown",
   "source": "Començant per la cabina: veiem que falta una quantitat de dades molt gran, quasi el 80%. Per tant, seria molt complicat i gens significatiu aplicar qualsevol tipus d'imputació sobre aquesta columna. També observem que és una dada molt rellevant per la supervivència dels passatgers. Si busquem un esquema del Titanic, podem veure que els decks estan organitzats de la següent manera:"
  },
  {
   "metadata": {},
   "cell_type": "markdown",
   "source": [
    "<div>\n",
    "<img src=\"titanic/decks.png\" width=\"500\"/>\n",
    "</div>"
   ]
  },
  {
   "metadata": {},
   "cell_type": "markdown",
   "source": [
    "Per tant, com podem veure les cabines que son del deck G estan a baix de tot del vaixell, i les de l'A son les de més amunt. Creiem que el deck és una dada molt important per predir la supervivència, per tant, l'extraiem a partir del codi de cabina. Veiem que els codis son el deck més un nombre de cabina, sobre el qual no hem pogut trobar més informació.\n",
    "\n",
    "Mirem els decks que surten a la base de dades."
   ]
  },
  {
   "metadata": {},
   "cell_type": "code",
   "source": "sorted(df.loc[df[\"Cabin\"].notna(), \"Cabin\"].str[0].unique())",
   "outputs": [],
   "execution_count": null
  },
  {
   "metadata": {},
   "cell_type": "markdown",
   "source": "Tenim cabines de tots els decks, i del `T`. Investiguem quantes cabines hi ha del deck `T`, que no sabem on és.b"
  },
  {
   "metadata": {},
   "cell_type": "code",
   "source": "df[df[\"Cabin\"].str.contains(\"T\", na=False)]",
   "outputs": [],
   "execution_count": null
  },
  {
   "metadata": {},
   "cell_type": "markdown",
   "source": [
    "Com només és un passatger, considerem que és un error, per tant, marcarem el deck d'aquest passatger com un NaN. Amb totes les altres cabines que falten, marcarem els decks de totes amb la lletra `X` per distingir-les de les cabines normals.\n",
    "\n",
    "Volem poder generalitzar aquest preprocessing a qualsevol dataset, per tant, creem una funció personalitzada que faci aquesta anàlisi de la cabina i la creï la nova columna `Deck` en forma d'un transformer."
   ]
  },
  {
   "metadata": {},
   "cell_type": "code",
   "source": [
    "def extract_deck(dataframe: pd.DataFrame) -> pd.DataFrame:\n",
    "    # Copiar el dataframe\n",
    "    dataframe = dataframe.copy()\n",
    "\n",
    "    # Extreure la primera lletra de la cabina a una nova columna\n",
    "    dataframe[\"Deck\"] = dataframe[\"Cabin\"].str[0]\n",
    "\n",
    "    # Validar els decks existents\n",
    "    valid_decks = {\"A\", \"B\", \"C\", \"D\", \"E\", \"F\", \"G\"}\n",
    "    dataframe[\"Deck\"] = dataframe[\"Deck\"].where(dataframe[\"Deck\"].isin(valid_decks), \"X\")\n",
    "\n",
    "    # Omplir els forats amb \"X\"\n",
    "    dataframe[\"Deck\"] = dataframe[\"Deck\"].fillna(\"X\")\n",
    "\n",
    "    return dataframe\n",
    "\n",
    "# Crear un transformer\n",
    "extract_deck_transformer = FunctionTransformer(extract_deck, validate=False)"
   ],
   "outputs": [],
   "execution_count": null
  },
  {
   "metadata": {},
   "cell_type": "markdown",
   "source": "Podem provar el pipeline fet amb el dataframe que tenim, aplicant-li només aquesta transofrmació."
  },
  {
   "metadata": {},
   "cell_type": "code",
   "source": "extract_deck_transformer.transform(df)",
   "outputs": [],
   "execution_count": null
  },
  {
   "metadata": {},
   "cell_type": "markdown",
   "source": [
    "Veiem que tenim una columna extra: `Deck`.\n",
    "\n",
    "A part d'això, també considerem que és important saber simplement si tenim informació sobre la cabina, observem les proporcions de cabines que falten en funció de la classe."
   ]
  },
  {
   "metadata": {},
   "cell_type": "code",
   "source": "df.groupby(\"Pclass\")[\"Cabin\"].apply(lambda x: x.isna().mean())",
   "outputs": [],
   "execution_count": null
  },
  {
   "metadata": {},
   "cell_type": "markdown",
   "source": "Clarament, la majoria de cabines que tenim son de la classe 1. Per tant, com és una dada rellevant, afegim aquest indicador."
  },
  {
   "metadata": {},
   "cell_type": "code",
   "source": [
    "def indicate_missing_cabin(dataframe: pd.DataFrame, column: str = \"Cabin\") -> pd.DataFrame:\n",
    "    # Copiar el dataframe\n",
    "    dataframe = dataframe.copy()\n",
    "\n",
    "    # Crear una columna que indiqui si Cabin és available o no\n",
    "    dataframe[column + \"__missing\"] = dataframe[column].isna().astype(int)\n",
    "\n",
    "    return dataframe\n",
    "\n",
    "# Crear un transformer\n",
    "indicate_missing_cabin_transformer = FunctionTransformer(indicate_missing_cabin, validate=False)"
   ],
   "outputs": [],
   "execution_count": null
  },
  {
   "metadata": {},
   "cell_type": "markdown",
   "source": "I comprovem que funciona:"
  },
  {
   "metadata": {},
   "cell_type": "code",
   "source": "indicate_missing_cabin_transformer.transform(df)",
   "outputs": [],
   "execution_count": null
  },
  {
   "metadata": {},
   "cell_type": "markdown",
   "source": "Anem a estudiar ara la columna `Embarked`. Sabem que només hi ha dues files, anem a veure-les:b"
  },
  {
   "metadata": {},
   "cell_type": "code",
   "source": "df[df[\"Embarked\"].isna()]",
   "outputs": [],
   "execution_count": null
  },
  {
   "metadata": {},
   "cell_type": "markdown",
   "source": [
    "Sabem que aquesta columna indica el port on ha pujat el passatger, per tant, podríem estimar a quin port ha pujat el passatger mirant els altres passatgers que han pagat un preu similar (òviament considerant la mateixa classe).\n",
    "\n",
    "Per tant, mirem els passatgers amb la mateixa classe i preu similar, considerant més o menys 5 dòlars. Calculem la freqüència absoluta de cada port."
   ]
  },
  {
   "metadata": {},
   "cell_type": "code",
   "source": "df[(df[\"Embarked\"].notna()) & (df[\"Pclass\"] == 1) & (75 <= df[\"Fare\"]) & (df[\"Fare\"] <= 85)][\"Embarked\"].value_counts()",
   "outputs": [],
   "execution_count": null
  },
  {
   "metadata": {},
   "cell_type": "markdown",
   "source": [
    "Veiem que aquests filtres inclouen 29 passatgers, dels quals 16 has pujat al port `C`, Cherbourg.\n",
    "\n",
    "Sembla raonable considerar aquest mini-algoritme per determinar el port d'embarcació més probable. Implementem-lo amb una funció transformer com abans."
   ]
  },
  {
   "metadata": {},
   "cell_type": "code",
   "source": [
    "def impute_embarked(dataframe: pd.DataFrame, tolerance: float = 10.0) -> pd.DataFrame:\n",
    "    # Copiar el dataframe\n",
    "    dataframe = dataframe.copy()\n",
    "\n",
    "    for idx, row in dataframe[dataframe[\"Embarked\"].isna()].iterrows():\n",
    "        pclass = row[\"Pclass\"]\n",
    "        fare = row[\"Fare\"]\n",
    "\n",
    "        # Candidats: mateix Pclass, Fare amb tolerància de +-10\n",
    "        candidates = df[\n",
    "            (df[\"Pclass\"] == pclass) &\n",
    "            (df[\"Embarked\"].notna()) &\n",
    "            (df[\"Fare\"] >= fare - 10) &\n",
    "            (df[\"Fare\"] <= fare + 10)\n",
    "        ]\n",
    "\n",
    "        # Si s'han trobat candidats\n",
    "        if not candidates.empty:\n",
    "            dataframe.at[idx, \"Embarked\"] = candidates[\"Embarked\"].mode()[0]\n",
    "        else:\n",
    "            # Si no s'han trobat candidats, agafar la moda de tot el dataframe\n",
    "            dataframe.at[idx, \"Embarked\"] = dataframe[\"Embarked\"].mode()[0]\n",
    "\n",
    "    return dataframe\n",
    "\n",
    "# Crear un transformer\n",
    "impute_embarked_transformer = FunctionTransformer(impute_embarked, validate=False)"
   ],
   "outputs": [],
   "execution_count": null
  },
  {
   "metadata": {},
   "cell_type": "markdown",
   "source": "Comprovem que funciona, veient que no hi ha cap dada amb el port d'embarcació no disponible."
  },
  {
   "metadata": {},
   "cell_type": "code",
   "source": "impute_embarked_transformer.transform(df)[\"Embarked\"].isna().sum()",
   "outputs": [],
   "execution_count": null
  },
  {
   "metadata": {},
   "cell_type": "markdown",
   "source": [
    "Ara hem de tractar les edats que falten. Representen una cinquena part de les dades, per tant, intentarem imputar fent servir algun algoritme o relació que observem amb els altres atributs.\n",
    "\n",
    "Fem una primera gràfica amb la quantitat de passatgers amb una certa edat separant les classes. En aquest cas, no ens interessa el valor absolut de la quantiat de gent, només la proporció entre cada classe, per tant, indiquem l'opció `fill` per obtenir un sentit de les proporcions per cada franja d'edat."
   ]
  },
  {
   "metadata": {},
   "cell_type": "code",
   "source": [
    "sns.histplot(\n",
    "    data=df,\n",
    "    x=\"Age\",\n",
    "    hue=\"Pclass\",\n",
    "    multiple=\"fill\",\n",
    "    bins=40\n",
    ")\n",
    "\n",
    "plt.xlabel(\"Age\")\n",
    "plt.ylabel(\"Proportion\")\n",
    "plt.title(\"Age distribution by Pclass\")\n",
    "plt.show()"
   ],
   "outputs": [],
   "execution_count": null
  },
  {
   "metadata": {},
   "cell_type": "markdown",
   "source": "Veiem que la classe 1 està centrada més a la dreta, i les classes 2 i 3 més a l'esquerra. Lo important d'aquesta gràfica és que les tres classes no tenen proporcions constants per totes les edats. Mirem ara les mitjanes d'edats per cada classe."
  },
  {
   "metadata": {},
   "cell_type": "code",
   "source": "df.groupby(\"Pclass\")[\"Age\"].mean()",
   "outputs": [],
   "execution_count": null
  },
  {
   "metadata": {},
   "cell_type": "markdown",
   "source": [
    "Veiem que hi ha una diferència important d'edats entre les classes.\n",
    "\n",
    "A partir d'aquesta informació, ja podríem calcular una mediana de les classes, i imputar aquest valor a cada passatger, però pensem que és massa brut fer-ho per una cinquena part del dataset, introduirà molta uniformitat i canviarà la distribució. Com ja hem vist amb el mapa de calor dels coeficients de correlació, l'edat tenia relació amb el nombre de germans/parelles i fills/pares, per tant, considerem que podem treure més informació de les dades que tenim per aconseguir una predicció més ajustada. Pensant en les noves columnes que hem afegit, creiem que podríem expandir les dades que tenim per aconseguir una predicció millor que només la moda. Mirem, per exemple, la distribució en funció de si es té informació de la cabina o no (per això, hem d'aplicar el transformer corresponent a la base de dades)."
   ]
  },
  {
   "metadata": {},
   "cell_type": "code",
   "source": [
    "sns.histplot(\n",
    "    data=indicate_missing_cabin_transformer.transform(df),\n",
    "    x=\"Age\",\n",
    "    hue=\"Cabin__missing\",\n",
    "    multiple=\"fill\",\n",
    "    bins=40\n",
    ")\n",
    "\n",
    "plt.xlabel(\"Age\")\n",
    "plt.ylabel(\"Proportion\")\n",
    "plt.title(\"Age distribution by Missing Cabin Indicator\")\n",
    "plt.show()"
   ],
   "outputs": [],
   "execution_count": null
  },
  {
   "metadata": {},
   "cell_type": "markdown",
   "source": "A més, mirant les freqüències absolutes observem que també hi ha una gran diferència a la quantitat de gent en funció d'aquest indicador. En aquesta gràfica els dos grups (amb, i sense cabina indicada) estan superposats."
  },
  {
   "metadata": {},
   "cell_type": "code",
   "source": [
    "sns.histplot(\n",
    "    data=indicate_missing_cabin_transformer.transform(df),\n",
    "    x=\"Age\",\n",
    "    hue=\"Cabin__missing\",\n",
    "    bins=40\n",
    ")\n",
    "\n",
    "plt.xlabel(\"Age\")\n",
    "plt.ylabel(\"Count\")\n",
    "plt.title(\"Age distribution by Missing Cabin Indicator\")\n",
    "plt.show()"
   ],
   "outputs": [],
   "execution_count": null
  },
  {
   "metadata": {},
   "cell_type": "markdown",
   "source": [
    "Mirem totes les columnes que tenim disponibles (considerant les transformacions ja fetes): `PassengerId`, `Survived`, `Pclass`, `Name`, `Sex`, `Age`, `SibSp`, `Parch`, `Ticket`, `Fare`, `Cabin`, `Embarked`, `Deck`,`Cabin__missing`.\n",
    "\n",
    "Fent un cop d'ull a la columna `Name`, veiem que hi ha noms que contenen tractaments, com \"Mr.\", \"Mrs.\" i \"Master.\". Aquest podrien constituir un molt bon indicador de la seva edat, ja que, per exemple, master es fa servir per nens petits. Mirem tots els tractaments que apareixen (hem de fer servir la funció `extract` amb un regex per extreure el tractament abans del punt), i analitzem quants passatgers tenim per cada un amb, i sense edat."
   ]
  },
  {
   "metadata": {},
   "cell_type": "code",
   "source": [
    "df.groupby(df[\"Name\"].str.extract(r\"(\\w+)\\.\", expand=False))[\"Age\"].agg(\n",
    "    WithAge=lambda x: x.notna().sum(),\n",
    "    MissingAge=lambda x: x.isna().sum()\n",
    ")"
   ],
   "outputs": [],
   "execution_count": null
  },
  {
   "metadata": {},
   "cell_type": "markdown",
   "source": [
    "Veiem que hi ha molts títols que son el mateix escrit de dues formes, només apareixen per a una persona o son similars en significat, així que resumirem aquesta llista a unes categories més generals. Això ho farem en la funció transformer.\n",
    "\n",
    "Tornem a l'anàlisi: agafem per exemple el títol \"Master\", i mirem la mitjana d'edat."
   ]
  },
  {
   "metadata": {},
   "cell_type": "code",
   "source": "df[df[\"Name\"].str.contains(\"Master.\", regex=False)][\"Age\"].mean()",
   "outputs": [],
   "execution_count": null
  },
  {
   "metadata": {},
   "cell_type": "markdown",
   "source": [
    "Clarament, pels passatgers amb títol master imputarem una edat semblant a aquesta, és dir molt petita.\n",
    "\n",
    "Per poder treballar millor amb aquestes tractaments, creem un transformer que afegeixi aquesta columna a la nostra base de dades (fent el resum que comentàvem abans)."
   ]
  },
  {
   "metadata": {},
   "cell_type": "code",
   "source": [
    "def extract_title(dataframe: pd.DataFrame) -> pd.DataFrame:\n",
    "    # Copiar el dataframe\n",
    "    dataframe = dataframe.copy()\n",
    "\n",
    "    # Extreure el tractament i guardar-lo en una nova columna\n",
    "    dataframe[\"Title\"] = dataframe[\"Name\"].str.extract(r\"(\\w+)\\.\", expand=False)\n",
    "\n",
    "    return dataframe\n",
    "\n",
    "# Crear un transformer\n",
    "extract_title_transformer = FunctionTransformer(extract_title, validate=False)"
   ],
   "outputs": [],
   "execution_count": null
  },
  {
   "metadata": {},
   "cell_type": "markdown",
   "source": "Veiem que realment funciona."
  },
  {
   "metadata": {},
   "cell_type": "code",
   "source": "extract_title_transformer.transform(df)[\"Title\"].value_counts()",
   "outputs": [],
   "execution_count": null
  },
  {
   "metadata": {},
   "cell_type": "markdown",
   "source": "I que no té cap cel·la sense títol."
  },
  {
   "metadata": {},
   "cell_type": "code",
   "source": "extract_title_transformer.transform(df)[\"Title\"].isna().sum()",
   "outputs": [],
   "execution_count": null
  },
  {
   "metadata": {},
   "cell_type": "markdown",
   "source": "Pensant intuïtivament, és probable que com més gran sigui la familia de cada individu, més petita serà l'edad mitjana, considerant que la major part son nens. Per tant, proposem una nova columna agregada que, en aquest cas, és simplement la suma del nombre de germans/parelles i pares/fills. Com sempre, creem una funció per dur a terme aquesta transformació."
  },
  {
   "metadata": {},
   "cell_type": "code",
   "source": [
    "def add_family_size(dataframe: pd.DataFrame) -> pd.DataFrame:\n",
    "    # Copiar el dataframe\n",
    "    dataframe = dataframe.copy()\n",
    "\n",
    "    # Extreure els membres de la familia (+1 per aquell passatger)\n",
    "    dataframe[\"FamilySize\"] = dataframe[\"SibSp\"] + dataframe[\"Parch\"] + 1\n",
    "\n",
    "    return dataframe\n",
    "\n",
    "# Crear un transformer\n",
    "add_family_size_transformer = FunctionTransformer(add_family_size, validate=False)"
   ],
   "outputs": [],
   "execution_count": null
  },
  {
   "metadata": {},
   "cell_type": "markdown",
   "source": "Comprovem que funciona correctament."
  },
  {
   "metadata": {},
   "cell_type": "code",
   "source": "add_family_size_transformer.transform(df)",
   "outputs": [],
   "execution_count": null
  },
  {
   "metadata": {},
   "cell_type": "markdown",
   "source": [
    "logistic_regressor_tester.plot_decision_boundary(features=[\"Age\", \"Fare\"])\n",
    "Comprovem ràpidament la nostra hipòtesi mirant només el coeficient de correlació de Pearson (que detecta relació de linealitat entre les dues variables)."
   ]
  },
  {
   "metadata": {},
   "cell_type": "code",
   "source": "df[\"Age\"].corr(add_family_size_transformer.transform(df)[\"FamilySize\"])",
   "outputs": [],
   "execution_count": null
  },
  {
   "metadata": {},
   "cell_type": "markdown",
   "source": [
    "Dona negatiu, com esperàvem, és dir que a més membres en la familia, menor és l'edat. En valor absolut no és gaire convincent, es considera un valor baix, però de moment inclourem aquesta dada per fer la predicció de l'edat.\n",
    "\n",
    "Amb totes les noves features que hem creat en la base de dades, ja podem pensar en com podem predir l'edat per a les persones que no en tenen una indicada. Estem en un cas ideal per fer servir l'algoritme KNN. Té sentit que si dos passatgers estan \"a prop\" en aquest espai multidimensional, tinguin edats similars. Per això, farem servir les variables categòriques títol i deck (que passarem a variables indicadores binàries), les numèriques preu, germans/parelles, pares/fills, membres de la familia i la binària que ens diu si té indicada una cabina.\n",
    "\n",
    "Com aquest algoritme KNN és sensible a l'escala de les variables (ja que tracta amb distàncies), és necessari aplicar una normalització de les dades numèriques abans de començar el procés iteratiu.\n",
    "\n",
    "Implementem tot això a través d'un pipeline que automàticament ens passa les categòriques a binàries, normalitza i prediu les edats (després d'incloure tots els transformers fets anteriorment)."
   ]
  },
  {
   "metadata": {},
   "cell_type": "code",
   "source": [
    "categorical_features = [\"Title\", \"Cabin__missing\", \"Pclass\"]\n",
    "numerical_features = [\"Fare\", \"SibSp\", \"Parch\", \"FamilySize\"]\n",
    "\n",
    "age_preprocessor = ColumnTransformer(\n",
    "    transformers=[\n",
    "        (\"cat\", OneHotEncoder(drop=\"first\", handle_unknown=\"ignore\"), categorical_features),\n",
    "        (\"num\", StandardScaler(), numerical_features),\n",
    "        (\"pred\", \"passthrough\", [\"Age\"])\n",
    "    ]\n",
    ")\n",
    "\n",
    "age_pipeline = Pipeline([\n",
    "    (\"missing_cabin\", indicate_missing_cabin_transformer),\n",
    "    (\"extract_title\", extract_title_transformer),\n",
    "    (\"add_family_size\", add_family_size_transformer),\n",
    "    (\"preprocessor\", age_preprocessor),\n",
    "    (\"imputer\", KNNImputer(n_neighbors=5))\n",
    "])"
   ],
   "outputs": [],
   "execution_count": null
  },
  {
   "metadata": {},
   "cell_type": "markdown",
   "source": "Executem el pipeline i guardem el resultat final per fer unes observacions."
  },
  {
   "metadata": {},
   "cell_type": "code",
   "source": [
    "new_df = pd.DataFrame(age_pipeline.fit_transform(df), columns=age_pipeline.named_steps[\"preprocessor\"].get_feature_names_out())\n",
    "new_df.describe()"
   ],
   "outputs": [],
   "execution_count": null
  },
  {
   "metadata": {},
   "cell_type": "markdown",
   "source": "Mirem, primer, que ara sí tinguem totes les dades sense NaN's (entre les columnes que hem fet servir en el preprocessador pel KNN, per exemple cabines segueix tenint NaN's)."
  },
  {
   "metadata": {},
   "cell_type": "code",
   "source": "new_df.isna().sum().sum()",
   "outputs": [],
   "execution_count": null
  },
  {
   "metadata": {},
   "cell_type": "markdown",
   "source": "Ara comparem les edats mitjanes per títol abans, i després de l'imputament amb el KNN."
  },
  {
   "metadata": {},
   "cell_type": "code",
   "source": [
    "df_titled = extract_title_transformer.transform(df)\n",
    "df_titled[\"Imputed Age\"] = new_df.iloc[:, -1]\n",
    "age_comparison = pd.DataFrame({\n",
    "    \"Original_Age\": df_titled.groupby(\"Title\")[\"Age\"].mean(),\n",
    "    \"Imputed_Age\": df_titled.groupby(\"Title\")[\"Imputed Age\"].mean(),\n",
    "})\n",
    "age_comparison[\"NaN_Count\"] = df_titled.groupby(\"Title\")[\"Age\"].apply(lambda x: x.isna().sum())\n",
    "age_comparison[\"Difference\"] = age_comparison[\"Imputed_Age\"] - age_comparison[\"Original_Age\"]\n",
    "\n",
    "age_comparison"
   ],
   "outputs": [],
   "execution_count": null
  },
  {
   "metadata": {},
   "cell_type": "markdown",
   "source": [
    "Podem observar que l'algoritme KNN ha estat molt fidel amb el que nosaltres esperàvem, que les edats siguin semblants pel mateix títol. Veiem que les mitjanes per honorífic han canviat molt poc.\n",
    "\n",
    "Analitzem també les distribucions de les edats abans i després de l'imputament."
   ]
  },
  {
   "metadata": {},
   "cell_type": "code",
   "source": [
    "plt.hist(df_titled[\"Imputed Age\"], bins=30, alpha=0.5, label=\"Imputed Age\")\n",
    "plt.hist(df_titled[\"Age\"].dropna(), bins=30, alpha=0.5, label=\"Original Age\")\n",
    "plt.xlabel(\"Age\")\n",
    "plt.ylabel(\"Count\")\n",
    "plt.title(\"Histogram of Original vs Imputed Age\")\n",
    "plt.legend()\n",
    "plt.show()"
   ],
   "outputs": [],
   "execution_count": null
  },
  {
   "metadata": {},
   "cell_type": "markdown",
   "source": [
    "Observem que la distribució de les edats imputades segueix prou precisament la forma de les edats originals, per tant donarem aquests resultats per bons.\n",
    "\n",
    "Amb aquesta última anàlisi, acabem de tractar totes les columnes amb informació mancant. Fem un repàs:\n",
    "\n",
    "- `Cabin`: hem extret la columna `Deck` (`extract_deck_transformer`) i hem afegit un indicador `Cabin__missing` per saber si disposem de la dada (`indicate_missing_cabin_transformer`)\n",
    "- `Embark`: hem extret els passatgers de la mateixa classe i preu semblant i hem agafat la moda (`impute_embarked_transformer`)\n",
    "- `Age`: hem vist que `Pclass` i `Cabin__missing` son importants per predir l'edat, hem extret el títol del nom per crear `Title` (`extract_title_transformer`) i la mida de la família a partir dels germans/parelles i pares/fills per crear `FamilySize` (`add_family_size_transformer`), i amb totes aquestes dades hem fet un KNN per predir les edats que faltaven (`age_pipeline`)\n",
    "\n",
    "Com més endavant voldrem enllaçar tots els transformers en una pipeline, millorem el transformer de predicció de l'edat. Ho farem creant una classe custom a partir de les classes base de sklearn, implementant les funcions base `fit` i `transform`."
   ]
  },
  {
   "metadata": {},
   "cell_type": "code",
   "source": [
    "class AgeKNNImputer(BaseEstimator, TransformerMixin):\n",
    "    def __init__(self, n_neighbors=5):\n",
    "        self.n_neighbors = n_neighbors\n",
    "        self.age_features = [\"Fare\", \"SibSp\", \"Parch\", \"FamilySize\", \"Title\", \"Cabin__missing\", \"Pclass\"]\n",
    "        self.ohe = None\n",
    "        self.scaler = None\n",
    "        self.knn = None\n",
    "        self.column_transformer = None\n",
    "        self.feature_names_out_ = None\n",
    "\n",
    "    @staticmethod\n",
    "    def create_necessary_features(dataframe_x: pd.DataFrame) -> pd.DataFrame:\n",
    "        # Crear les features que calen si no hi son\n",
    "        if \"FamilySize\" not in dataframe_x.columns:\n",
    "            dataframe_x = add_family_size_transformer.transform(dataframe_x)\n",
    "        if \"Title\" not in dataframe_x.columns:\n",
    "            dataframe_x = extract_title_transformer.transform(dataframe_x)\n",
    "        if \"Cabin__missing\" not in dataframe_x.columns:\n",
    "            dataframe_x = indicate_missing_cabin_transformer.transform(dataframe_x)\n",
    "\n",
    "        return dataframe_x\n",
    "\n",
    "    def fit(self, dataframe_x, y=None):\n",
    "        # Copiar el dataframe\n",
    "        dataframe_x = dataframe_x.copy()\n",
    "\n",
    "        # Crear les features que no existeixen\n",
    "        dataframe_x = self.create_necessary_features(dataframe_x)\n",
    "\n",
    "        # Features\n",
    "        cat_fts = [\"Title\", \"Cabin__missing\", \"Pclass\"]\n",
    "        num_fts = [\"Fare\", \"SibSp\", \"Parch\", \"FamilySize\"]\n",
    "\n",
    "        # Transformadors\n",
    "        self.column_transformer = ColumnTransformer(\n",
    "            transformers=[\n",
    "                (\"cat\", OneHotEncoder(drop=\"first\", handle_unknown=\"ignore\"), cat_fts),\n",
    "                (\"num\", StandardScaler(), num_fts),\n",
    "                (\"pred\", \"passthrough\", [\"Age\"])\n",
    "            ]\n",
    "        )\n",
    "\n",
    "        # Fit dels transformadors\n",
    "        self.column_transformer.fit(dataframe_x)\n",
    "\n",
    "        # Fit KNNImputer\n",
    "        transformed = self.column_transformer.transform(dataframe_x)\n",
    "        self.knn = KNNImputer(n_neighbors=self.n_neighbors)\n",
    "        self.knn.fit(transformed)\n",
    "\n",
    "        # Guardar els noms de les columnes\n",
    "        cat_features_out = self.column_transformer.named_transformers_[\"cat\"].get_feature_names_out(categorical_features)\n",
    "        self.feature_names_out_ = np.concatenate([cat_features_out, numerical_features, [\"Age\"]])\n",
    "\n",
    "        return self\n",
    "\n",
    "    def transform(self, dataframe_x):\n",
    "        # Copiar el datagram\n",
    "        dataframe_x = dataframe_x.copy()\n",
    "        \n",
    "        # Crear les features que no existeixen\n",
    "        dataframe_x = self.create_necessary_features(dataframe_x)\n",
    "\n",
    "        # Predir l'edat\n",
    "        transformed = self.column_transformer.transform(dataframe_x)\n",
    "        imputed = self.knn.transform(transformed)\n",
    "\n",
    "        # Copiar els resultats\n",
    "        result = dataframe_x.copy()\n",
    "        result[\"Age\"] = imputed[:, -1]\n",
    "\n",
    "        return result"
   ],
   "outputs": [],
   "execution_count": null
  },
  {
   "metadata": {},
   "cell_type": "markdown",
   "source": "Provem si funciona la classe igual que abans."
  },
  {
   "metadata": {},
   "cell_type": "code",
   "source": [
    "age_knn_processor = AgeKNNImputer(n_neighbors=5)\n",
    "age_knn_processor.fit(df)\n",
    "new_df = age_knn_processor.transform(df)\n",
    "new_df.isna().sum()"
   ],
   "outputs": [],
   "execution_count": null
  },
  {
   "metadata": {},
   "cell_type": "markdown",
   "source": [
    "Veiem que retorna les mateixes columnes (els mateixos noms) més totes les auxiliars que es necessiten per fer la predicció. També observem que efectivament no queden valors nul·ls a la columna de les edats.\n",
    "\n",
    "**IMPORTANT**: encara no hem encadenat tots els transformadors, és normal que tinguem embarked i cabines NaN's, en cap moment li hem aplicat el transformador corresponent per treure-les, al final de la secció farem un pipeline general amb totes les funcions.\n",
    "\n",
    "En aquest moment ja tenim transformadors per aprofitar al màxim la informació de totes les columnes.\n",
    "\n",
    "De la columna `Title` recordem que tenim moltes categories, de les quals la majoria son per a només poques persones. Com després haurem de passar aquesta variable a indicadors binaris, no volem tenir la meitat de features que siguin indicadors del títol, per tant, reduïm les categories d'aquesta variable a només unes quantes."
   ]
  },
  {
   "metadata": {},
   "cell_type": "code",
   "source": [
    "def compress_title(dataframe: pd.DataFrame) -> pd.DataFrame:\n",
    "    # Copiar el dataframe\n",
    "    dataframe = dataframe.copy()\n",
    "\n",
    "    # Diccionari de categories\n",
    "    mapping = {\n",
    "        \"Capt\": \"Military\", \"Col\": \"Military\", \"Major\": \"Military\",\n",
    "        \"Don\": \"Nobility\", \"Dona\": \"Nobility\", \"Jonkheer\": \"Nobility\",\n",
    "        \"Lady\": \"Nobility\", \"Sir\": \"Nobility\", \"Countess\": \"Nobility\",\n",
    "        \"Master\": \"Nobility\", \"Miss\": \"Ms\", \"Mlle\": \"Ms\", \"Ms\": \"Ms\",\n",
    "        \"Mrs\": \"Mrs\", \"Mme\": \"Mrs\"\n",
    "    }\n",
    "\n",
    "    # Fer el mapeig\n",
    "    dataframe[\"Title\"] = dataframe[\"Title\"].map(mapping).fillna(dataframe[\"Title\"])\n",
    "\n",
    "    return dataframe\n",
    "\n",
    "compress_title_transformer = FunctionTransformer(compress_title, validate=False)"
   ],
   "outputs": [],
   "execution_count": null
  },
  {
   "metadata": {},
   "cell_type": "markdown",
   "source": "Veiem que funciona."
  },
  {
   "metadata": {},
   "cell_type": "code",
   "source": "compress_title_transformer.transform(extract_title_transformer.transform(df))[\"Title\"].value_counts()",
   "outputs": [],
   "execution_count": null
  },
  {
   "metadata": {},
   "cell_type": "markdown",
   "source": [
    "De la columna del tiquet no hem pogut trobar ni extreure cap informació valuosa per la predicció, així que decidim esborrar-la.\n",
    "\n",
    "Tornem ara a les distribucions de les dades numèriques i categòriques per decidir si tenim outliers o si caldria limitar el domini de cada atribut. Ho fem només ara perquè ara sí que tenim totes les dades que necessitem (sobretot, les edats), i també hem de considerar la columna creada `FamilySize`. La columna `Pclass` no la tindrem en compte perquè ja hem vist que està equilibrada i no hi ha valors extrems.\n",
    "\n",
    "Creem un pipeline ràpid per afegir les columnes que falten i imputar les edats."
   ]
  },
  {
   "metadata": {},
   "cell_type": "code",
   "source": [
    "temp_preprocessor = Pipeline(steps=[\n",
    "    (\"extract_deck\", extract_deck_transformer),\n",
    "    (\"missing_cabin\", indicate_missing_cabin_transformer),\n",
    "    (\"impute_embarked\", impute_embarked_transformer),\n",
    "    (\"extract_title\", extract_title_transformer),\n",
    "    (\"add_family_size\", add_family_size_transformer),\n",
    "    (\"impute_age\", AgeKNNImputer()),\n",
    "    (\"compress_title\", compress_title_transformer),\n",
    "])\n",
    "\n",
    "temp_df = temp_preprocessor.fit_transform(df)"
   ],
   "outputs": [],
   "execution_count": null
  },
  {
   "metadata": {},
   "cell_type": "code",
   "source": [
    "cols = [\"Age\", \"SibSp\", \"Parch\", \"Fare\", \"FamilySize\", \"Deck\", \"Embarked\", \"Title\", \"Cabin__missing\", \"Pclass\"]\n",
    "fig, axes = plt.subplots(4, 3, figsize=(18, 15))\n",
    "axes = axes.flatten()\n",
    "\n",
    "for ax, col in zip(axes, cols):\n",
    "    if temp_df[col].dtype == \"object\":\n",
    "        sns.countplot(x=col, data=temp_df, ax=ax)\n",
    "    else:\n",
    "        temp_df[col].hist(bins=30, ax=ax)\n",
    "    ax.set_title(col)\n",
    "\n",
    "for ax in axes[len(cols):]:\n",
    "    ax.set_visible(False)\n",
    "\n",
    "plt.tight_layout()\n",
    "plt.show()"
   ],
   "outputs": [],
   "execution_count": null
  },
  {
   "metadata": {},
   "cell_type": "markdown",
   "source": "La idea és trobar els valors \"outlier\", o atípics. Podem aconseguir això mirant l'interval interquartílic. Creem un transformador que ens retalli les variables numèriques a 1.5 cops aquest interval i veiem els resultats."
  },
  {
   "metadata": {},
   "cell_type": "code",
   "source": [
    "class IQRTrimmer(BaseEstimator, TransformerMixin):\n",
    "    def __init__(self, factor=1.5):\n",
    "        self.factor = factor\n",
    "        self.bounds_ = {}\n",
    "\n",
    "    def fit(self, X, y=None):\n",
    "        X = pd.DataFrame(X)\n",
    "        for col in X.select_dtypes(include=[np.number]).columns:\n",
    "            q1 = X[col].quantile(0.25)\n",
    "            q3 = X[col].quantile(0.75)\n",
    "            iqr = q3 - q1\n",
    "            lower = q1 - self.factor * iqr\n",
    "            upper = q3 + self.factor * iqr\n",
    "            self.bounds_[col] = (lower, upper)\n",
    "        return self\n",
    "\n",
    "    def transform(self, X):\n",
    "        X = pd.DataFrame(X).copy()\n",
    "        for col, (lower, upper) in self.bounds_.items():\n",
    "            if col in X.columns:\n",
    "                X[col] = X[col].clip(lower=lower, upper=upper)\n",
    "        return X\n",
    "\n",
    "trimmer = IQRTrimmer()\n",
    "temp_df_trimmed = trimmer.fit_transform(temp_df)"
   ],
   "outputs": [],
   "execution_count": null
  },
  {
   "metadata": {},
   "cell_type": "markdown",
   "source": "Repetim les gràfiques amb el nou dataframe."
  },
  {
   "metadata": {},
   "cell_type": "code",
   "source": [
    "cols = [\"Age\", \"SibSp\", \"Parch\", \"Fare\", \"FamilySize\", \"Deck\", \"Embarked\", \"Title\", \"Cabin__missing\", \"Pclass\"]\n",
    "fig, axes = plt.subplots(4, 3, figsize=(18, 15))\n",
    "axes = axes.flatten()\n",
    "\n",
    "for ax, col in zip(axes, cols):\n",
    "    if temp_df_trimmed[col].dtype == \"object\":\n",
    "        sns.countplot(x=col, data=temp_df_trimmed, ax=ax)\n",
    "    else:\n",
    "        temp_df_trimmed[col].hist(bins=30, ax=ax)\n",
    "    ax.set_title(col)\n",
    "\n",
    "for ax in axes[len(cols):]:\n",
    "    ax.set_visible(False)\n",
    "\n",
    "plt.tight_layout()\n",
    "plt.show()"
   ],
   "outputs": [],
   "execution_count": null
  },
  {
   "metadata": {},
   "cell_type": "markdown",
   "source": [
    "Veiem que els resultats no son els esperats. De la columna `Cabin__missing` no volem perdre tota la informació que tenim (que seria posar que tots tenen cabin), per tant, per cada columna farem un tractament diferent:\n",
    "\n",
    "- `Age`: agafarem un threshold aproximat de 65\n",
    "- `Parch` i `SibSp`: limitarem a 0, 1 o 2 (considerant 2 com 2 o més)\n",
    "- `FamilySize`: limitarem a 1, 2, 3 i 4 (considerant 4 com 4 o més)\n",
    "- `Fare`: limitarem al preu aproximate de 100\n",
    "\n",
    "Deixarem les altres variables com estan."
   ]
  },
  {
   "metadata": {},
   "cell_type": "code",
   "source": [
    "def custom_threshold(dataframe: pd.DataFrame) -> pd.DataFrame:\n",
    "    # Copiar el dataframe\n",
    "    dataframe = dataframe.copy()\n",
    "\n",
    "    # Age: threshold a 65\n",
    "    if \"Age\" in dataframe.columns:\n",
    "        dataframe[\"Age\"] = np.where(dataframe[\"Age\"] > 65, 65, dataframe[\"Age\"])\n",
    "\n",
    "    # Parch i SibSp: màxim 2\n",
    "    for col in [\"Parch\", \"SibSp\"]:\n",
    "        if col in dataframe.columns:\n",
    "            dataframe[col] = np.where(dataframe[col] > 2, 2, dataframe[col])\n",
    "\n",
    "    # FamilySize: màxim 4\n",
    "    if \"FamilySize\" in dataframe.columns:\n",
    "        dataframe[\"FamilySize\"] = np.where(dataframe[\"FamilySize\"] > 4, 4, dataframe[\"FamilySize\"])\n",
    "\n",
    "    # Fare: threshold a 100\n",
    "    if \"Fare\" in dataframe.columns:\n",
    "        dataframe[\"Fare\"] = np.where(dataframe[\"Fare\"] > 100, 100, dataframe[\"Fare\"])\n",
    "\n",
    "    return dataframe\n",
    "\n",
    "custom_threshold_transformer = FunctionTransformer(custom_threshold, validate=False)\n",
    "temp_df_threshold = custom_threshold_transformer.transform(temp_df)"
   ],
   "outputs": [],
   "execution_count": null
  },
  {
   "metadata": {},
   "cell_type": "markdown",
   "source": "Analitzem les noves distribucions."
  },
  {
   "metadata": {},
   "cell_type": "code",
   "source": [
    "cols = [\"Age\", \"SibSp\", \"Parch\", \"Fare\", \"FamilySize\"]\n",
    "fig, axes = plt.subplots(4, 3, figsize=(18, 15))\n",
    "axes = axes.flatten()\n",
    "\n",
    "for ax, col in zip(axes, cols):\n",
    "    if temp_df_threshold[col].dtype == \"object\":\n",
    "        sns.countplot(x=col, data=temp_df_threshold, ax=ax)\n",
    "    else:\n",
    "        temp_df_threshold[col].hist(bins=30, ax=ax)\n",
    "    ax.set_title(col)\n",
    "\n",
    "for ax in axes[len(cols):]:\n",
    "    ax.set_visible(False)\n",
    "\n",
    "plt.tight_layout()\n",
    "plt.show()"
   ],
   "outputs": [],
   "execution_count": null
  },
  {
   "metadata": {},
   "cell_type": "markdown",
   "source": [
    "Considerem que les noves distribucions tenen sentit, així que les deixarem per la versió final del dataframe.\n",
    "\n",
    "Els models d'aprenentatge que farem servir només entenen atributs numèrics, així que ens hem de desfer dels que no ho son. Els categòrics (`Sex`, `Embarked`, `Title`, `Deck`) els podrem passar a binaris (també s'accepten com a 0 o 1), així que aquests els deixem. De la columna `Name` ja no en traurem més profit a part del `Title`, així que decidim esborrar aquesta columna del dataset final. Passa igual amb la cabina, ja li hem extret el `Deck` i no podem fer servir cap més informació a part d'aquesta, la decidim esborrar també."
   ]
  },
  {
   "metadata": {},
   "cell_type": "code",
   "source": [
    "def normalize_numerics(df: pd.DataFrame) -> pd.DataFrame:\n",
    "    df = df.copy()\n",
    "    num_cols = [\"Age\", \"SibSp\", \"Parch\", \"Fare\", \"FamilySize\", \"Pclass\"]\n",
    "    df_num = df[num_cols].copy()\n",
    "    for col in num_cols:\n",
    "        mean = df_num[col].mean()\n",
    "        std = df_num[col].std()\n",
    "        df_num[col] = (df_num[col] - mean) / std if std != 0 else 0\n",
    "    other_cols = df.drop(columns=num_cols)\n",
    "    df_final = pd.concat([df_num, other_cols], axis=1)\n",
    "    return df_final\n",
    "\n",
    "normalize_numerics_transformer = FunctionTransformer(normalize_numerics, validate=False)\n",
    "normalized_df = normalize_numerics_transformer.fit_transform(temp_df_threshold)\n",
    "\n",
    "def encode_categoricals(df: pd.DataFrame) -> pd.DataFrame:\n",
    "    df = df.copy()\n",
    "    cat_cols = [\"Sex\", \"Embarked\", \"Deck\", \"Title\"]\n",
    "    df_encoded = pd.get_dummies(df[cat_cols], drop_first=True, dummy_na=False)\n",
    "    other_cols = df.drop(columns=cat_cols)\n",
    "    df_final = pd.concat([df_encoded, other_cols], axis=1)\n",
    "    return df_final\n",
    "\n",
    "encode_categoricals_transformer = FunctionTransformer(encode_categoricals, validate=False)\n",
    "encoded_df = encode_categoricals_transformer.fit_transform(normalized_df)"
   ],
   "outputs": [],
   "execution_count": null
  },
  {
   "metadata": {},
   "cell_type": "markdown",
   "source": "Podem observar les dades normalitzades."
  },
  {
   "metadata": {},
   "cell_type": "code",
   "source": [
    "cols = [\"Age\", \"SibSp\", \"Parch\", \"Fare\", \"FamilySize\", \"Pclass\"]\n",
    "fig, axes = plt.subplots(3, 3, figsize=(18, 10))\n",
    "axes = axes.flatten()\n",
    "\n",
    "for ax, col in zip(axes, cols):\n",
    "    if normalized_df[col].dtype == \"object\":\n",
    "        sns.countplot(x=col, data=normalized_df, ax=ax)\n",
    "    else:\n",
    "        normalized_df[col].hist(bins=30, ax=ax)\n",
    "    ax.set_title(col)\n",
    "\n",
    "for ax in axes[len(cols):]:\n",
    "    ax.set_visible(False)\n",
    "\n",
    "plt.tight_layout()\n",
    "plt.show()"
   ],
   "outputs": [],
   "execution_count": null
  },
  {
   "metadata": {},
   "cell_type": "markdown",
   "source": "Fem un transformer ràpid per eliminar les columnes."
  },
  {
   "metadata": {},
   "cell_type": "code",
   "source": [
    "def drop_column(dataframe, columns):\n",
    "    # Copiar el dataframe\n",
    "    dataframe = dataframe.copy()\n",
    "\n",
    "    # Esborrar les columnes\n",
    "    return dataframe.drop(columns=columns, errors=\"ignore\")\n",
    "\n",
    "drop_cols = {\"columns\": [\"Name\", \"Cabin\", \"Ticket\"]}\n",
    "\n",
    "drop_transformer = FunctionTransformer(drop_column, kw_args=drop_cols, validate=False)"
   ],
   "outputs": [],
   "execution_count": null
  },
  {
   "metadata": {},
   "cell_type": "markdown",
   "source": "Finalment, construïm el pipeline final amb totes les implementacions que hem fet."
  },
  {
   "metadata": {},
   "cell_type": "code",
   "source": [
    "preprocessor = Pipeline(steps=[\n",
    "    (\"extract_deck\", extract_deck_transformer),\n",
    "    (\"missing_cabin\", indicate_missing_cabin_transformer),\n",
    "    (\"impute_embarked\", impute_embarked_transformer),\n",
    "    (\"extract_title\", extract_title_transformer),\n",
    "    (\"add_family_size\", add_family_size_transformer),\n",
    "    (\"impute_age\", AgeKNNImputer()),\n",
    "    (\"compress_title\", compress_title_transformer),\n",
    "    (\"custom_threshold\", custom_threshold_transformer),\n",
    "    (\"normalize\", normalize_numerics_transformer),\n",
    "    (\"encode\", encode_categoricals_transformer),\n",
    "    (\"drop\", drop_transformer),\n",
    "])"
   ],
   "outputs": [],
   "execution_count": null
  },
  {
   "metadata": {},
   "cell_type": "markdown",
   "source": "Apliquem aquest pipeline al dataframe per comprovar que funciona correctament."
  },
  {
   "metadata": {},
   "cell_type": "code",
   "source": [
    "processed_df = preprocessor.fit_transform(df)\n",
    "display(processed_df)\n",
    "display(processed_df.columns)"
   ],
   "outputs": [],
   "execution_count": null
  },
  {
   "metadata": {},
   "cell_type": "markdown",
   "source": "I no obtenim cap cel·la sense valors."
  },
  {
   "metadata": {},
   "cell_type": "code",
   "source": "processed_df.isna().sum().sum()",
   "outputs": [],
   "execution_count": null
  },
  {
   "metadata": {},
   "cell_type": "markdown",
   "source": [
    "Per acabar aquesta secció comentarem dues coses importants: PCA i normalització.\n",
    "\n",
    "La primera: Primary Component Analysis. La utilitat principal d'aquest mètode és reduir la dimensionalitat d'un problema si aquest és molt gran o si pensem que hi ha dimensions que no aporten informació a la predicció. En el nostre cas, no es dona cap de les situacions. La dimensió és relativament petita, i a priori pensem que totes les variables son importants. A més, tenim una explicació molt fàcil i interpretació directa a partir de les quantitats. Aplicar PCA es carregaria aquesta interpretabilitat, potser augmentant lleugerament el temps de còmput (un cop entrenat), però perdrem un gran part del problema que és la interpretació de les dades, bàsicament el treball que hem estat fent en aquestes dues seccions.\n",
    "\n",
    "La segona: Normalització. Quan estem treballant amb algoritmes que fan servir distàncies, és normal aplicar una normalització a tots els atributs per així no donar prioritat a les magnituds que potser simplement estan en una altra escala. Per evitar això, normalment s'agafen totes les dades i se les aplica una transformació lineal per centrar-les al zero i amb variació 1. Aquesta és la Standard, la més normal. També hi ha la MinMax, que porta tot el rang de valor a un altre interval desitjat. Com estem treballant amb pipelines i ja tenim funcions implementades per fer aquestes normalitzacions, és molt fàcil afegir o treure-les quan vulguem. Sabem que per alguns mètodes està bé conservar la magnitud (en general és igual), així que, de moment, deixarem les dades amb les magnituds reals i després, per cada model, afegirem una línia que aplicarà la normalització abans."
   ]
  },
  {
   "metadata": {},
   "cell_type": "markdown",
   "source": [
    "### 3. Metric selection (1.5 punts)\n",
    "En aquest apartat ens centrarem en les mètriques de classificació ([documentació](https://scikit-learn.org/stable/modules/model_evaluation.html#classification-metrics)). Per a fer-ho, entreneu una regressio logistica i a partir d'aquesta generarem una serie de funcions per analitzar els nostres resultats. Aquestes funcions ens serviran més endavant. Caldrà tambe triar la mètrica que farem servir després per triar el millor model.\n",
    "\n",
    "**Preguntes:**\n",
    "* A teoria, hem vist el resultat d'aplicar el `accuracy_score` sobre dades no balancejades. Podrieu explicar i justificar quina de les següents mètriques será la més adient pel vostre problema? `accuracy_score`, `f1_score` o `average_precision_score`?\n",
    "* Abans de començar a entrenar models, genereu una suite de funcions per poder analitzar graficament com esta anant el vostre model. Mostreu la Precisió-Recall Curve i la ROC Curve. Quina és més rellevant pel vostre dataset?\n",
    "* Què mostra [classification_report](https://scikit-learn.org/stable/modules/generated/sklearn.metrics.classification_report.html)? Quina mètrica us fixareu per tal de optimitzar-ne la classificació pel vostre cas?\n",
    "\n",
    "**Nota**: Fixeu-vos que en aquest apartat NO ES VALOREN ELS RESULTATS. L'únic que es valora és l'elecció de la mètrica de classificació així com saber quin tipus de gràfiques fer per analitzar els resultats. Abans de solucionar un problema cal tenir molt clar la mètrica d'error que es farà servir, i és una decisió que cal pendre de forma prèvia a entrenar models."
   ]
  },
  {
   "metadata": {},
   "cell_type": "markdown",
   "source": [
    "- Accuracy: Percentatge de prediccions correctes sobre el total.\n",
    "- Precision: Proporció de prediccions positives que són realment positives (TP / (TP + FP)).\n",
    "- Recall (True Positive Rate, TPR): Proporció de positius reals que el model detecta respecte a la realitat de positius (TP / (TP + FN)).\n",
    "- F1-score: Mitjana harmònica entre precision i recall (equilibri).\n",
    "- Precision-Recall Curve: Gràfic que mostra com canvien precision i recall segons el llindar.\n",
    "    - Eixos: X = Recall, Y = Precision\n",
    "    - Mostra trade-off entre detectar positius i evitar falsos positius.\n",
    "    - Cada punt = un llindar diferent.\n",
    "    - Molt útil amb classes desequilibrades.\n",
    "    - Àrea sota corba = Average Precision (AP)\n",
    "- ROC Curve: Gràfic de True Positive Rate (Recall) vs False Positive Rate a diferents llindars, per cada llindar, es calcula TPR i FPR.\n",
    "    - Eixos: X = FPR (False Positive Rate), Y = TPR (Recall)\n",
    "    - Mostra com canvia TPR respecte a FPR segons el llindar.\n",
    "    - Cada punt = un llindar diferent.\n",
    "    - Útil amb classes equilibrades.\n",
    "    - Àrea sota corba = ROC-AUC (mesura la capacitat de separar positives i negatives).\n",
    "- Threshold en la gràfica: Valor de decisió per classificar una mostra com positiva si la probabilitat estimada és superior o igual a aquest llindar, així havent-hi a la gràfica tants punts com thresholds. Per tant, si tinguéssim una mica menys de probabilitat, per aquell threshold, la mostra es classificaria com negativa. I fixat si fixéssim el threshold una mica menor, obtindríem un punt diferent de la gràfica associat a aquest nou threshold."
   ]
  },
  {
   "metadata": {},
   "cell_type": "code",
   "source": [
    "from sklearn.linear_model import LogisticRegression\n",
    "from sklearn.decomposition import PCA\n",
    "from itertools import combinations\n",
    "from sklearn.model_selection import train_test_split\n",
    "from sklearn.model_selection import train_test_split, GridSearchCV\n",
    "from sklearn.metrics import (\n",
    "    accuracy_score, precision_score, recall_score,\n",
    "    f1_score, roc_auc_score, roc_curve,\n",
    "    precision_recall_curve, average_precision_score,\n",
    "    confusion_matrix, ConfusionMatrixDisplay,\n",
    "    classification_report\n",
    ")"
   ],
   "outputs": [],
   "execution_count": null
  },
  {
   "metadata": {},
   "cell_type": "code",
   "source": [
    "X = processed_df[[col for col in processed_df.columns if col != \"Survived\"]]\n",
    "y = processed_df[\"Survived\"]\n",
    "\n",
    "X_train, X_test, y_train, y_test = train_test_split(X, y, test_size=0.2, random_state=1)\n",
    "\n",
    "lr_model = LogisticRegression(random_state=42, max_iter=1000)\n",
    "lr_model.fit(X_train, y_train)\n",
    "\n",
    "# Prediccions\n",
    "y_pred = lr_model.predict(X_test)\n",
    "y_pred_proba = lr_model.predict_proba(X_test)[:, 1]\n",
    "\n",
    "accuracy = accuracy_score(y_test, y_pred)\n",
    "f1 = f1_score(y_test, y_pred)\n",
    "avg_precision = average_precision_score(y_test, y_pred_proba)\n",
    "\n",
    "print(f\"\\nResultats amb el model base:\")\n",
    "print(f\"   • Accuracy Score:          {accuracy:.4f}\")\n",
    "print(f\"   • F1 Score:                {f1:.4f}\")\n",
    "print(f\"   • Average Precision Score: {avg_precision:.4f}\")\n",
    "\n",
    "print(classification_report(y_test, y_pred))"
   ],
   "outputs": [],
   "execution_count": null
  },
  {
   "metadata": {},
   "cell_type": "markdown",
   "source": "Amb el model entrenat, podem avaluar les mètriques en qüestió, però no podem escollir quines mètriques són més adequades sense conèixer la distribució de les classes en el dataset, i què es vol prioritzar."
  },
  {
   "metadata": {},
   "cell_type": "code",
   "source": [
    "class_distribution = y.value_counts(normalize=True)\n",
    "majority_class = class_distribution.max()\n",
    "minority_class = class_distribution.min()\n",
    "imbalance_ratio = majority_class / minority_class\n",
    "\n",
    "print(f\"Distribució de classes:\")\n",
    "print(f\"   Classe 0 (No sobreviu): {class_distribution[0]:.2%}\")\n",
    "print(f\"   Classe 1 (Sobreviu):    {class_distribution[1]:.2%}\")\n",
    "print(f\"\\nRàtio de desequilibri: {imbalance_ratio:.2f}:1\")"
   ],
   "outputs": [],
   "execution_count": null
  },
  {
   "metadata": {},
   "cell_type": "markdown",
   "source": [
    "Amb un ràtio de 1.61:1, el dataset NO està severament desequilibrat, però SÍ té un biaix cap a la classe majoritària (No sobreviu, 0). Això afectarà la selecció de mètriques de la següent manera:\n",
    "\n",
    "1. Accuracy: Pot ser enganyosa en datasets desequilibrats.\n",
    "   Al Titanic, encara que no és extremadament desequilibrat, hi ha més morts que supervivents.\n",
    "   Així que un model que prediu gairebé sempre \"mor\" tindria bona accuracy, però seria inútil per detectar els supervivents. Per això no l'hem triada.\n",
    "\n",
    "2. Precision i Recall: Són més informatives per avaluar el rendiment en la classe minoritària (\"Sobreviu\", 1).\n",
    "   - Precision mira quants dels supervivents predits realment sobreviuen (minimitzar falsos positius).\n",
    "   - Recall mira quants dels supervivents reals hem detectat (minimitzar falsos negatius).\n",
    "   Per comparar models cal un equilibri entre ambdues, així que tampoc les hem triades soles.\n",
    "\n",
    "3. Average Precision Score: Resumeix tota la Precision-Recall curve.\n",
    "   És més útil quan el model retorna probabilitats i hi ha molts casos positius escassos.\n",
    "   En aquest cas, com les classes no són extremadament desequilibrades i volem un valor senzill per comparar models, no l’hem triada.\n",
    "\n",
    "4. ROC-AUC ((X,Y)=(FPR,TPR)): També resumeix la capacitat del model per separar classes.\n",
    "   Però és menys informativa que la Precision-Recall curve en casos desequilibrats, ja que pot donar una falsa sensació de bon rendiment quan hi ha molts negatius, ja que el FPR = FP / FP + TN pot ser baix simplement perquè hi ha molts negatius i per tant, TN.\n",
    "\n",
    "5. F1-score: Combina Precision i Recall en una mitjana harmònica, equilibrant la capacitat de detectar supervivents (recall) i no predir falsament supervivents (precision). Per això, hem triat l'F1-score com a mètrica principal per avaluar els models.\n",
    "\n",
    "Sabent això, generem la suite de funcions per visualització a continuació."
   ]
  },
  {
   "metadata": {},
   "cell_type": "code",
   "source": [
    "class ModelTester:\n",
    "    def __init__(self, model_class = None, dataframe: pd.DataFrame = None, explanatory: str = \"Survived\", test_size: float = 0.2, random_state=1, name=None, **model_kwargs):\n",
    "        self.name = name\n",
    "        self.dataframe = dataframe\n",
    "        self.explanatory = explanatory\n",
    "        self.X = dataframe[[col for col in dataframe.columns if col != explanatory]]\n",
    "        self.y = dataframe[self.explanatory]\n",
    "        self.model_class = model_class\n",
    "        self.model_kwargs = model_kwargs\n",
    "        self.X_train, self.X_test, self.y_train, self.y_test = train_test_split(\n",
    "            self.X, self.y, test_size=test_size, random_state=random_state\n",
    "        )\n",
    "        self.model = None\n",
    "        self.y_pred = None\n",
    "        self.y_pred_probs = None\n",
    "        self.metrics = {}\n",
    "\n",
    "    def fit(self):\n",
    "        self.model = self.model_class(**self.model_kwargs)\n",
    "        self.model.fit(self.X_train, self.y_train)\n",
    "        return self\n",
    "\n",
    "    def predict(self, threshold=0.5):\n",
    "        if self.model is None:\n",
    "            self.fit()\n",
    "        if hasattr(self.model, \"predict_proba\"):\n",
    "            self.y_pred_probs = self.model.predict_proba(self.X_test)[:,1]\n",
    "            self.y_pred = (self.y_pred_probs >= threshold).astype(int)\n",
    "        else:\n",
    "            self.y_pred = self.model.predict(self.X_test)\n",
    "            self.y_pred_probs = self.y_pred\n",
    "        return self.y_pred\n",
    "\n",
    "    def evaluate(self):\n",
    "        if self.y_pred is None:\n",
    "            self.predict()\n",
    "        self.metrics = {\n",
    "            \"accuracy\": accuracy_score(self.y_test, self.y_pred),\n",
    "            \"precision\": precision_score(self.y_test, self.y_pred),\n",
    "            \"recall\": recall_score(self.y_test, self.y_pred),\n",
    "            \"f1\": f1_score(self.y_test, self.y_pred),\n",
    "            \"auc_roc\": roc_auc_score(self.y_test, self.y_pred_probs),\n",
    "            \"auc_pr\": average_precision_score(self.y_test, self.y_pred_probs),\n",
    "        }\n",
    "        return self.metrics\n",
    "\n",
    "    def confusion_matrix(self):\n",
    "        return confusion_matrix(self.y_test, self.y_pred)\n",
    "\n",
    "    def plot_roc(self, ax=None):\n",
    "        if self.y_pred_probs is None:\n",
    "            self.predict()\n",
    "        fpr, tpr, _ = roc_curve(self.y_test, self.y_pred_probs)\n",
    "        if ax is None:\n",
    "            fig, ax = plt.subplots()\n",
    "        ax.plot(fpr, tpr, color=\"darkorange\", lw=2)\n",
    "        ax.plot([0, 1], [0, 1], color=\"navy\", lw=2, linestyle=\"--\")\n",
    "        ax.set_xlabel(\"False Positive Rate\")\n",
    "        ax.set_ylabel(\"True Positive Rate\")\n",
    "        ax.set_title(f\"{self.name + ': ' if self.name else ''}ROC Curve (AUC: {self.metrics.get('auc_roc', 0):.4f})\")\n",
    "\n",
    "    def plot_pr(self, ax=None):\n",
    "        if self.y_pred_probs is None:\n",
    "            self.predict()\n",
    "        prec, recall, _ = precision_recall_curve(self.y_test, self.y_pred_probs)\n",
    "        base = np.mean(self.y_test)\n",
    "        if ax is None:\n",
    "            fig, ax = plt.subplots()\n",
    "        ax.plot(recall, prec, color=\"darkorange\", lw=2)\n",
    "        ax.plot([0, 1], [base, base], color=\"navy\", lw=2, linestyle=\"--\")\n",
    "        ax.set_xlabel(\"Recall\")\n",
    "        ax.set_ylabel(\"Precision\")\n",
    "        ax.set_title(f\"{self.name + ': ' if self.name else ''}Precision-Recall Curve (AUC: {self.metrics.get('auc_pr', 0):.4f})\")\n",
    "\n",
    "    def plot_confusion_matrix(self, ax=None):\n",
    "        if self.y_pred is None:\n",
    "            self.predict()\n",
    "        cm = confusion_matrix(self.y_test, self.y_pred)\n",
    "        if ax is None:\n",
    "            fig, ax = plt.subplots()\n",
    "        disp = ConfusionMatrixDisplay(confusion_matrix=cm)\n",
    "        disp.plot(ax=ax, cmap=\"Blues\", values_format=\"d\")\n",
    "        ax.set_title(f\"{self.name + ': ' if self.name else ''}Confusion Matrix\")\n",
    "        \n",
    "    def plot_decision_boundary(self, title=None, labels=None, features=None):\n",
    "        if self.model is None:\n",
    "            self.fit()\n",
    "\n",
    "        use_pca = False\n",
    "\n",
    "        # Si passem features cal entrenar un nou model amb 2 variables\n",
    "        if features is not None and len(features) == 2:\n",
    "            print(f\"reduint a 2 dimensions utilitzant les variables {features}\")\n",
    "            X_2d = self.X_test[features].values\n",
    "            temp_model = self.model_class(**self.model_kwargs)\n",
    "            temp_model.fit(self.X_train[features], self.y_train)\n",
    "            model_to_use = temp_model\n",
    "\n",
    "        # Pca crea 2 variables noves que son combinacions lineals de totes les del model\n",
    "        elif self.X_test.shape[1] > 2:\n",
    "            print(f\"{self.X_test.shape[1]} variables trobades — reduint a 2 dimensions amb PCA per visualització.\")\n",
    "            pca = PCA(n_components=2)\n",
    "            X_2d = pca.fit_transform(self.X_test)\n",
    "            use_pca = True\n",
    "            model_to_use = self.model\n",
    "        else:\n",
    "            X_2d = self.X_test.values\n",
    "            model_to_use = self.model\n",
    "\n",
    "        # Malla de punts\n",
    "        h = 0.02\n",
    "        x_min, x_max = X_2d[:, 0].min() - 1, X_2d[:, 0].max() + 1\n",
    "        y_min, y_max = X_2d[:, 1].min() - 1, X_2d[:, 1].max() + 1\n",
    "        xx, yy = np.meshgrid(np.arange(x_min, x_max, h), np.arange(y_min, y_max, h))\n",
    "\n",
    "        # Prediccions\n",
    "        if use_pca:\n",
    "            Z = model_to_use.predict(pca.inverse_transform(np.c_[xx.ravel(), yy.ravel()]))\n",
    "        else:\n",
    "            Z = model_to_use.predict(np.c_[xx.ravel(), yy.ravel()])\n",
    "        Z = Z.reshape(xx.shape)\n",
    "\n",
    "        plt.figure(figsize=(8, 6))\n",
    "        plt.contourf(xx, yy, Z, alpha=0.3, cmap=plt.cm.coolwarm)\n",
    "\n",
    "        if labels and len(labels) == 2:\n",
    "            legend_labels = labels\n",
    "        else:\n",
    "            legend_labels = [\"Classe 0\", \"Classe 1\"]\n",
    "        plt.scatter(X_2d[self.y_test == 0, 0], X_2d[self.y_test == 0, 1],\n",
    "                    c='blue', edgecolors='k', label=legend_labels[0])\n",
    "        plt.scatter(X_2d[self.y_test == 1, 0], X_2d[self.y_test == 1, 1],\n",
    "                    c='red', edgecolors='k', label=legend_labels[1])\n",
    "        plt.legend()\n",
    "\n",
    "        if use_pca:\n",
    "            plt.xlabel(\"Component 1 (PCA)\")\n",
    "            plt.ylabel(\"Component 2 (PCA)\")\n",
    "        elif features and len(features) == 2:\n",
    "            plt.xlabel(features[0])\n",
    "            plt.ylabel(features[1])\n",
    "        else:\n",
    "            plt.xlabel(self.X.columns[0])\n",
    "            plt.ylabel(self.X.columns[1])\n",
    "\n",
    "        if title:\n",
    "            plt.title(title)\n",
    "        plt.show()\n",
    "\n",
    "    def summary(self):\n",
    "        if not self.metrics:\n",
    "            self.evaluate()\n",
    "        for k, v in self.metrics.items():\n",
    "            print(f\"{k:12s}: {v:.4f}\")\n",
    "\n",
    "    def grid_search(self, param_grid, scoring=\"f1\", cv=10):\n",
    "        grid = GridSearchCV(self.model_class(**self.model_kwargs), param_grid, scoring=scoring, cv=cv, n_jobs=-1)\n",
    "        grid.fit(self.X_train, self.y_train)\n",
    "        print(f\"Best params: {grid.best_params_}\")\n",
    "        print(f\"Best score: {grid.best_score_:.4f}\")\n",
    "        self.model = grid.best_estimator_\n",
    "        self.model.fit(self.X_train, self.y_train)\n",
    "        return grid\n",
    "\n",
    "    def refit(self, **new_kwargs):\n",
    "        self.model_kwargs.update(new_kwargs)\n",
    "        return self.fit()"
   ],
   "outputs": [],
   "execution_count": null
  },
  {
   "metadata": {},
   "cell_type": "markdown",
   "source": [
    "Amb aquest codi podem generar les gràfiques i mètriques per avaluar el model entrenat. Ara bé, per què ens interessen aquestes gràfiques si ja tenim la mètrica que ens interessa?\n",
    "\n",
    "La mètrica F1 depèn del llindar de classificació i el que normalment fem és provar diversos llindars per trobar aquell que maximitza el F1; per tant, el F1 “màxim” és el millor que podem aconseguir canviant el llindar. En canvi, les mètriques globals com l’AUC-ROC i l’Average Precision (AP) no depenen d’un llindar concret, sinó que mesuren la qualitat del model a través de tots els llindars possibles, oferint una visió completa del rendiment. Així ajuda a entendre com de bo és el model globalment i a triar un llindar òptim, evitant conclusions enganyoses que podrien sorgir si només et fixes en un llindar fix."
   ]
  },
  {
   "metadata": {},
   "cell_type": "code",
   "source": [
    "logistic_regressor_tester = ModelTester(LogisticRegression, processed_df, max_iter=1000)\n",
    "\n",
    "logistic_regressor_tester.evaluate()\n",
    "\n",
    "logistic_regressor_tester.plot_roc()\n",
    "logistic_regressor_tester.plot_pr()\n",
    "logistic_regressor_tester.plot_confusion_matrix()"
   ],
   "outputs": [],
   "execution_count": null
  },
  {
   "metadata": {},
   "cell_type": "markdown",
   "source": "Provem també el gràfic de la frontera de decisió amb PCA i indicant, per exemple, l'edat i el preu del tiquet."
  },
  {
   "metadata": {},
   "cell_type": "code",
   "source": "logistic_regressor_tester.plot_decision_boundary()",
   "outputs": [],
   "execution_count": null
  },
  {
   "metadata": {},
   "cell_type": "code",
   "source": "logistic_regressor_tester.plot_decision_boundary(features=[\"Age\", \"Fare\"])",
   "outputs": [],
   "execution_count": null
  },
  {
   "metadata": {},
   "cell_type": "markdown",
   "source": [
    "El classification_report mostra diverses mètriques per cada classe i globalment:\n",
    "- Precision: de totes les prediccions positives, quantes són correctes.\n",
    "  Exemple: Sobreviu precision = 0.77 → del total de prediccions “Sobreviu”, el 77% són correctes.\n",
    "- Recall (sensibilitat): de tots els positius reals, quants detectem.\n",
    "  Exemple: Sobreviu recall = 0.74 → detectem el 74% dels supervivents reals.\n",
    "- F1-score: mitjana harmònica de precision i recall, equilibra detectar positius sense generar massa falsos positius.\n",
    "  Exemple: Sobreviu F1 = 0.76 → resumeix el rendiment sobre aquesta classe minoritària.\n",
    "- Support: nombre de mostres reals d’aquesta classe. Exemple: 69 supervivents.\n",
    "- Accuracy: proporció total de prediccions correctes (0.82).\n",
    "- Macro avg: mitjana simple de les mètriques per classe.\n",
    "- Weighted avg: mitjana ponderada pel nombre de mostres de cada classe.\n",
    "\n",
    "En termes pràctics i morals, ens interessa prioritzar el recall de la classe positiva (Sobreviu),\n",
    "ja que volem minimitzar falsos negatius i no deixar fora persones que realment sobreviuen.\n",
    "És a dir, optem per prioritzar en detectar tots els supervivents i ajustem el threshold si cal (baixant-lo,\n",
    "acceptant alguns FP per maximitzar la seguretat moral del nostre model abans que trobar-nos més FN.\n",
    "\n",
    "\n",
    "Per optimitzar la classificació del nostre cas, ens fixem especialment en:\n",
    "- Recall de la classe positiva → captar la majoria de supervivents.\n",
    "- Average Precision / F1-score → equilibrar que no hi hagi massa falsos positius."
   ]
  },
  {
   "metadata": {},
   "cell_type": "markdown",
   "source": [
    "### 4. Model Selection amb validació creuada (4 punts)\n",
    "\n",
    "Fent servir la mètrica trobada en l'apartat anterior, en aquest apartat caldrà seleccionar una sèrie de models i, fent ús de la validació creuada, seleccionar el millor model amb els seus respectius millors hyperpàrametres que haurem buscat fent hyperparameter search.\n",
    "\n",
    "La tasca d'aquesta pràctica s'enmarca dins l'aprenentatge computacional **supervisat**. A sklearn, disposem de diverses tècniques [(veure documentació)](https://scikit-learn.org/stable/supervised_learning.html). A les classes de teoria, hem vist tècniques com ara logistic regression, SVM amb diferents kernels, Nearest Neighbour... i també coneixeu altres tecniques d'altres cursos, com els arbres de decisio. Per aquest apartat es demana seleccionar **un minim de 3 models**.\n",
    "\n",
    "**Preguntes:**\n",
    "* Quins models heu considerat? Per què els heu seleccionat?\n",
    "* Fent servir validació creuada, escolliu el millor model (agafant els hiperparàmetres per defecte). Recordeu fer servir la mètrica utilitzada en l'apartat anterior i fer fer servir algun [tipus de validacio creuada](https://scikit-learn.org/stable/modules/cross_validation.html).\n",
    "\n",
    "* Seleccioneu una sèrie d'hiperparàmetres a provar per cadascun dels models i realitzeu una cerca d'hiperparàmetres. Hi ha algun model que creieu que podeu descartar de primeres? Per què?\n",
    "\n",
    "* Mostreu els resultats en una taula on es mostri el model, els experiments realitzats i els resultats obtinguts (tant en train com en test). Podeu mostrar tambe el temps d'entrenament de cada model.\n",
    "\n",
    "* Quin tipus de validació heu escollit en la selecció de models?\n",
    "\n",
    "* Quines formes de buscar els millors hiperparàmetres heu trobat? Són costoses computacionalment parlant? [documentació](https://scikit-learn.org/stable/modules/grid_search.html). Quina heu seleccionat?\n",
    "\n",
    "* Si disposem de recursos limitats (per exemple, un PC durant 1 hora), quin dels mètodes creieu que obtindrà millor resultat final?\n",
    "\n",
    "* Opcional: Feu la prova, i amb el model i el metode de validació creuada escollit, configureu els diferents mètodes de cerca per a que s'executin durant el mateix temps (i.e. depenent del problema, 0,5h-1 hora). Analitzeu quin ha arribat a una millor solució. (Ajuda: estimeu el temps que trigarà a fer 1 training el vostre model, i així trobeu el número de intents que podeu fer en cada cas.)"
   ]
  },
  {
   "metadata": {},
   "cell_type": "markdown",
   "source": "Llibreries que necessitem en aquesta secció."
  },
  {
   "metadata": {},
   "cell_type": "code",
   "source": [
    "from sklearn.linear_model import LogisticRegression, Perceptron, SGDClassifier\n",
    "from sklearn.neighbors import KNeighborsClassifier\n",
    "from sklearn.svm import SVC, LinearSVC\n",
    "from sklearn.ensemble import RandomForestClassifier, ExtraTreesClassifier, GradientBoostingClassifier\n",
    "from sklearn.naive_bayes import GaussianNB\n",
    "from sklearn.neural_network import MLPClassifier"
   ],
   "outputs": [],
   "execution_count": null
  },
  {
   "metadata": {},
   "cell_type": "markdown",
   "source": "Els models que provarem son els següents:"
  },
  {
   "metadata": {},
   "cell_type": "code",
   "source": [
    "LOGISTIC_REGRESSION = \"Logistic Regression\"\n",
    "KNN = \"KNN\"\n",
    "GRADIENT_DESCENT = \"Gradient Descent\"\n",
    "RANDOM_FOREST = \"Random Forest\"\n",
    "EXTRA_TREES = \"Extra Trees\"\n",
    "SUPPORT_VECTOR_MACHINE = \"Support Vector Machine\"\n",
    "LINEAR_SVC = \"LinearSVC\"\n",
    "GRADIENT_BOOSTING = \"Gradient Boosting\"\n",
    "NAIVE_BAYES = \"Naive Bayes\"\n",
    "PERCEPTRON = \"Perceptron\"\n",
    "STOCHASTIC_GRADIENT_DESCENT = \"Stochastic Gradient Descent\"\n",
    "NEURAL_NETWORK = \"Neural Network\""
   ],
   "outputs": [],
   "execution_count": null
  },
  {
   "metadata": {},
   "cell_type": "markdown",
   "source": "Per cada tipus de model, tenim la classe i alguns paràmetres que deixarem per defecte en cada cas. Més endavant, quan farem optimització d'hiperparàmetres trobaren els valors òptims en cada cas."
  },
  {
   "metadata": {},
   "cell_type": "code",
   "source": [
    "models = {\n",
    "    LOGISTIC_REGRESSION: {\n",
    "        \"model_class\": LogisticRegression,\n",
    "        \"dataframe\": processed_df,\n",
    "        \"max_iter\": 10000,\n",
    "    },\n",
    "    KNN: {\n",
    "        \"model_class\": KNeighborsClassifier,\n",
    "        \"dataframe\": processed_df,\n",
    "    },\n",
    "    GRADIENT_DESCENT: {\n",
    "        \"model_class\": SGDClassifier,\n",
    "        \"dataframe\": processed_df,\n",
    "        \"max_iter\": 10000,\n",
    "        \"tol\": 1e-3\n",
    "    },\n",
    "    RANDOM_FOREST: {\n",
    "        \"model_class\": RandomForestClassifier,\n",
    "        \"dataframe\": processed_df,\n",
    "        \"n_estimators\": 100\n",
    "    },\n",
    "    EXTRA_TREES: {\n",
    "        \"model_class\": ExtraTreesClassifier,\n",
    "        \"dataframe\": processed_df,\n",
    "        \"n_estimators\": 100,\n",
    "        \"random_state\": 1\n",
    "    },\n",
    "    SUPPORT_VECTOR_MACHINE: {\n",
    "        \"model_class\": SVC,\n",
    "        \"dataframe\": processed_df,\n",
    "        \"probability\": True\n",
    "    },\n",
    "    LINEAR_SVC: {\n",
    "        \"model_class\": LinearSVC,\n",
    "        \"dataframe\": processed_df,\n",
    "        \"max_iter\": 10000\n",
    "    },\n",
    "    GRADIENT_BOOSTING: {\n",
    "        \"model_class\": GradientBoostingClassifier,\n",
    "        \"dataframe\": processed_df,\n",
    "        \"n_estimators\": 100\n",
    "    },\n",
    "    NAIVE_BAYES: {\n",
    "        \"model_class\": GaussianNB,\n",
    "        \"dataframe\": processed_df,\n",
    "    },\n",
    "    PERCEPTRON: {\n",
    "        \"model_class\": Perceptron,\n",
    "        \"dataframe\": processed_df,\n",
    "        \"max_iter\": 10000\n",
    "    },\n",
    "    STOCHASTIC_GRADIENT_DESCENT: {\n",
    "        \"model_class\": SGDClassifier,\n",
    "        \"dataframe\": processed_df,\n",
    "        \"max_iter\": 10000,\n",
    "        \"tol\": 1e-3\n",
    "    },\n",
    "    NEURAL_NETWORK: {\n",
    "        \"model_class\": MLPClassifier,\n",
    "        \"dataframe\": processed_df,\n",
    "        \"hidden_layer_sizes\": (50,),\n",
    "        \"max_iter\": 1000\n",
    "    }\n",
    "}"
   ],
   "outputs": [],
   "execution_count": null
  },
  {
   "metadata": {},
   "cell_type": "markdown",
   "source": "Amb tot això, ja podem dur a terme un test bàsic evaluant cada model amb les mètriques triades."
  },
  {
   "metadata": {},
   "cell_type": "code",
   "source": [
    "results_metrics = [\"Model\", \"Accuracy\", \"Precision\", \"Recall\", \"F1\", \"AUC-ROC\", \"AUC-PR\"]\n",
    "results_df = pd.DataFrame(columns=results_metrics)\n",
    "\n",
    "cols = 3\n",
    "rows = (len(models)+cols-1)//cols\n",
    "fig, axes = plt.subplots(rows, cols, figsize=(cols*6, rows*4))\n",
    "axes = axes.flatten()\n",
    "\n",
    "for ax, (model_name, settings) in tqdm(zip(axes, models.items()), desc=\"Evaluating models\"):\n",
    "    tester = ModelTester(name=model_name, **settings)\n",
    "    metrics = tester.evaluate()\n",
    "\n",
    "    tester.plot_roc(ax=ax)\n",
    "\n",
    "    results_df.loc[len(results_df)] = [\n",
    "        model_name,\n",
    "        metrics[\"accuracy\"],\n",
    "        metrics[\"precision\"],\n",
    "        metrics[\"recall\"],\n",
    "        metrics[\"f1\"],\n",
    "        metrics[\"auc_roc\"],\n",
    "        metrics[\"auc_pr\"]\n",
    "    ]\n",
    "\n",
    "display(results_df)\n",
    "display(results_df.describe())\n",
    "\n",
    "for ax in axes[len(models):]:\n",
    "    ax.set_visible(False)\n",
    "\n",
    "plt.tight_layout()\n",
    "plt.show()"
   ],
   "outputs": [],
   "execution_count": null
  },
  {
   "metadata": {},
   "cell_type": "code",
   "source": [
    "# Llista amb els models que provem\n",
    "selected_models = [SUPPORT_VECTOR_MACHINE, RANDOM_FOREST, LOGISTIC_REGRESSION]\n",
    "\n",
    "results_metrics = [\"Model\", \"Var1\", \"Var2\", \"Accuracy\", \"Precision\", \"Recall\", \"F1\", \"AUC-ROC\", \"AUC-PR\"]\n",
    "numeric_vars = ['Sex_male', 'Age', 'SibSp', 'Parch', 'Fare', 'FamilySize', 'Pclass', 'PassengerId']\n",
    "\n",
    "results_df = pd.DataFrame(columns=results_metrics)\n",
    "\n",
    "for model_name in selected_models:\n",
    "    settings = models[model_name]\n",
    "    print(f\"\\n===== Evaluating {model_name} =====\")\n",
    "    tester_full = ModelTester(name=model_name, **settings)\n",
    "\n",
    "\n",
    "    for var1, var2 in combinations(numeric_vars, 2):\n",
    "        tester = ModelTester(name=f\"{model_name} ({var1}, {var2})\", **settings)\n",
    "\n",
    "        # Reduïm a les dues variables\n",
    "        tester.X_train = tester.X_train[[var1, var2]]\n",
    "        tester.X_test  = tester.X_test[[var1, var2]]\n",
    "\n",
    "        tester.fit()\n",
    "        tester.predict()\n",
    "        metrics = tester.evaluate()\n",
    "\n",
    "        results_df.loc[len(results_df)] = [\n",
    "            model_name,\n",
    "            var1,\n",
    "            var2,\n",
    "            metrics[\"accuracy\"],\n",
    "            metrics[\"precision\"],\n",
    "            metrics[\"recall\"],\n",
    "            metrics[\"f1\"],\n",
    "            metrics[\"auc_roc\"],\n",
    "            metrics[\"auc_pr\"]\n",
    "        ]\n",
    "\n",
    "        tester.plot_decision_boundary(features=[var1, var2], labels=[\"Not Survived\", \"Survived\"])\n",
    "\n",
    "# Mostrem resultats\n",
    "display(results_df)\n",
    "display(results_df.describe())"
   ],
   "outputs": [],
   "execution_count": null
  },
  {
   "metadata": {},
   "cell_type": "markdown",
   "source": [
    "### 5. Anàlisi Final (1.5 punt)\n",
    "\n",
    "Un cop seleccionat el millor model amb els millors hiperparàmetres, caldrà fer un anàlisi final amb els resultats obtinguts.\n",
    "\n",
    "**Preguntes:**\n",
    "* Mostreu les corves ROC/PR (la que hagueu escollit en l'apartat 2) i interpreteu els resultats.\n",
    "\n",
    "* Analitzeu en detall les diferents mètriques que trobeu adients i comenteu per sobre com podrieu fer servir aquest model en un futur. Això és el que es coneix com un cas d'ús.\n",
    "\n",
    "* Com creieu que es podria millorar el vostre model?"
   ]
  }
 ],
 "metadata": {
  "colab": {
   "provenance": []
  },
  "kernelspec": {
   "display_name": "Python 3",
   "language": "python",
   "name": "python3"
  },
  "language_info": {
   "codemirror_mode": {
    "name": "ipython",
    "version": 3
   },
   "file_extension": ".py",
   "mimetype": "text/x-python",
   "name": "python",
   "nbconvert_exporter": "python",
   "pygments_lexer": "ipython3",
   "version": "3.13.3"
  }
 },
 "nbformat": 4,
 "nbformat_minor": 0
}
