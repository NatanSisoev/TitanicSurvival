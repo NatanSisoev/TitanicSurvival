{
 "cells": [
  {
   "metadata": {},
   "cell_type": "markdown",
   "source": [
    "# Pràctica 1: Resolem un problema de classificació\n",
    "\n",
    "## Objectius\n",
    "\n",
    "Els objectius d'aquesta pràctica són:\n",
    "\n",
    "* Aplicar els coneixements adquirits sobre processament de dades, classificació i validacio creuada.\n",
    "  \n",
    "* Ser capaç de comparar diferents models de classificació.\n",
    "\n",
    "* Ser capac de fer cerca d'hiperparàmetres.\n",
    "\n",
    "* Entendre i implementar la validació creuada.\n",
    "\n",
    "* Analitzar detalladament els resultats obtinguts durant l'aprenentatge dels diferents models.\n",
    "\n",
    "Aquesta pràctica és prèvia al cas kaggle que realitzareu durant la segona part de l'assignatura. En aquesta primera pràctica les preguntes estan definides, però us ha de servir d'aprenentatge a l'hora de saber com estructurar un projecte d'aprenentatge automàtic ja que en el cas kaggle no tindreu les preguntes.\n",
    "\n",
    "## Base de dades\n",
    "\n",
    "En aquesta pràctica farem servir la base de dades del titanic. L'atribut que predirem es Survived, el qual ens diu si cada passatger va sobreviure o no.\n",
    "\n",
    "\n",
    "https://www.kaggle.com/c/titanic/data\n",
    "\n",
    "\n",
    "## Treball en grup\n",
    "Aquesta pràctica es treballarà en grups de 2-3 persones. En casos excepcionals i degudament justificats la pràctica es podrà realitzar de forma individual.\n",
    "\n",
    "## Seguiment i entrega de la pràctica\n",
    "\n",
    "En la pràctica 1 es presenten diverses tasques per fer una correcta comparativa dels resultats obtinguts per diversos mètodes de classificació en una mateixa base de dades.\n",
    "\n",
    "En aquesta pràctica es realitzaran sessions de seguiment del treball. Aquestes sessions de treball estan orientades a que els alumnes que vingueu pugueu preguntar i resoldre dubtes sobre les dades, preguntar sobre l'objectiu de cada apartat dels enunciats que no us hagi quedat clar, i preguntar sobre els resultats que esteu obtenint a l'hora d'analitzar les dades. És molt recomanable venir a classe amb el treball fet per tal de poder comentar dubtes.\n",
    "\n",
    "Pel que fa l'entrega, caldrà entregar per caronte el següent:\n",
    "\n",
    "1. Memòria en format PDF explicant els resultats trobats sobre la bases de dades. La memòria ha d'utilitzar la plantilla de LaTeX que podeu trobar al Caronte i ha de ser de com a màxim 3 pàgines.\n",
    "   \n",
    "2. Notebook amb el respectiu codi de python.\n",
    "\n",
    "3. (Opcional) Presentació amb els resultats 4 min màxim."
   ]
  },
  {
   "metadata": {},
   "cell_type": "markdown",
   "source": [
    "# Descripció de la pràctica\n",
    "\n",
    "A continuació es mostren tots els continguts que s'evaluaran en la pràctica:\n",
    "\n",
    "1. EDA (exploratory data analysis) (1 punt):\n",
    "  * Anàlisi de tamany i tipologia de dades\n",
    "  * Primera valoració de correlacions\n",
    "  * Anàlisi atribut target\n",
    "2. Preprocessing (2 punts):\n",
    "  * Eliminació de nans\n",
    "  * Encoding de categòriques\n",
    "  * Altres (PCA, normalització, ...)\n",
    "3. Metric selection (1.5 punts):\n",
    "  * Selecció de la millor mètrica pel problema\n",
    "  * Visualització de ROC/AUC per model base\n",
    "4. Model Selection amb Crossvalidation (4 punts):\n",
    "  * Selecció del millor model\n",
    "  * Cerca d'hiperparàmetres\n",
    "5. Anàlisi final (1.5 punt)\n",
    "\n",
    "La pràctica esta construida a partir d'un seguit de preguntes orientatives en cada apartat les quals tenen relació amb els continguts evaluables. **NO cal contestar-les totes**. Són una guia per a que reflexioneu i aprengueu detalls de cada apartat. És recomanable llegir totes les preguntes abans de realitzar la pràctica i tenir-les en ment a l'hora d'executar-la.\n",
    "\n",
    "\n",
    "**IMPORTANT**: El que es valorarà en la pràctica és la capacitat de mantenir una narrativa coherent alhora que s'expliquen els resultats. No es mirarà tant que alguna pregunta quedi per respondre sinó que els passos seguits en base als resultats obtinguts siguin coherents."
   ]
  },
  {
   "metadata": {},
   "cell_type": "markdown",
   "source": [
    "### 1. EDA (exploratory data analysis) (1 punt)\n",
    "\n",
    "Abans de res cal sempre veure com es la base de dades assignada.\n",
    "\n",
    "**Preguntes:**\n",
    "- Quants atributs té la vostra base de dades?\n",
    "- Quin tipus d'atributs teniu? (Númerics, temporals, categòrics, binaris...)\n",
    "- Com es el target? quantes categories diferents existeixen?\n",
    "- Tenim nans en les dades?\n",
    "- Podeu veure alguna correlació entre X i y?\n",
    "- Estan balancejades les etiquetes (distribució similar entre categories)? Creieu que pot afectar a la classificació la seva distribució?"
   ]
  },
  {
   "metadata": {},
   "cell_type": "markdown",
   "source": "bPrimer, importem la llibreria `pandas` i llegim el fitxer de dades `.csv`."
  },
  {
   "metadata": {
    "ExecuteTime": {
     "end_time": "2025-10-23T18:10:01.440653Z",
     "start_time": "2025-10-23T18:10:01.433257Z"
    }
   },
   "cell_type": "code",
   "source": [
    "import pandas as pd\n",
    "import seaborn as sns\n",
    "import matplotlib.pyplot as plt\n",
    "import numpy as np\n",
    "\n",
    "df = pd.read_csv(\"./titanic/train.csv\")"
   ],
   "outputs": [],
   "execution_count": 1
  },
  {
   "metadata": {},
   "cell_type": "markdown",
   "source": "Podem analitzar els atributs de la base de dades fent servir la comanda `describe()`:"
  },
  {
   "metadata": {
    "ExecuteTime": {
     "end_time": "2025-10-23T18:10:01.467201Z",
     "start_time": "2025-10-23T18:10:01.446209Z"
    }
   },
   "cell_type": "code",
   "source": "df.describe(include=\"all\")",
   "outputs": [
    {
     "data": {
      "text/plain": [
       "        PassengerId    Survived      Pclass                 Name   Sex  \\\n",
       "count    891.000000  891.000000  891.000000                  891   891   \n",
       "unique          NaN         NaN         NaN                  891     2   \n",
       "top             NaN         NaN         NaN  Dooley, Mr. Patrick  male   \n",
       "freq            NaN         NaN         NaN                    1   577   \n",
       "mean     446.000000    0.383838    2.308642                  NaN   NaN   \n",
       "std      257.353842    0.486592    0.836071                  NaN   NaN   \n",
       "min        1.000000    0.000000    1.000000                  NaN   NaN   \n",
       "25%      223.500000    0.000000    2.000000                  NaN   NaN   \n",
       "50%      446.000000    0.000000    3.000000                  NaN   NaN   \n",
       "75%      668.500000    1.000000    3.000000                  NaN   NaN   \n",
       "max      891.000000    1.000000    3.000000                  NaN   NaN   \n",
       "\n",
       "               Age       SibSp       Parch  Ticket        Fare Cabin Embarked  \n",
       "count   714.000000  891.000000  891.000000     891  891.000000   204      889  \n",
       "unique         NaN         NaN         NaN     681         NaN   147        3  \n",
       "top            NaN         NaN         NaN  347082         NaN    G6        S  \n",
       "freq           NaN         NaN         NaN       7         NaN     4      644  \n",
       "mean     29.699118    0.523008    0.381594     NaN   32.204208   NaN      NaN  \n",
       "std      14.526497    1.102743    0.806057     NaN   49.693429   NaN      NaN  \n",
       "min       0.420000    0.000000    0.000000     NaN    0.000000   NaN      NaN  \n",
       "25%      20.125000    0.000000    0.000000     NaN    7.910400   NaN      NaN  \n",
       "50%      28.000000    0.000000    0.000000     NaN   14.454200   NaN      NaN  \n",
       "75%      38.000000    1.000000    0.000000     NaN   31.000000   NaN      NaN  \n",
       "max      80.000000    8.000000    6.000000     NaN  512.329200   NaN      NaN  "
      ],
      "text/html": [
       "<div>\n",
       "<style scoped>\n",
       "    .dataframe tbody tr th:only-of-type {\n",
       "        vertical-align: middle;\n",
       "    }\n",
       "\n",
       "    .dataframe tbody tr th {\n",
       "        vertical-align: top;\n",
       "    }\n",
       "\n",
       "    .dataframe thead th {\n",
       "        text-align: right;\n",
       "    }\n",
       "</style>\n",
       "<table border=\"1\" class=\"dataframe\">\n",
       "  <thead>\n",
       "    <tr style=\"text-align: right;\">\n",
       "      <th></th>\n",
       "      <th>PassengerId</th>\n",
       "      <th>Survived</th>\n",
       "      <th>Pclass</th>\n",
       "      <th>Name</th>\n",
       "      <th>Sex</th>\n",
       "      <th>Age</th>\n",
       "      <th>SibSp</th>\n",
       "      <th>Parch</th>\n",
       "      <th>Ticket</th>\n",
       "      <th>Fare</th>\n",
       "      <th>Cabin</th>\n",
       "      <th>Embarked</th>\n",
       "    </tr>\n",
       "  </thead>\n",
       "  <tbody>\n",
       "    <tr>\n",
       "      <th>count</th>\n",
       "      <td>891.000000</td>\n",
       "      <td>891.000000</td>\n",
       "      <td>891.000000</td>\n",
       "      <td>891</td>\n",
       "      <td>891</td>\n",
       "      <td>714.000000</td>\n",
       "      <td>891.000000</td>\n",
       "      <td>891.000000</td>\n",
       "      <td>891</td>\n",
       "      <td>891.000000</td>\n",
       "      <td>204</td>\n",
       "      <td>889</td>\n",
       "    </tr>\n",
       "    <tr>\n",
       "      <th>unique</th>\n",
       "      <td>NaN</td>\n",
       "      <td>NaN</td>\n",
       "      <td>NaN</td>\n",
       "      <td>891</td>\n",
       "      <td>2</td>\n",
       "      <td>NaN</td>\n",
       "      <td>NaN</td>\n",
       "      <td>NaN</td>\n",
       "      <td>681</td>\n",
       "      <td>NaN</td>\n",
       "      <td>147</td>\n",
       "      <td>3</td>\n",
       "    </tr>\n",
       "    <tr>\n",
       "      <th>top</th>\n",
       "      <td>NaN</td>\n",
       "      <td>NaN</td>\n",
       "      <td>NaN</td>\n",
       "      <td>Dooley, Mr. Patrick</td>\n",
       "      <td>male</td>\n",
       "      <td>NaN</td>\n",
       "      <td>NaN</td>\n",
       "      <td>NaN</td>\n",
       "      <td>347082</td>\n",
       "      <td>NaN</td>\n",
       "      <td>G6</td>\n",
       "      <td>S</td>\n",
       "    </tr>\n",
       "    <tr>\n",
       "      <th>freq</th>\n",
       "      <td>NaN</td>\n",
       "      <td>NaN</td>\n",
       "      <td>NaN</td>\n",
       "      <td>1</td>\n",
       "      <td>577</td>\n",
       "      <td>NaN</td>\n",
       "      <td>NaN</td>\n",
       "      <td>NaN</td>\n",
       "      <td>7</td>\n",
       "      <td>NaN</td>\n",
       "      <td>4</td>\n",
       "      <td>644</td>\n",
       "    </tr>\n",
       "    <tr>\n",
       "      <th>mean</th>\n",
       "      <td>446.000000</td>\n",
       "      <td>0.383838</td>\n",
       "      <td>2.308642</td>\n",
       "      <td>NaN</td>\n",
       "      <td>NaN</td>\n",
       "      <td>29.699118</td>\n",
       "      <td>0.523008</td>\n",
       "      <td>0.381594</td>\n",
       "      <td>NaN</td>\n",
       "      <td>32.204208</td>\n",
       "      <td>NaN</td>\n",
       "      <td>NaN</td>\n",
       "    </tr>\n",
       "    <tr>\n",
       "      <th>std</th>\n",
       "      <td>257.353842</td>\n",
       "      <td>0.486592</td>\n",
       "      <td>0.836071</td>\n",
       "      <td>NaN</td>\n",
       "      <td>NaN</td>\n",
       "      <td>14.526497</td>\n",
       "      <td>1.102743</td>\n",
       "      <td>0.806057</td>\n",
       "      <td>NaN</td>\n",
       "      <td>49.693429</td>\n",
       "      <td>NaN</td>\n",
       "      <td>NaN</td>\n",
       "    </tr>\n",
       "    <tr>\n",
       "      <th>min</th>\n",
       "      <td>1.000000</td>\n",
       "      <td>0.000000</td>\n",
       "      <td>1.000000</td>\n",
       "      <td>NaN</td>\n",
       "      <td>NaN</td>\n",
       "      <td>0.420000</td>\n",
       "      <td>0.000000</td>\n",
       "      <td>0.000000</td>\n",
       "      <td>NaN</td>\n",
       "      <td>0.000000</td>\n",
       "      <td>NaN</td>\n",
       "      <td>NaN</td>\n",
       "    </tr>\n",
       "    <tr>\n",
       "      <th>25%</th>\n",
       "      <td>223.500000</td>\n",
       "      <td>0.000000</td>\n",
       "      <td>2.000000</td>\n",
       "      <td>NaN</td>\n",
       "      <td>NaN</td>\n",
       "      <td>20.125000</td>\n",
       "      <td>0.000000</td>\n",
       "      <td>0.000000</td>\n",
       "      <td>NaN</td>\n",
       "      <td>7.910400</td>\n",
       "      <td>NaN</td>\n",
       "      <td>NaN</td>\n",
       "    </tr>\n",
       "    <tr>\n",
       "      <th>50%</th>\n",
       "      <td>446.000000</td>\n",
       "      <td>0.000000</td>\n",
       "      <td>3.000000</td>\n",
       "      <td>NaN</td>\n",
       "      <td>NaN</td>\n",
       "      <td>28.000000</td>\n",
       "      <td>0.000000</td>\n",
       "      <td>0.000000</td>\n",
       "      <td>NaN</td>\n",
       "      <td>14.454200</td>\n",
       "      <td>NaN</td>\n",
       "      <td>NaN</td>\n",
       "    </tr>\n",
       "    <tr>\n",
       "      <th>75%</th>\n",
       "      <td>668.500000</td>\n",
       "      <td>1.000000</td>\n",
       "      <td>3.000000</td>\n",
       "      <td>NaN</td>\n",
       "      <td>NaN</td>\n",
       "      <td>38.000000</td>\n",
       "      <td>1.000000</td>\n",
       "      <td>0.000000</td>\n",
       "      <td>NaN</td>\n",
       "      <td>31.000000</td>\n",
       "      <td>NaN</td>\n",
       "      <td>NaN</td>\n",
       "    </tr>\n",
       "    <tr>\n",
       "      <th>max</th>\n",
       "      <td>891.000000</td>\n",
       "      <td>1.000000</td>\n",
       "      <td>3.000000</td>\n",
       "      <td>NaN</td>\n",
       "      <td>NaN</td>\n",
       "      <td>80.000000</td>\n",
       "      <td>8.000000</td>\n",
       "      <td>6.000000</td>\n",
       "      <td>NaN</td>\n",
       "      <td>512.329200</td>\n",
       "      <td>NaN</td>\n",
       "      <td>NaN</td>\n",
       "    </tr>\n",
       "  </tbody>\n",
       "</table>\n",
       "</div>"
      ]
     },
     "execution_count": 2,
     "metadata": {},
     "output_type": "execute_result"
    }
   ],
   "execution_count": 2
  },
  {
   "metadata": {},
   "cell_type": "markdown",
   "source": "Observem que la nostra base de dades conté **12 atributs**, dels següents tipus:"
  },
  {
   "metadata": {
    "ExecuteTime": {
     "end_time": "2025-10-23T18:10:01.479861Z",
     "start_time": "2025-10-23T18:10:01.473683Z"
    }
   },
   "cell_type": "code",
   "source": "df.dtypes",
   "outputs": [
    {
     "data": {
      "text/plain": [
       "PassengerId      int64\n",
       "Survived         int64\n",
       "Pclass           int64\n",
       "Name            object\n",
       "Sex             object\n",
       "Age            float64\n",
       "SibSp            int64\n",
       "Parch            int64\n",
       "Ticket          object\n",
       "Fare           float64\n",
       "Cabin           object\n",
       "Embarked        object\n",
       "dtype: object"
      ]
     },
     "execution_count": 3,
     "metadata": {},
     "output_type": "execute_result"
    }
   ],
   "execution_count": 3
  },
  {
   "metadata": {},
   "cell_type": "markdown",
   "source": [
    "On `int64` és un nombre enter (numèric), `float64` és un nombre decimal (numèric) i `object` és text (es podria considerar una etiqueta o categòrica).\n",
    "\n",
    "Però veiem que podem assignar altres tipus en funció del significat de cada columna:\n",
    "\n",
    "- `PassengerId`: etiqueta: identifica a cada persona\n",
    "- `Survived`: binària: `1`=si o `0`=no\n",
    "- `Pclass`: categòrica: `1`=primera, `2`=segona i `3`=tercera classe\n",
    "- `Name`: etiqueta: identifica a cada persona (potser no de forma única)\n",
    "- `Sex`: categòrica: `female` o `male`\n",
    "- `Age`: numèrica: edat en anys\n",
    "- `SibSp`: numèrica: nombre de germans o parelles en el Titanic\n",
    "- `Parch`: numèrica: nombre de pares o fills en el Titanic\n",
    "- `Ticket`: text: codi del tiquet\n",
    "- `Fare`: numèrica: preu del tiquet\n",
    "- `Cabin`: text: codi de la cabina\n",
    "- `Embarked`: categòrica: port d'embarcació, `C`=Cherbourg, `Q`=Queenstown i `S`=Southampton\n",
    "\n",
    "Per aquest estudi, el target és l'atribut binari `Survived`, que pot prendre dos valors: 0 o 1:"
   ]
  },
  {
   "metadata": {
    "ExecuteTime": {
     "end_time": "2025-10-23T18:10:01.528231Z",
     "start_time": "2025-10-23T18:10:01.523736Z"
    }
   },
   "cell_type": "code",
   "source": "df[\"Survived\"].unique()",
   "outputs": [
    {
     "data": {
      "text/plain": [
       "array([0, 1])"
      ]
     },
     "execution_count": 4,
     "metadata": {},
     "output_type": "execute_result"
    }
   ],
   "execution_count": 4
  },
  {
   "metadata": {},
   "cell_type": "markdown",
   "source": [
    "\n",
    "Per analitzar la qualitat de les dades, mirem quantes files tenen dades incompletes."
   ]
  },
  {
   "metadata": {
    "ExecuteTime": {
     "end_time": "2025-10-23T18:10:01.571073Z",
     "start_time": "2025-10-23T18:10:01.565615Z"
    }
   },
   "cell_type": "code",
   "source": "df.isna().sum()",
   "outputs": [
    {
     "data": {
      "text/plain": [
       "PassengerId      0\n",
       "Survived         0\n",
       "Pclass           0\n",
       "Name             0\n",
       "Sex              0\n",
       "Age            177\n",
       "SibSp            0\n",
       "Parch            0\n",
       "Ticket           0\n",
       "Fare             0\n",
       "Cabin          687\n",
       "Embarked         2\n",
       "dtype: int64"
      ]
     },
     "execution_count": 5,
     "metadata": {},
     "output_type": "execute_result"
    }
   ],
   "execution_count": 5
  },
  {
   "metadata": {},
   "cell_type": "markdown",
   "source": [
    "De les 891 dades, falta el port d'embarcació `Embarked` per a dues persones, l'edat per a 177 i la cabina per a 687.\n",
    "\n",
    "Les dues persones sense port d'embarcació no son molt importants, podríem fins i tot prescindir d'aquestes files. L'edat podria ser un problema, i la cabina, que d'entrada sembla que pot ser la variable explicativa més important, no apareix en la majoria de files."
   ]
  },
  {
   "metadata": {},
   "cell_type": "markdown",
   "source": "Per detectar possibles correlacions en les dades, podem calcular el coeficient de correlació de Pearson entre tots els atributs numèrics i representar-los en una gràfica de calor."
  },
  {
   "metadata": {
    "ExecuteTime": {
     "end_time": "2025-10-23T18:10:01.741476Z",
     "start_time": "2025-10-23T18:10:01.577502Z"
    }
   },
   "cell_type": "code",
   "source": [
    "sns.heatmap(df.corr(numeric_only=True), annot=True)\n",
    "plt.show()"
   ],
   "outputs": [
    {
     "data": {
      "text/plain": [
       "<Figure size 640x480 with 2 Axes>"
      ],
      "image/png": "[encoded data removed]"
     },
     "metadata": {},
     "output_type": "display_data"
    }
   ],
   "execution_count": 6
  },
  {
   "metadata": {},
   "cell_type": "markdown",
   "source": [
    "Unes quantes observacions (comentarem la correlació només a una de les dues variables):\n",
    "\n",
    "- `PassengerId`: aquesta no té correlació significant amb cap dels altres atributs (com és d'esperar)\n",
    "- `Survived`: obté la seva màxima correlació (inversament) amb `Pclass` i `Fare`: com més gran la classe, més petita la probabilitat de supervivència, i com més car el tiquet, més probabilitat\n",
    "- `Pclass`: correlació inversa amb el preu del tiquet (està clar) i també amb l'edat, és dir els més joves es trobaven a classes més altes\n",
    "- `Age`: relació inversa amb el nombre de germans/parelles i pares/fills, com més joves més germans/parelles i pares/fills\n",
    "- `SibSp`: correlació amb el nombre de pares/fills, com més fills/parelles, més pares/fills\n",
    "- `Parch`: correlació molt petita amb el preu del tiquet\n",
    "\n",
    "Estudiem ara la distribució de les dades amb histogrames per cada atribut numèric (afegim les columnes `Embarked` i `Sex` al gràfic)."
   ]
  },
  {
   "metadata": {
    "ExecuteTime": {
     "end_time": "2025-10-23T18:10:02.407569Z",
     "start_time": "2025-10-23T18:10:01.748157Z"
    }
   },
   "cell_type": "code",
   "source": [
    "cols = list(df.select_dtypes(\"number\")) + [\"Sex\", \"Embarked\"]\n",
    "fig, axes = plt.subplots(3, 3, figsize=(18, 10))\n",
    "axes = axes.flatten()\n",
    "\n",
    "for ax, col in zip(axes, cols):\n",
    "    if df[col].dtype == \"object\":\n",
    "        sns.countplot(x=col, data=df, ax=ax)\n",
    "    else:\n",
    "        df[col].hist(bins=30, ax=ax)\n",
    "    ax.set_title(col)\n",
    "\n",
    "for ax in axes[len(cols):]:\n",
    "    ax.set_visible(False)\n",
    "\n",
    "plt.tight_layout()\n",
    "plt.show()"
   ],
   "outputs": [
    {
     "data": {
      "text/plain": [
       "<Figure size 1800x1000 with 9 Axes>"
      ],
      "image/png": "[encoded data removed]"
     },
     "metadata": {},
     "output_type": "display_data"
    }
   ],
   "execution_count": 7
  },
  {
   "metadata": {},
   "cell_type": "markdown",
   "source": [
    "Veiem que la distribució de l'edat té forma bastant normal (la distribució), amb una petita acumulació a edats petites. Les dues variables quantitatives enteres (`SibSp` i `Parch`) tenen més representació per a nombres petits.\n",
    "\n",
    "Mirem amb més detall les distribucions de les altres columnes."
   ]
  },
  {
   "metadata": {
    "ExecuteTime": {
     "end_time": "2025-10-23T18:10:02.419443Z",
     "start_time": "2025-10-23T18:10:02.414275Z"
    }
   },
   "cell_type": "code",
   "source": [
    "for col in [\"Survived\", \"Pclass\", \"Sex\", \"Embarked\"]:\n",
    "    print(f\"{col}:\\n\\t- {\"\\n\\t- \".join([f\"{key}: {value:.2%}\" for key, value in dict(df[col].value_counts(normalize=True)).items()])}\")"
   ],
   "outputs": [
    {
     "name": "stdout",
     "output_type": "stream",
     "text": [
      "Survived:\n",
      "\t- 0: 61.62%\n",
      "\t- 1: 38.38%\n",
      "Pclass:\n",
      "\t- 3: 55.11%\n",
      "\t- 1: 24.24%\n",
      "\t- 2: 20.65%\n",
      "Sex:\n",
      "\t- male: 64.76%\n",
      "\t- female: 35.24%\n",
      "Embarked:\n",
      "\t- S: 72.44%\n",
      "\t- C: 18.90%\n",
      "\t- Q: 8.66%\n"
     ]
    }
   ],
   "execution_count": 8
  },
  {
   "metadata": {},
   "cell_type": "markdown",
   "source": [
    "Tenim representació prou bona per totes les etiquetes, només pel port Queenstown una mica menys, però no és res greu.\n",
    "\n",
    "Ara per ara, creiem que la distribució de les dades no influirà molt en la predicció de les dades, i que no donarà problemes. Faltaria fer una selecció, normalització i processament dels atributs per acabar de concloure si la distribució ens afectarà la predicció final, que és el que farem a la següent secció."
   ]
  },
  {
   "metadata": {},
   "cell_type": "markdown",
   "source": [
    "### 2. Preprocessing (normalitzation, outlier removal, feature selection, ...) (2 punts)\n",
    "Un cop vistes les dades de les que es disposa, cal preparar les dades per als nostres algoritmes. Segons la tipologia de dades, es poden filtrar atributs, aplicar-hi reductors de dimensionalitat, codificar categories textuals en valors numèrics, normalitzar les dades, treure outliers...\n",
    "\n",
    "Navegueu per la [documentació de sklearn sobre preprocessing](https://scikit-learn.org/stable/modules/preprocessing.html) per tal de trobar les diferents opcions que proporciona sklearn.\n",
    "\n",
    "**Preguntes:**\n",
    "* Estan les dades normalitzades? Caldria fer-ho?\n",
    "* En cas que les normalitzeu, quin tipus de normalització serà més adient per a les vostres dades?\n",
    "* Teniu gaires dades sense informació (nans)? Tingueu en compte que hi ha metodes que no els toleren durant l'aprenentatge. Com afecta a la classificació si les filtrem? I si les reompliu? Com ho farieu? [Pista](https://scikit-learn.org/stable/modules/impute.html)\n",
    "* Teniu dades categòriques? Quina seria la codificació amb més sentit?\n",
    "* Podreu treure algun atribut extra de les categòriques (per exemple, aplicant alguna regla sobre el text)?\n",
    "* Caldria aplicar PCA? Quins beneficis o inconvenients trobarieu?\n",
    "* Caldria aplicar alguna tècnica de selecció de variables? Ho trobeu necessari?"
   ]
  },
  {
   "metadata": {},
   "cell_type": "markdown",
   "source": "Llibreries que farem servir en aquesta secció."
  },
  {
   "metadata": {
    "ExecuteTime": {
     "end_time": "2025-10-23T18:10:02.620525Z",
     "start_time": "2025-10-23T18:10:02.451795Z"
    }
   },
   "cell_type": "code",
   "source": [
    "from sklearn.base import BaseEstimator, TransformerMixin\n",
    "from sklearn.preprocessing import StandardScaler, OneHotEncoder\n",
    "from sklearn.impute import KNNImputer\n",
    "from sklearn.preprocessing import FunctionTransformer\n",
    "from sklearn.compose import ColumnTransformer\n",
    "from sklearn.pipeline import Pipeline\n",
    "import pandas as pd\n",
    "import numpy as np"
   ],
   "outputs": [],
   "execution_count": 9
  },
  {
   "metadata": {},
   "cell_type": "markdown",
   "source": "A partir de les conclusions extretes de la secció anterior, comencem a fer el preprocessing de tot el dataset. Ja hem vist que tenim moltes dades que falten, sobretot en el cas de l'edat i la cabina."
  },
  {
   "metadata": {
    "ExecuteTime": {
     "end_time": "2025-10-23T18:10:02.633782Z",
     "start_time": "2025-10-23T18:10:02.625440Z"
    }
   },
   "cell_type": "code",
   "source": [
    "nan_count = df.isna().sum()\n",
    "nan_percent = (nan_count / len(df)) * 100\n",
    "nan_info = pd.DataFrame({\n",
    "    \"NaN Count\": nan_count,\n",
    "    \"NaN Percent\": nan_percent\n",
    "})\n",
    "\n",
    "nan_info[nan_info[\"NaN Count\"] > 0]"
   ],
   "outputs": [
    {
     "data": {
      "text/plain": [
       "          NaN Count  NaN Percent\n",
       "Age             177    19.865320\n",
       "Cabin           687    77.104377\n",
       "Embarked          2     0.224467"
      ],
      "text/html": [
       "<div>\n",
       "<style scoped>\n",
       "    .dataframe tbody tr th:only-of-type {\n",
       "        vertical-align: middle;\n",
       "    }\n",
       "\n",
       "    .dataframe tbody tr th {\n",
       "        vertical-align: top;\n",
       "    }\n",
       "\n",
       "    .dataframe thead th {\n",
       "        text-align: right;\n",
       "    }\n",
       "</style>\n",
       "<table border=\"1\" class=\"dataframe\">\n",
       "  <thead>\n",
       "    <tr style=\"text-align: right;\">\n",
       "      <th></th>\n",
       "      <th>NaN Count</th>\n",
       "      <th>NaN Percent</th>\n",
       "    </tr>\n",
       "  </thead>\n",
       "  <tbody>\n",
       "    <tr>\n",
       "      <th>Age</th>\n",
       "      <td>177</td>\n",
       "      <td>19.865320</td>\n",
       "    </tr>\n",
       "    <tr>\n",
       "      <th>Cabin</th>\n",
       "      <td>687</td>\n",
       "      <td>77.104377</td>\n",
       "    </tr>\n",
       "    <tr>\n",
       "      <th>Embarked</th>\n",
       "      <td>2</td>\n",
       "      <td>0.224467</td>\n",
       "    </tr>\n",
       "  </tbody>\n",
       "</table>\n",
       "</div>"
      ]
     },
     "execution_count": 10,
     "metadata": {},
     "output_type": "execute_result"
    }
   ],
   "execution_count": 10
  },
  {
   "metadata": {},
   "cell_type": "markdown",
   "source": "Començant per la cabina: veiem que falta una quantitat de dades molt gran, quasi el 80%. Per tant, seria molt complicat i gens significatiu aplicar qualsevol tipus d'imputació sobre aquesta columna. També observem que és una dada molt rellevant per la supervivència dels passatgers. Si busquem un esquema del Titanic, podem veure que els decks estan organitzats de la següent manera:"
  },
  {
   "metadata": {},
   "cell_type": "markdown",
   "source": [
    "<div>\n",
    "<img src=\"titanic/decks.png\" width=\"500\"/>\n",
    "</div>"
   ]
  },
  {
   "metadata": {},
   "cell_type": "markdown",
   "source": [
    "Per tant, com podem veure les cabines que son del deck G estan a baix de tot del vaixell, i les de l'A son les de més amunt. Creiem que el deck és una dada molt important per predir la supervivència, per tant, l'extraiem a partir del codi de cabina. Veiem que els codis son el deck més un nombre de cabina, sobre el qual no hem pogut trobar més informació.\n",
    "\n",
    "Mirem els decks que surten a la base de dades."
   ]
  },
  {
   "metadata": {
    "ExecuteTime": {
     "end_time": "2025-10-23T18:10:02.646545Z",
     "start_time": "2025-10-23T18:10:02.640286Z"
    }
   },
   "cell_type": "code",
   "source": "sorted(df.loc[df[\"Cabin\"].notna(), \"Cabin\"].str[0].unique())",
   "outputs": [
    {
     "data": {
      "text/plain": [
       "['A', 'B', 'C', 'D', 'E', 'F', 'G', 'T']"
      ]
     },
     "execution_count": 11,
     "metadata": {},
     "output_type": "execute_result"
    }
   ],
   "execution_count": 11
  },
  {
   "metadata": {},
   "cell_type": "markdown",
   "source": "Tenim cabines de tots els decks, i del `T`. Investiguem quantes cabines hi ha del deck `T`, que no sabem on és.b"
  },
  {
   "metadata": {
    "ExecuteTime": {
     "end_time": "2025-10-23T18:10:02.676465Z",
     "start_time": "2025-10-23T18:10:02.667908Z"
    }
   },
   "cell_type": "code",
   "source": "df[df[\"Cabin\"].str.contains(\"T\", na=False)]",
   "outputs": [
    {
     "data": {
      "text/plain": [
       "     PassengerId  Survived  Pclass                          Name   Sex   Age  \\\n",
       "339          340         0       1  Blackwell, Mr. Stephen Weart  male  45.0   \n",
       "\n",
       "     SibSp  Parch  Ticket  Fare Cabin Embarked  \n",
       "339      0      0  113784  35.5     T        S  "
      ],
      "text/html": [
       "<div>\n",
       "<style scoped>\n",
       "    .dataframe tbody tr th:only-of-type {\n",
       "        vertical-align: middle;\n",
       "    }\n",
       "\n",
       "    .dataframe tbody tr th {\n",
       "        vertical-align: top;\n",
       "    }\n",
       "\n",
       "    .dataframe thead th {\n",
       "        text-align: right;\n",
       "    }\n",
       "</style>\n",
       "<table border=\"1\" class=\"dataframe\">\n",
       "  <thead>\n",
       "    <tr style=\"text-align: right;\">\n",
       "      <th></th>\n",
       "      <th>PassengerId</th>\n",
       "      <th>Survived</th>\n",
       "      <th>Pclass</th>\n",
       "      <th>Name</th>\n",
       "      <th>Sex</th>\n",
       "      <th>Age</th>\n",
       "      <th>SibSp</th>\n",
       "      <th>Parch</th>\n",
       "      <th>Ticket</th>\n",
       "      <th>Fare</th>\n",
       "      <th>Cabin</th>\n",
       "      <th>Embarked</th>\n",
       "    </tr>\n",
       "  </thead>\n",
       "  <tbody>\n",
       "    <tr>\n",
       "      <th>339</th>\n",
       "      <td>340</td>\n",
       "      <td>0</td>\n",
       "      <td>1</td>\n",
       "      <td>Blackwell, Mr. Stephen Weart</td>\n",
       "      <td>male</td>\n",
       "      <td>45.0</td>\n",
       "      <td>0</td>\n",
       "      <td>0</td>\n",
       "      <td>113784</td>\n",
       "      <td>35.5</td>\n",
       "      <td>T</td>\n",
       "      <td>S</td>\n",
       "    </tr>\n",
       "  </tbody>\n",
       "</table>\n",
       "</div>"
      ]
     },
     "execution_count": 12,
     "metadata": {},
     "output_type": "execute_result"
    }
   ],
   "execution_count": 12
  },
  {
   "metadata": {},
   "cell_type": "markdown",
   "source": [
    "Com només és un passatger, considerem que és un error, per tant, marcarem el deck d'aquest passatger com un NaN. Amb totes les altres cabines que falten, marcarem els decks de totes amb la lletra `X` per distingir-les de les cabines normals.\n",
    "\n",
    "Volem poder generalitzar aquest preprocessing a qualsevol dataset, per tant, creem una funció personalitzada que faci aquesta anàlisi de la cabina i la creï la nova columna `Deck` en forma d'un transformer."
   ]
  },
  {
   "metadata": {
    "ExecuteTime": {
     "end_time": "2025-10-23T18:10:02.698702Z",
     "start_time": "2025-10-23T18:10:02.693801Z"
    }
   },
   "cell_type": "code",
   "source": [
    "def extract_deck(dataframe: pd.DataFrame) -> pd.DataFrame:\n",
    "    # Copiar el dataframe\n",
    "    dataframe = dataframe.copy()\n",
    "\n",
    "    # Extreure la primera lletra de la cabina a una nova columna\n",
    "    dataframe[\"Deck\"] = dataframe[\"Cabin\"].str[0]\n",
    "\n",
    "    # Validar els decks existents\n",
    "    valid_decks = {\"A\", \"B\", \"C\", \"D\", \"E\", \"F\", \"G\"}\n",
    "    dataframe[\"Deck\"] = dataframe[\"Deck\"].where(dataframe[\"Deck\"].isin(valid_decks), \"X\")\n",
    "\n",
    "    # Omplir els forats amb \"X\"\n",
    "    dataframe[\"Deck\"] = dataframe[\"Deck\"].fillna(\"X\")\n",
    "\n",
    "    return dataframe\n",
    "\n",
    "# Crear un transformer\n",
    "extract_deck_transformer = FunctionTransformer(extract_deck, validate=False)"
   ],
   "outputs": [],
   "execution_count": 13
  },
  {
   "metadata": {},
   "cell_type": "markdown",
   "source": "Podem provar el pipeline fet amb el dataframe que tenim, aplicant-li només aquesta transofrmació."
  },
  {
   "metadata": {
    "ExecuteTime": {
     "end_time": "2025-10-23T18:10:02.724660Z",
     "start_time": "2025-10-23T18:10:02.713005Z"
    }
   },
   "cell_type": "code",
   "source": "extract_deck_transformer.transform(df)",
   "outputs": [
    {
     "data": {
      "text/plain": [
       "     PassengerId  Survived  Pclass  \\\n",
       "0              1         0       3   \n",
       "1              2         1       1   \n",
       "2              3         1       3   \n",
       "3              4         1       1   \n",
       "4              5         0       3   \n",
       "..           ...       ...     ...   \n",
       "886          887         0       2   \n",
       "887          888         1       1   \n",
       "888          889         0       3   \n",
       "889          890         1       1   \n",
       "890          891         0       3   \n",
       "\n",
       "                                                  Name     Sex   Age  SibSp  \\\n",
       "0                              Braund, Mr. Owen Harris    male  22.0      1   \n",
       "1    Cumings, Mrs. John Bradley (Florence Briggs Th...  female  38.0      1   \n",
       "2                               Heikkinen, Miss. Laina  female  26.0      0   \n",
       "3         Futrelle, Mrs. Jacques Heath (Lily May Peel)  female  35.0      1   \n",
       "4                             Allen, Mr. William Henry    male  35.0      0   \n",
       "..                                                 ...     ...   ...    ...   \n",
       "886                              Montvila, Rev. Juozas    male  27.0      0   \n",
       "887                       Graham, Miss. Margaret Edith  female  19.0      0   \n",
       "888           Johnston, Miss. Catherine Helen \"Carrie\"  female   NaN      1   \n",
       "889                              Behr, Mr. Karl Howell    male  26.0      0   \n",
       "890                                Dooley, Mr. Patrick    male  32.0      0   \n",
       "\n",
       "     Parch            Ticket     Fare Cabin Embarked Deck  \n",
       "0        0         A/5 21171   7.2500   NaN        S    X  \n",
       "1        0          PC 17599  71.2833   C85        C    C  \n",
       "2        0  STON/O2. 3101282   7.9250   NaN        S    X  \n",
       "3        0            113803  53.1000  C123        S    C  \n",
       "4        0            373450   8.0500   NaN        S    X  \n",
       "..     ...               ...      ...   ...      ...  ...  \n",
       "886      0            211536  13.0000   NaN        S    X  \n",
       "887      0            112053  30.0000   B42        S    B  \n",
       "888      2        W./C. 6607  23.4500   NaN        S    X  \n",
       "889      0            111369  30.0000  C148        C    C  \n",
       "890      0            370376   7.7500   NaN        Q    X  \n",
       "\n",
       "[891 rows x 13 columns]"
      ],
      "text/html": [
       "<div>\n",
       "<style scoped>\n",
       "    .dataframe tbody tr th:only-of-type {\n",
       "        vertical-align: middle;\n",
       "    }\n",
       "\n",
       "    .dataframe tbody tr th {\n",
       "        vertical-align: top;\n",
       "    }\n",
       "\n",
       "    .dataframe thead th {\n",
       "        text-align: right;\n",
       "    }\n",
       "</style>\n",
       "<table border=\"1\" class=\"dataframe\">\n",
       "  <thead>\n",
       "    <tr style=\"text-align: right;\">\n",
       "      <th></th>\n",
       "      <th>PassengerId</th>\n",
       "      <th>Survived</th>\n",
       "      <th>Pclass</th>\n",
       "      <th>Name</th>\n",
       "      <th>Sex</th>\n",
       "      <th>Age</th>\n",
       "      <th>SibSp</th>\n",
       "      <th>Parch</th>\n",
       "      <th>Ticket</th>\n",
       "      <th>Fare</th>\n",
       "      <th>Cabin</th>\n",
       "      <th>Embarked</th>\n",
       "      <th>Deck</th>\n",
       "    </tr>\n",
       "  </thead>\n",
       "  <tbody>\n",
       "    <tr>\n",
       "      <th>0</th>\n",
       "      <td>1</td>\n",
       "      <td>0</td>\n",
       "      <td>3</td>\n",
       "      <td>Braund, Mr. Owen Harris</td>\n",
       "      <td>male</td>\n",
       "      <td>22.0</td>\n",
       "      <td>1</td>\n",
       "      <td>0</td>\n",
       "      <td>A/5 21171</td>\n",
       "      <td>7.2500</td>\n",
       "      <td>NaN</td>\n",
       "      <td>S</td>\n",
       "      <td>X</td>\n",
       "    </tr>\n",
       "    <tr>\n",
       "      <th>1</th>\n",
       "      <td>2</td>\n",
       "      <td>1</td>\n",
       "      <td>1</td>\n",
       "      <td>Cumings, Mrs. John Bradley (Florence Briggs Th...</td>\n",
       "      <td>female</td>\n",
       "      <td>38.0</td>\n",
       "      <td>1</td>\n",
       "      <td>0</td>\n",
       "      <td>PC 17599</td>\n",
       "      <td>71.2833</td>\n",
       "      <td>C85</td>\n",
       "      <td>C</td>\n",
       "      <td>C</td>\n",
       "    </tr>\n",
       "    <tr>\n",
       "      <th>2</th>\n",
       "      <td>3</td>\n",
       "      <td>1</td>\n",
       "      <td>3</td>\n",
       "      <td>Heikkinen, Miss. Laina</td>\n",
       "      <td>female</td>\n",
       "      <td>26.0</td>\n",
       "      <td>0</td>\n",
       "      <td>0</td>\n",
       "      <td>STON/O2. 3101282</td>\n",
       "      <td>7.9250</td>\n",
       "      <td>NaN</td>\n",
       "      <td>S</td>\n",
       "      <td>X</td>\n",
       "    </tr>\n",
       "    <tr>\n",
       "      <th>3</th>\n",
       "      <td>4</td>\n",
       "      <td>1</td>\n",
       "      <td>1</td>\n",
       "      <td>Futrelle, Mrs. Jacques Heath (Lily May Peel)</td>\n",
       "      <td>female</td>\n",
       "      <td>35.0</td>\n",
       "      <td>1</td>\n",
       "      <td>0</td>\n",
       "      <td>113803</td>\n",
       "      <td>53.1000</td>\n",
       "      <td>C123</td>\n",
       "      <td>S</td>\n",
       "      <td>C</td>\n",
       "    </tr>\n",
       "    <tr>\n",
       "      <th>4</th>\n",
       "      <td>5</td>\n",
       "      <td>0</td>\n",
       "      <td>3</td>\n",
       "      <td>Allen, Mr. William Henry</td>\n",
       "      <td>male</td>\n",
       "      <td>35.0</td>\n",
       "      <td>0</td>\n",
       "      <td>0</td>\n",
       "      <td>373450</td>\n",
       "      <td>8.0500</td>\n",
       "      <td>NaN</td>\n",
       "      <td>S</td>\n",
       "      <td>X</td>\n",
       "    </tr>\n",
       "    <tr>\n",
       "      <th>...</th>\n",
       "      <td>...</td>\n",
       "      <td>...</td>\n",
       "      <td>...</td>\n",
       "      <td>...</td>\n",
       "      <td>...</td>\n",
       "      <td>...</td>\n",
       "      <td>...</td>\n",
       "      <td>...</td>\n",
       "      <td>...</td>\n",
       "      <td>...</td>\n",
       "      <td>...</td>\n",
       "      <td>...</td>\n",
       "      <td>...</td>\n",
       "    </tr>\n",
       "    <tr>\n",
       "      <th>886</th>\n",
       "      <td>887</td>\n",
       "      <td>0</td>\n",
       "      <td>2</td>\n",
       "      <td>Montvila, Rev. Juozas</td>\n",
       "      <td>male</td>\n",
       "      <td>27.0</td>\n",
       "      <td>0</td>\n",
       "      <td>0</td>\n",
       "      <td>211536</td>\n",
       "      <td>13.0000</td>\n",
       "      <td>NaN</td>\n",
       "      <td>S</td>\n",
       "      <td>X</td>\n",
       "    </tr>\n",
       "    <tr>\n",
       "      <th>887</th>\n",
       "      <td>888</td>\n",
       "      <td>1</td>\n",
       "      <td>1</td>\n",
       "      <td>Graham, Miss. Margaret Edith</td>\n",
       "      <td>female</td>\n",
       "      <td>19.0</td>\n",
       "      <td>0</td>\n",
       "      <td>0</td>\n",
       "      <td>112053</td>\n",
       "      <td>30.0000</td>\n",
       "      <td>B42</td>\n",
       "      <td>S</td>\n",
       "      <td>B</td>\n",
       "    </tr>\n",
       "    <tr>\n",
       "      <th>888</th>\n",
       "      <td>889</td>\n",
       "      <td>0</td>\n",
       "      <td>3</td>\n",
       "      <td>Johnston, Miss. Catherine Helen \"Carrie\"</td>\n",
       "      <td>female</td>\n",
       "      <td>NaN</td>\n",
       "      <td>1</td>\n",
       "      <td>2</td>\n",
       "      <td>W./C. 6607</td>\n",
       "      <td>23.4500</td>\n",
       "      <td>NaN</td>\n",
       "      <td>S</td>\n",
       "      <td>X</td>\n",
       "    </tr>\n",
       "    <tr>\n",
       "      <th>889</th>\n",
       "      <td>890</td>\n",
       "      <td>1</td>\n",
       "      <td>1</td>\n",
       "      <td>Behr, Mr. Karl Howell</td>\n",
       "      <td>male</td>\n",
       "      <td>26.0</td>\n",
       "      <td>0</td>\n",
       "      <td>0</td>\n",
       "      <td>111369</td>\n",
       "      <td>30.0000</td>\n",
       "      <td>C148</td>\n",
       "      <td>C</td>\n",
       "      <td>C</td>\n",
       "    </tr>\n",
       "    <tr>\n",
       "      <th>890</th>\n",
       "      <td>891</td>\n",
       "      <td>0</td>\n",
       "      <td>3</td>\n",
       "      <td>Dooley, Mr. Patrick</td>\n",
       "      <td>male</td>\n",
       "      <td>32.0</td>\n",
       "      <td>0</td>\n",
       "      <td>0</td>\n",
       "      <td>370376</td>\n",
       "      <td>7.7500</td>\n",
       "      <td>NaN</td>\n",
       "      <td>Q</td>\n",
       "      <td>X</td>\n",
       "    </tr>\n",
       "  </tbody>\n",
       "</table>\n",
       "<p>891 rows × 13 columns</p>\n",
       "</div>"
      ]
     },
     "execution_count": 14,
     "metadata": {},
     "output_type": "execute_result"
    }
   ],
   "execution_count": 14
  },
  {
   "metadata": {},
   "cell_type": "markdown",
   "source": [
    "Veiem que tenim una columna extra: `Deck`.\n",
    "\n",
    "A part d'això, també considerem que és important saber simplement si tenim informació sobre la cabina, observem les proporcions de cabines que falten en funció de la classe."
   ]
  },
  {
   "metadata": {
    "ExecuteTime": {
     "end_time": "2025-10-23T18:10:02.742604Z",
     "start_time": "2025-10-23T18:10:02.736180Z"
    }
   },
   "cell_type": "code",
   "source": "df.groupby(\"Pclass\")[\"Cabin\"].apply(lambda x: x.isna().mean())",
   "outputs": [
    {
     "data": {
      "text/plain": [
       "Pclass\n",
       "1    0.185185\n",
       "2    0.913043\n",
       "3    0.975560\n",
       "Name: Cabin, dtype: float64"
      ]
     },
     "execution_count": 15,
     "metadata": {},
     "output_type": "execute_result"
    }
   ],
   "execution_count": 15
  },
  {
   "metadata": {},
   "cell_type": "markdown",
   "source": "Clarament, la majoria de cabines que tenim son de la classe 1. Per tant, com és una dada rellevant, afegim aquest indicador."
  },
  {
   "metadata": {
    "ExecuteTime": {
     "end_time": "2025-10-23T18:10:02.764995Z",
     "start_time": "2025-10-23T18:10:02.761038Z"
    }
   },
   "cell_type": "code",
   "source": [
    "def indicate_missing_cabin(dataframe: pd.DataFrame, column: str = \"Cabin\") -> pd.DataFrame:\n",
    "    # Copiar el dataframe\n",
    "    dataframe = dataframe.copy()\n",
    "\n",
    "    # Crear una columna que indiqui si Cabin és available o no\n",
    "    dataframe[column + \"__missing\"] = dataframe[column].isna().astype(int)\n",
    "\n",
    "    return dataframe\n",
    "\n",
    "# Crear un transformer\n",
    "indicate_missing_cabin_transformer = FunctionTransformer(indicate_missing_cabin, validate=False)"
   ],
   "outputs": [],
   "execution_count": 16
  },
  {
   "metadata": {},
   "cell_type": "markdown",
   "source": "I comprovem que funciona:"
  },
  {
   "metadata": {
    "ExecuteTime": {
     "end_time": "2025-10-23T18:10:02.792561Z",
     "start_time": "2025-10-23T18:10:02.779584Z"
    }
   },
   "cell_type": "code",
   "source": "indicate_missing_cabin_transformer.transform(df)",
   "outputs": [
    {
     "data": {
      "text/plain": [
       "     PassengerId  Survived  Pclass  \\\n",
       "0              1         0       3   \n",
       "1              2         1       1   \n",
       "2              3         1       3   \n",
       "3              4         1       1   \n",
       "4              5         0       3   \n",
       "..           ...       ...     ...   \n",
       "886          887         0       2   \n",
       "887          888         1       1   \n",
       "888          889         0       3   \n",
       "889          890         1       1   \n",
       "890          891         0       3   \n",
       "\n",
       "                                                  Name     Sex   Age  SibSp  \\\n",
       "0                              Braund, Mr. Owen Harris    male  22.0      1   \n",
       "1    Cumings, Mrs. John Bradley (Florence Briggs Th...  female  38.0      1   \n",
       "2                               Heikkinen, Miss. Laina  female  26.0      0   \n",
       "3         Futrelle, Mrs. Jacques Heath (Lily May Peel)  female  35.0      1   \n",
       "4                             Allen, Mr. William Henry    male  35.0      0   \n",
       "..                                                 ...     ...   ...    ...   \n",
       "886                              Montvila, Rev. Juozas    male  27.0      0   \n",
       "887                       Graham, Miss. Margaret Edith  female  19.0      0   \n",
       "888           Johnston, Miss. Catherine Helen \"Carrie\"  female   NaN      1   \n",
       "889                              Behr, Mr. Karl Howell    male  26.0      0   \n",
       "890                                Dooley, Mr. Patrick    male  32.0      0   \n",
       "\n",
       "     Parch            Ticket     Fare Cabin Embarked  Cabin__missing  \n",
       "0        0         A/5 21171   7.2500   NaN        S               1  \n",
       "1        0          PC 17599  71.2833   C85        C               0  \n",
       "2        0  STON/O2. 3101282   7.9250   NaN        S               1  \n",
       "3        0            113803  53.1000  C123        S               0  \n",
       "4        0            373450   8.0500   NaN        S               1  \n",
       "..     ...               ...      ...   ...      ...             ...  \n",
       "886      0            211536  13.0000   NaN        S               1  \n",
       "887      0            112053  30.0000   B42        S               0  \n",
       "888      2        W./C. 6607  23.4500   NaN        S               1  \n",
       "889      0            111369  30.0000  C148        C               0  \n",
       "890      0            370376   7.7500   NaN        Q               1  \n",
       "\n",
       "[891 rows x 13 columns]"
      ],
      "text/html": [
       "<div>\n",
       "<style scoped>\n",
       "    .dataframe tbody tr th:only-of-type {\n",
       "        vertical-align: middle;\n",
       "    }\n",
       "\n",
       "    .dataframe tbody tr th {\n",
       "        vertical-align: top;\n",
       "    }\n",
       "\n",
       "    .dataframe thead th {\n",
       "        text-align: right;\n",
       "    }\n",
       "</style>\n",
       "<table border=\"1\" class=\"dataframe\">\n",
       "  <thead>\n",
       "    <tr style=\"text-align: right;\">\n",
       "      <th></th>\n",
       "      <th>PassengerId</th>\n",
       "      <th>Survived</th>\n",
       "      <th>Pclass</th>\n",
       "      <th>Name</th>\n",
       "      <th>Sex</th>\n",
       "      <th>Age</th>\n",
       "      <th>SibSp</th>\n",
       "      <th>Parch</th>\n",
       "      <th>Ticket</th>\n",
       "      <th>Fare</th>\n",
       "      <th>Cabin</th>\n",
       "      <th>Embarked</th>\n",
       "      <th>Cabin__missing</th>\n",
       "    </tr>\n",
       "  </thead>\n",
       "  <tbody>\n",
       "    <tr>\n",
       "      <th>0</th>\n",
       "      <td>1</td>\n",
       "      <td>0</td>\n",
       "      <td>3</td>\n",
       "      <td>Braund, Mr. Owen Harris</td>\n",
       "      <td>male</td>\n",
       "      <td>22.0</td>\n",
       "      <td>1</td>\n",
       "      <td>0</td>\n",
       "      <td>A/5 21171</td>\n",
       "      <td>7.2500</td>\n",
       "      <td>NaN</td>\n",
       "      <td>S</td>\n",
       "      <td>1</td>\n",
       "    </tr>\n",
       "    <tr>\n",
       "      <th>1</th>\n",
       "      <td>2</td>\n",
       "      <td>1</td>\n",
       "      <td>1</td>\n",
       "      <td>Cumings, Mrs. John Bradley (Florence Briggs Th...</td>\n",
       "      <td>female</td>\n",
       "      <td>38.0</td>\n",
       "      <td>1</td>\n",
       "      <td>0</td>\n",
       "      <td>PC 17599</td>\n",
       "      <td>71.2833</td>\n",
       "      <td>C85</td>\n",
       "      <td>C</td>\n",
       "      <td>0</td>\n",
       "    </tr>\n",
       "    <tr>\n",
       "      <th>2</th>\n",
       "      <td>3</td>\n",
       "      <td>1</td>\n",
       "      <td>3</td>\n",
       "      <td>Heikkinen, Miss. Laina</td>\n",
       "      <td>female</td>\n",
       "      <td>26.0</td>\n",
       "      <td>0</td>\n",
       "      <td>0</td>\n",
       "      <td>STON/O2. 3101282</td>\n",
       "      <td>7.9250</td>\n",
       "      <td>NaN</td>\n",
       "      <td>S</td>\n",
       "      <td>1</td>\n",
       "    </tr>\n",
       "    <tr>\n",
       "      <th>3</th>\n",
       "      <td>4</td>\n",
       "      <td>1</td>\n",
       "      <td>1</td>\n",
       "      <td>Futrelle, Mrs. Jacques Heath (Lily May Peel)</td>\n",
       "      <td>female</td>\n",
       "      <td>35.0</td>\n",
       "      <td>1</td>\n",
       "      <td>0</td>\n",
       "      <td>113803</td>\n",
       "      <td>53.1000</td>\n",
       "      <td>C123</td>\n",
       "      <td>S</td>\n",
       "      <td>0</td>\n",
       "    </tr>\n",
       "    <tr>\n",
       "      <th>4</th>\n",
       "      <td>5</td>\n",
       "      <td>0</td>\n",
       "      <td>3</td>\n",
       "      <td>Allen, Mr. William Henry</td>\n",
       "      <td>male</td>\n",
       "      <td>35.0</td>\n",
       "      <td>0</td>\n",
       "      <td>0</td>\n",
       "      <td>373450</td>\n",
       "      <td>8.0500</td>\n",
       "      <td>NaN</td>\n",
       "      <td>S</td>\n",
       "      <td>1</td>\n",
       "    </tr>\n",
       "    <tr>\n",
       "      <th>...</th>\n",
       "      <td>...</td>\n",
       "      <td>...</td>\n",
       "      <td>...</td>\n",
       "      <td>...</td>\n",
       "      <td>...</td>\n",
       "      <td>...</td>\n",
       "      <td>...</td>\n",
       "      <td>...</td>\n",
       "      <td>...</td>\n",
       "      <td>...</td>\n",
       "      <td>...</td>\n",
       "      <td>...</td>\n",
       "      <td>...</td>\n",
       "    </tr>\n",
       "    <tr>\n",
       "      <th>886</th>\n",
       "      <td>887</td>\n",
       "      <td>0</td>\n",
       "      <td>2</td>\n",
       "      <td>Montvila, Rev. Juozas</td>\n",
       "      <td>male</td>\n",
       "      <td>27.0</td>\n",
       "      <td>0</td>\n",
       "      <td>0</td>\n",
       "      <td>211536</td>\n",
       "      <td>13.0000</td>\n",
       "      <td>NaN</td>\n",
       "      <td>S</td>\n",
       "      <td>1</td>\n",
       "    </tr>\n",
       "    <tr>\n",
       "      <th>887</th>\n",
       "      <td>888</td>\n",
       "      <td>1</td>\n",
       "      <td>1</td>\n",
       "      <td>Graham, Miss. Margaret Edith</td>\n",
       "      <td>female</td>\n",
       "      <td>19.0</td>\n",
       "      <td>0</td>\n",
       "      <td>0</td>\n",
       "      <td>112053</td>\n",
       "      <td>30.0000</td>\n",
       "      <td>B42</td>\n",
       "      <td>S</td>\n",
       "      <td>0</td>\n",
       "    </tr>\n",
       "    <tr>\n",
       "      <th>888</th>\n",
       "      <td>889</td>\n",
       "      <td>0</td>\n",
       "      <td>3</td>\n",
       "      <td>Johnston, Miss. Catherine Helen \"Carrie\"</td>\n",
       "      <td>female</td>\n",
       "      <td>NaN</td>\n",
       "      <td>1</td>\n",
       "      <td>2</td>\n",
       "      <td>W./C. 6607</td>\n",
       "      <td>23.4500</td>\n",
       "      <td>NaN</td>\n",
       "      <td>S</td>\n",
       "      <td>1</td>\n",
       "    </tr>\n",
       "    <tr>\n",
       "      <th>889</th>\n",
       "      <td>890</td>\n",
       "      <td>1</td>\n",
       "      <td>1</td>\n",
       "      <td>Behr, Mr. Karl Howell</td>\n",
       "      <td>male</td>\n",
       "      <td>26.0</td>\n",
       "      <td>0</td>\n",
       "      <td>0</td>\n",
       "      <td>111369</td>\n",
       "      <td>30.0000</td>\n",
       "      <td>C148</td>\n",
       "      <td>C</td>\n",
       "      <td>0</td>\n",
       "    </tr>\n",
       "    <tr>\n",
       "      <th>890</th>\n",
       "      <td>891</td>\n",
       "      <td>0</td>\n",
       "      <td>3</td>\n",
       "      <td>Dooley, Mr. Patrick</td>\n",
       "      <td>male</td>\n",
       "      <td>32.0</td>\n",
       "      <td>0</td>\n",
       "      <td>0</td>\n",
       "      <td>370376</td>\n",
       "      <td>7.7500</td>\n",
       "      <td>NaN</td>\n",
       "      <td>Q</td>\n",
       "      <td>1</td>\n",
       "    </tr>\n",
       "  </tbody>\n",
       "</table>\n",
       "<p>891 rows × 13 columns</p>\n",
       "</div>"
      ]
     },
     "execution_count": 17,
     "metadata": {},
     "output_type": "execute_result"
    }
   ],
   "execution_count": 17
  },
  {
   "metadata": {},
   "cell_type": "markdown",
   "source": "Anem a estudiar ara la columna `Embarked`. Sabem que només hi ha dues files, anem a veure-les:b"
  },
  {
   "metadata": {
    "ExecuteTime": {
     "end_time": "2025-10-23T18:10:02.853371Z",
     "start_time": "2025-10-23T18:10:02.839403Z"
    }
   },
   "cell_type": "code",
   "source": "df[df[\"Embarked\"].isna()]",
   "outputs": [
    {
     "data": {
      "text/plain": [
       "     PassengerId  Survived  Pclass                                       Name  \\\n",
       "61            62         1       1                        Icard, Miss. Amelie   \n",
       "829          830         1       1  Stone, Mrs. George Nelson (Martha Evelyn)   \n",
       "\n",
       "        Sex   Age  SibSp  Parch  Ticket  Fare Cabin Embarked  \n",
       "61   female  38.0      0      0  113572  80.0   B28      NaN  \n",
       "829  female  62.0      0      0  113572  80.0   B28      NaN  "
      ],
      "text/html": [
       "<div>\n",
       "<style scoped>\n",
       "    .dataframe tbody tr th:only-of-type {\n",
       "        vertical-align: middle;\n",
       "    }\n",
       "\n",
       "    .dataframe tbody tr th {\n",
       "        vertical-align: top;\n",
       "    }\n",
       "\n",
       "    .dataframe thead th {\n",
       "        text-align: right;\n",
       "    }\n",
       "</style>\n",
       "<table border=\"1\" class=\"dataframe\">\n",
       "  <thead>\n",
       "    <tr style=\"text-align: right;\">\n",
       "      <th></th>\n",
       "      <th>PassengerId</th>\n",
       "      <th>Survived</th>\n",
       "      <th>Pclass</th>\n",
       "      <th>Name</th>\n",
       "      <th>Sex</th>\n",
       "      <th>Age</th>\n",
       "      <th>SibSp</th>\n",
       "      <th>Parch</th>\n",
       "      <th>Ticket</th>\n",
       "      <th>Fare</th>\n",
       "      <th>Cabin</th>\n",
       "      <th>Embarked</th>\n",
       "    </tr>\n",
       "  </thead>\n",
       "  <tbody>\n",
       "    <tr>\n",
       "      <th>61</th>\n",
       "      <td>62</td>\n",
       "      <td>1</td>\n",
       "      <td>1</td>\n",
       "      <td>Icard, Miss. Amelie</td>\n",
       "      <td>female</td>\n",
       "      <td>38.0</td>\n",
       "      <td>0</td>\n",
       "      <td>0</td>\n",
       "      <td>113572</td>\n",
       "      <td>80.0</td>\n",
       "      <td>B28</td>\n",
       "      <td>NaN</td>\n",
       "    </tr>\n",
       "    <tr>\n",
       "      <th>829</th>\n",
       "      <td>830</td>\n",
       "      <td>1</td>\n",
       "      <td>1</td>\n",
       "      <td>Stone, Mrs. George Nelson (Martha Evelyn)</td>\n",
       "      <td>female</td>\n",
       "      <td>62.0</td>\n",
       "      <td>0</td>\n",
       "      <td>0</td>\n",
       "      <td>113572</td>\n",
       "      <td>80.0</td>\n",
       "      <td>B28</td>\n",
       "      <td>NaN</td>\n",
       "    </tr>\n",
       "  </tbody>\n",
       "</table>\n",
       "</div>"
      ]
     },
     "execution_count": 18,
     "metadata": {},
     "output_type": "execute_result"
    }
   ],
   "execution_count": 18
  },
  {
   "metadata": {},
   "cell_type": "markdown",
   "source": [
    "Sabem que aquesta columna indica el port on ha pujat el passatger, per tant, podríem estimar a quin port ha pujat el passatger mirant els altres passatgers que han pagat un preu similar (òviament considerant la mateixa classe).\n",
    "\n",
    "Per tant, mirem els passatgers amb la mateixa classe i preu similar, considerant més o menys 5 dòlars. Calculem la freqüència absoluta de cada port."
   ]
  },
  {
   "metadata": {
    "ExecuteTime": {
     "end_time": "2025-10-23T18:10:02.903454Z",
     "start_time": "2025-10-23T18:10:02.893991Z"
    }
   },
   "cell_type": "code",
   "source": "df[(df[\"Embarked\"].notna()) & (df[\"Pclass\"] == 1) & (75 <= df[\"Fare\"]) & (df[\"Fare\"] <= 85)][\"Embarked\"].value_counts()",
   "outputs": [
    {
     "data": {
      "text/plain": [
       "Embarked\n",
       "C    16\n",
       "S    13\n",
       "Name: count, dtype: int64"
      ]
     },
     "execution_count": 19,
     "metadata": {},
     "output_type": "execute_result"
    }
   ],
   "execution_count": 19
  },
  {
   "metadata": {},
   "cell_type": "markdown",
   "source": [
    "Veiem que aquests filtres inclouen 29 passatgers, dels quals 16 has pujat al port `C`, Cherbourg.\n",
    "\n",
    "Sembla raonable considerar aquest mini-algoritme per determinar el port d'embarcació més probable. Implementem-lo amb una funció transformer com abans."
   ]
  },
  {
   "metadata": {
    "ExecuteTime": {
     "end_time": "2025-10-23T18:10:02.962044Z",
     "start_time": "2025-10-23T18:10:02.956191Z"
    }
   },
   "cell_type": "code",
   "source": [
    "def impute_embarked(dataframe: pd.DataFrame, tolerance: float = 10.0) -> pd.DataFrame:\n",
    "    # Copiar el dataframe\n",
    "    dataframe = dataframe.copy()\n",
    "\n",
    "    for idx, row in dataframe[dataframe[\"Embarked\"].isna()].iterrows():\n",
    "        pclass = row[\"Pclass\"]\n",
    "        fare = row[\"Fare\"]\n",
    "\n",
    "        # Candidats: mateix Pclass, Fare amb tolerància de +-10\n",
    "        candidates = df[\n",
    "            (df[\"Pclass\"] == pclass) &\n",
    "            (df[\"Embarked\"].notna()) &\n",
    "            (df[\"Fare\"] >= fare - 10) &\n",
    "            (df[\"Fare\"] <= fare + 10)\n",
    "        ]\n",
    "\n",
    "        # Si s'han trobat candidats\n",
    "        if not candidates.empty:\n",
    "            dataframe.at[idx, \"Embarked\"] = candidates[\"Embarked\"].mode()[0]\n",
    "        else:\n",
    "            # Si no s'han trobat candidats, agafar la moda de tot el dataframe\n",
    "            dataframe.at[idx, \"Embarked\"] = dataframe[\"Embarked\"].mode()[0]\n",
    "\n",
    "    return dataframe\n",
    "\n",
    "# Crear un transformer\n",
    "impute_embarked_transformer = FunctionTransformer(impute_embarked, validate=False)"
   ],
   "outputs": [],
   "execution_count": 20
  },
  {
   "metadata": {},
   "cell_type": "markdown",
   "source": "Comprovem que funciona, veient que no hi ha cap dada amb el port d'embarcació no disponible."
  },
  {
   "metadata": {
    "ExecuteTime": {
     "end_time": "2025-10-23T18:10:02.988880Z",
     "start_time": "2025-10-23T18:10:02.978310Z"
    }
   },
   "cell_type": "code",
   "source": "impute_embarked_transformer.transform(df)[\"Embarked\"].isna().sum()",
   "outputs": [
    {
     "data": {
      "text/plain": [
       "np.int64(0)"
      ]
     },
     "execution_count": 21,
     "metadata": {},
     "output_type": "execute_result"
    }
   ],
   "execution_count": 21
  },
  {
   "metadata": {},
   "cell_type": "markdown",
   "source": [
    "Ara hem de tractar les edats que falten. Representen una cinquena part de les dades, per tant, intentarem imputar fent servir algun algoritme o relació que observem amb els altres atributs.\n",
    "\n",
    "Fem una primera gràfica amb la quantitat de passatgers amb una certa edat separant les classes. En aquest cas, no ens interessa el valor absolut de la quantiat de gent, només la proporció entre cada classe, per tant, indiquem l'opció `fill` per obtenir un sentit de les proporcions per cada franja d'edat."
   ]
  },
  {
   "metadata": {
    "ExecuteTime": {
     "end_time": "2025-10-23T18:10:03.314818Z",
     "start_time": "2025-10-23T18:10:02.999964Z"
    }
   },
   "cell_type": "code",
   "source": [
    "sns.histplot(\n",
    "    data=df,\n",
    "    x=\"Age\",\n",
    "    hue=\"Pclass\",\n",
    "    multiple=\"fill\",\n",
    "    bins=40\n",
    ")\n",
    "\n",
    "plt.xlabel(\"Age\")\n",
    "plt.ylabel(\"Proportion\")\n",
    "plt.title(\"Age distribution by Pclass\")\n",
    "plt.show()"
   ],
   "outputs": [
    {
     "data": {
      "text/plain": [
       "<Figure size 640x480 with 1 Axes>"
      ],
      "image/png": "[encoded data removed]"
     },
     "metadata": {},
     "output_type": "display_data"
    }
   ],
   "execution_count": 22
  },
  {
   "metadata": {},
   "cell_type": "markdown",
   "source": "Veiem que la classe 1 està centrada més a la dreta, i les classes 2 i 3 més a l'esquerra. Lo important d'aquesta gràfica és que les tres classes no tenen proporcions constants per totes les edats. Mirem ara les mitjanes d'edats per cada classe."
  },
  {
   "metadata": {
    "ExecuteTime": {
     "end_time": "2025-10-23T18:10:03.327764Z",
     "start_time": "2025-10-23T18:10:03.322358Z"
    }
   },
   "cell_type": "code",
   "source": "df.groupby(\"Pclass\")[\"Age\"].mean()",
   "outputs": [
    {
     "data": {
      "text/plain": [
       "Pclass\n",
       "1    38.233441\n",
       "2    29.877630\n",
       "3    25.140620\n",
       "Name: Age, dtype: float64"
      ]
     },
     "execution_count": 23,
     "metadata": {},
     "output_type": "execute_result"
    }
   ],
   "execution_count": 23
  },
  {
   "metadata": {},
   "cell_type": "markdown",
   "source": [
    "Veiem que hi ha una diferència important d'edats entre les classes.\n",
    "\n",
    "A partir d'aquesta informació, ja podríem calcular una mediana de les classes, i imputar aquest valor a cada passatger, però pensem que és massa brut fer-ho per una cinquena part del dataset, introduirà molta uniformitat i canviarà la distribució. Com ja hem vist amb el mapa de calor dels coeficients de correlació, l'edat tenia relació amb el nombre de germans/parelles i fills/pares, per tant, considerem que podem treure més informació de les dades que tenim per aconseguir una predicció més ajustada. Pensant en les noves columnes que hem afegit, creiem que podríem expandir les dades que tenim per aconseguir una predicció millor que només la moda. Mirem, per exemple, la distribució en funció de si es té informació de la cabina o no (per això, hem d'aplicar el transformer corresponent a la base de dades)."
   ]
  },
  {
   "metadata": {
    "ExecuteTime": {
     "end_time": "2025-10-23T18:10:03.505349Z",
     "start_time": "2025-10-23T18:10:03.360980Z"
    }
   },
   "cell_type": "code",
   "source": [
    "sns.histplot(\n",
    "    data=indicate_missing_cabin_transformer.transform(df),\n",
    "    x=\"Age\",\n",
    "    hue=\"Cabin__missing\",\n",
    "    multiple=\"fill\",\n",
    "    bins=40\n",
    ")\n",
    "\n",
    "plt.xlabel(\"Age\")\n",
    "plt.ylabel(\"Proportion\")\n",
    "plt.title(\"Age distribution by Missing Cabin Indicator\")\n",
    "plt.show()"
   ],
   "outputs": [
    {
     "data": {
      "text/plain": [
       "<Figure size 640x480 with 1 Axes>"
      ],
      "image/png": "[encoded data removed]"
     },
     "metadata": {},
     "output_type": "display_data"
    }
   ],
   "execution_count": 24
  },
  {
   "metadata": {},
   "cell_type": "markdown",
   "source": "A més, mirant les freqüències absolutes observem que també hi ha una gran diferència a la quantitat de gent en funció d'aquest indicador. En aquesta gràfica els dos grups (amb, i sense cabina indicada) estan superposats."
  },
  {
   "metadata": {
    "ExecuteTime": {
     "end_time": "2025-10-23T18:10:03.656401Z",
     "start_time": "2025-10-23T18:10:03.511876Z"
    }
   },
   "cell_type": "code",
   "source": [
    "sns.histplot(\n",
    "    data=indicate_missing_cabin_transformer.transform(df),\n",
    "    x=\"Age\",\n",
    "    hue=\"Cabin__missing\",\n",
    "    bins=40\n",
    ")\n",
    "\n",
    "plt.xlabel(\"Age\")\n",
    "plt.ylabel(\"Count\")\n",
    "plt.title(\"Age distribution by Missing Cabin Indicator\")\n",
    "plt.show()"
   ],
   "outputs": [
    {
     "data": {
      "text/plain": [
       "<Figure size 640x480 with 1 Axes>"
      ],
      "image/png": "[encoded data removed]"
     },
     "metadata": {},
     "output_type": "display_data"
    }
   ],
   "execution_count": 25
  },
  {
   "metadata": {},
   "cell_type": "markdown",
   "source": [
    "Mirem totes les columnes que tenim disponibles (considerant les transformacions ja fetes): `PassengerId`, `Survived`, `Pclass`, `Name`, `Sex`, `Age`, `SibSp`, `Parch`, `Ticket`, `Fare`, `Cabin`, `Embarked`, `Deck`,`Cabin__missing`.\n",
    "\n",
    "Fent un cop d'ull a la columna `Name`, veiem que hi ha noms que contenen tractaments, com \"Mr.\", \"Mrs.\" i \"Master.\". Aquest podrien constituir un molt bon indicador de la seva edat, ja que, per exemple, master es fa servir per nens petits. Mirem tots els tractaments que apareixen (hem de fer servir la funció `extract` amb un regex per extreure el tractament abans del punt), i analitzem quants passatgers tenim per cada un amb, i sense edat."
   ]
  },
  {
   "metadata": {
    "ExecuteTime": {
     "end_time": "2025-10-23T18:10:03.677137Z",
     "start_time": "2025-10-23T18:10:03.664986Z"
    }
   },
   "cell_type": "code",
   "source": [
    "df.groupby(df[\"Name\"].str.extract(r\"(\\w+)\\.\", expand=False))[\"Age\"].agg(\n",
    "    WithAge=lambda x: x.notna().sum(),\n",
    "    MissingAge=lambda x: x.isna().sum()\n",
    ")"
   ],
   "outputs": [
    {
     "data": {
      "text/plain": [
       "          WithAge  MissingAge\n",
       "Name                         \n",
       "Capt            1           0\n",
       "Col             2           0\n",
       "Countess        1           0\n",
       "Don             1           0\n",
       "Dr              6           1\n",
       "Jonkheer        1           0\n",
       "Lady            1           0\n",
       "Major           2           0\n",
       "Master         36           4\n",
       "Miss          146          36\n",
       "Mlle            2           0\n",
       "Mme             1           0\n",
       "Mr            398         119\n",
       "Mrs           108          17\n",
       "Ms              1           0\n",
       "Rev             6           0\n",
       "Sir             1           0"
      ],
      "text/html": [
       "<div>\n",
       "<style scoped>\n",
       "    .dataframe tbody tr th:only-of-type {\n",
       "        vertical-align: middle;\n",
       "    }\n",
       "\n",
       "    .dataframe tbody tr th {\n",
       "        vertical-align: top;\n",
       "    }\n",
       "\n",
       "    .dataframe thead th {\n",
       "        text-align: right;\n",
       "    }\n",
       "</style>\n",
       "<table border=\"1\" class=\"dataframe\">\n",
       "  <thead>\n",
       "    <tr style=\"text-align: right;\">\n",
       "      <th></th>\n",
       "      <th>WithAge</th>\n",
       "      <th>MissingAge</th>\n",
       "    </tr>\n",
       "    <tr>\n",
       "      <th>Name</th>\n",
       "      <th></th>\n",
       "      <th></th>\n",
       "    </tr>\n",
       "  </thead>\n",
       "  <tbody>\n",
       "    <tr>\n",
       "      <th>Capt</th>\n",
       "      <td>1</td>\n",
       "      <td>0</td>\n",
       "    </tr>\n",
       "    <tr>\n",
       "      <th>Col</th>\n",
       "      <td>2</td>\n",
       "      <td>0</td>\n",
       "    </tr>\n",
       "    <tr>\n",
       "      <th>Countess</th>\n",
       "      <td>1</td>\n",
       "      <td>0</td>\n",
       "    </tr>\n",
       "    <tr>\n",
       "      <th>Don</th>\n",
       "      <td>1</td>\n",
       "      <td>0</td>\n",
       "    </tr>\n",
       "    <tr>\n",
       "      <th>Dr</th>\n",
       "      <td>6</td>\n",
       "      <td>1</td>\n",
       "    </tr>\n",
       "    <tr>\n",
       "      <th>Jonkheer</th>\n",
       "      <td>1</td>\n",
       "      <td>0</td>\n",
       "    </tr>\n",
       "    <tr>\n",
       "      <th>Lady</th>\n",
       "      <td>1</td>\n",
       "      <td>0</td>\n",
       "    </tr>\n",
       "    <tr>\n",
       "      <th>Major</th>\n",
       "      <td>2</td>\n",
       "      <td>0</td>\n",
       "    </tr>\n",
       "    <tr>\n",
       "      <th>Master</th>\n",
       "      <td>36</td>\n",
       "      <td>4</td>\n",
       "    </tr>\n",
       "    <tr>\n",
       "      <th>Miss</th>\n",
       "      <td>146</td>\n",
       "      <td>36</td>\n",
       "    </tr>\n",
       "    <tr>\n",
       "      <th>Mlle</th>\n",
       "      <td>2</td>\n",
       "      <td>0</td>\n",
       "    </tr>\n",
       "    <tr>\n",
       "      <th>Mme</th>\n",
       "      <td>1</td>\n",
       "      <td>0</td>\n",
       "    </tr>\n",
       "    <tr>\n",
       "      <th>Mr</th>\n",
       "      <td>398</td>\n",
       "      <td>119</td>\n",
       "    </tr>\n",
       "    <tr>\n",
       "      <th>Mrs</th>\n",
       "      <td>108</td>\n",
       "      <td>17</td>\n",
       "    </tr>\n",
       "    <tr>\n",
       "      <th>Ms</th>\n",
       "      <td>1</td>\n",
       "      <td>0</td>\n",
       "    </tr>\n",
       "    <tr>\n",
       "      <th>Rev</th>\n",
       "      <td>6</td>\n",
       "      <td>0</td>\n",
       "    </tr>\n",
       "    <tr>\n",
       "      <th>Sir</th>\n",
       "      <td>1</td>\n",
       "      <td>0</td>\n",
       "    </tr>\n",
       "  </tbody>\n",
       "</table>\n",
       "</div>"
      ]
     },
     "execution_count": 26,
     "metadata": {},
     "output_type": "execute_result"
    }
   ],
   "execution_count": 26
  },
  {
   "metadata": {},
   "cell_type": "markdown",
   "source": [
    "Veiem que hi ha molts títols que son el mateix escrit de dues formes, només apareixen per a una persona o son similars en significat, així que resumirem aquesta llista a unes categories més generals. Això ho farem en la funció transformer.\n",
    "\n",
    "Tornem a l'anàlisi: agafem per exemple el títol \"Master\", i mirem la mitjana d'edat."
   ]
  },
  {
   "metadata": {
    "ExecuteTime": {
     "end_time": "2025-10-23T18:10:03.705324Z",
     "start_time": "2025-10-23T18:10:03.699158Z"
    }
   },
   "cell_type": "code",
   "source": "df[df[\"Name\"].str.contains(\"Master.\", regex=False)][\"Age\"].mean()",
   "outputs": [
    {
     "data": {
      "text/plain": [
       "np.float64(4.574166666666667)"
      ]
     },
     "execution_count": 27,
     "metadata": {},
     "output_type": "execute_result"
    }
   ],
   "execution_count": 27
  },
  {
   "metadata": {},
   "cell_type": "markdown",
   "source": [
    "Clarament, pels passatgers amb títol master imputarem una edat semblant a aquesta, és dir molt petita.\n",
    "\n",
    "Per poder treballar millor amb aquestes tractaments, creem un transformer que afegeixi aquesta columna a la nostra base de dades (fent el resum que comentàvem abans)."
   ]
  },
  {
   "metadata": {
    "ExecuteTime": {
     "end_time": "2025-10-23T18:10:03.742730Z",
     "start_time": "2025-10-23T18:10:03.739225Z"
    }
   },
   "cell_type": "code",
   "source": [
    "def extract_title(dataframe: pd.DataFrame) -> pd.DataFrame:\n",
    "    # Copiar el dataframe\n",
    "    dataframe = dataframe.copy()\n",
    "\n",
    "    # Extreure el tractament i guardar-lo en una nova columna\n",
    "    dataframe[\"Title\"] = dataframe[\"Name\"].str.extract(r\"(\\w+)\\.\", expand=False)\n",
    "\n",
    "    return dataframe\n",
    "\n",
    "# Crear un transformer\n",
    "extract_title_transformer = FunctionTransformer(extract_title, validate=False)"
   ],
   "outputs": [],
   "execution_count": 28
  },
  {
   "metadata": {},
   "cell_type": "markdown",
   "source": "Veiem que realment funciona."
  },
  {
   "metadata": {
    "ExecuteTime": {
     "end_time": "2025-10-23T18:10:03.765086Z",
     "start_time": "2025-10-23T18:10:03.758134Z"
    }
   },
   "cell_type": "code",
   "source": "extract_title_transformer.transform(df)[\"Title\"].value_counts()",
   "outputs": [
    {
     "data": {
      "text/plain": [
       "Title\n",
       "Mr          517\n",
       "Miss        182\n",
       "Mrs         125\n",
       "Master       40\n",
       "Dr            7\n",
       "Rev           6\n",
       "Col           2\n",
       "Mlle          2\n",
       "Major         2\n",
       "Ms            1\n",
       "Mme           1\n",
       "Don           1\n",
       "Lady          1\n",
       "Sir           1\n",
       "Capt          1\n",
       "Countess      1\n",
       "Jonkheer      1\n",
       "Name: count, dtype: int64"
      ]
     },
     "execution_count": 29,
     "metadata": {},
     "output_type": "execute_result"
    }
   ],
   "execution_count": 29
  },
  {
   "metadata": {},
   "cell_type": "markdown",
   "source": "I que no té cap cel·la sense títol."
  },
  {
   "metadata": {
    "ExecuteTime": {
     "end_time": "2025-10-23T18:10:03.792527Z",
     "start_time": "2025-10-23T18:10:03.786041Z"
    }
   },
   "cell_type": "code",
   "source": "extract_title_transformer.transform(df)[\"Title\"].isna().sum()",
   "outputs": [
    {
     "data": {
      "text/plain": [
       "np.int64(0)"
      ]
     },
     "execution_count": 30,
     "metadata": {},
     "output_type": "execute_result"
    }
   ],
   "execution_count": 30
  },
  {
   "metadata": {},
   "cell_type": "markdown",
   "source": "Pensant intuïtivament, és probable que com més gran sigui la familia de cada individu, més petita serà l'edad mitjana, considerant que la major part son nens. Per tant, proposem una nova columna agregada que, en aquest cas, és simplement la suma del nombre de germans/parelles i pares/fills. Com sempre, creem una funció per dur a terme aquesta transformació."
  },
  {
   "metadata": {
    "ExecuteTime": {
     "end_time": "2025-10-23T18:10:03.804058Z",
     "start_time": "2025-10-23T18:10:03.800589Z"
    }
   },
   "cell_type": "code",
   "source": [
    "def add_family_size(dataframe: pd.DataFrame) -> pd.DataFrame:\n",
    "    # Copiar el dataframe\n",
    "    dataframe = dataframe.copy()\n",
    "\n",
    "    # Extreure els membres de la familia (+1 per aquell passatger)\n",
    "    dataframe[\"FamilySize\"] = dataframe[\"SibSp\"] + dataframe[\"Parch\"] + 1\n",
    "\n",
    "    return dataframe\n",
    "\n",
    "# Crear un transformer\n",
    "add_family_size_transformer = FunctionTransformer(add_family_size, validate=False)"
   ],
   "outputs": [],
   "execution_count": 31
  },
  {
   "metadata": {},
   "cell_type": "markdown",
   "source": "Comprovem que funciona correctament."
  },
  {
   "metadata": {
    "ExecuteTime": {
     "end_time": "2025-10-23T18:10:03.832836Z",
     "start_time": "2025-10-23T18:10:03.822562Z"
    }
   },
   "cell_type": "code",
   "source": "add_family_size_transformer.transform(df)",
   "outputs": [
    {
     "data": {
      "text/plain": [
       "     PassengerId  Survived  Pclass  \\\n",
       "0              1         0       3   \n",
       "1              2         1       1   \n",
       "2              3         1       3   \n",
       "3              4         1       1   \n",
       "4              5         0       3   \n",
       "..           ...       ...     ...   \n",
       "886          887         0       2   \n",
       "887          888         1       1   \n",
       "888          889         0       3   \n",
       "889          890         1       1   \n",
       "890          891         0       3   \n",
       "\n",
       "                                                  Name     Sex   Age  SibSp  \\\n",
       "0                              Braund, Mr. Owen Harris    male  22.0      1   \n",
       "1    Cumings, Mrs. John Bradley (Florence Briggs Th...  female  38.0      1   \n",
       "2                               Heikkinen, Miss. Laina  female  26.0      0   \n",
       "3         Futrelle, Mrs. Jacques Heath (Lily May Peel)  female  35.0      1   \n",
       "4                             Allen, Mr. William Henry    male  35.0      0   \n",
       "..                                                 ...     ...   ...    ...   \n",
       "886                              Montvila, Rev. Juozas    male  27.0      0   \n",
       "887                       Graham, Miss. Margaret Edith  female  19.0      0   \n",
       "888           Johnston, Miss. Catherine Helen \"Carrie\"  female   NaN      1   \n",
       "889                              Behr, Mr. Karl Howell    male  26.0      0   \n",
       "890                                Dooley, Mr. Patrick    male  32.0      0   \n",
       "\n",
       "     Parch            Ticket     Fare Cabin Embarked  FamilySize  \n",
       "0        0         A/5 21171   7.2500   NaN        S           2  \n",
       "1        0          PC 17599  71.2833   C85        C           2  \n",
       "2        0  STON/O2. 3101282   7.9250   NaN        S           1  \n",
       "3        0            113803  53.1000  C123        S           2  \n",
       "4        0            373450   8.0500   NaN        S           1  \n",
       "..     ...               ...      ...   ...      ...         ...  \n",
       "886      0            211536  13.0000   NaN        S           1  \n",
       "887      0            112053  30.0000   B42        S           1  \n",
       "888      2        W./C. 6607  23.4500   NaN        S           4  \n",
       "889      0            111369  30.0000  C148        C           1  \n",
       "890      0            370376   7.7500   NaN        Q           1  \n",
       "\n",
       "[891 rows x 13 columns]"
      ],
      "text/html": [
       "<div>\n",
       "<style scoped>\n",
       "    .dataframe tbody tr th:only-of-type {\n",
       "        vertical-align: middle;\n",
       "    }\n",
       "\n",
       "    .dataframe tbody tr th {\n",
       "        vertical-align: top;\n",
       "    }\n",
       "\n",
       "    .dataframe thead th {\n",
       "        text-align: right;\n",
       "    }\n",
       "</style>\n",
       "<table border=\"1\" class=\"dataframe\">\n",
       "  <thead>\n",
       "    <tr style=\"text-align: right;\">\n",
       "      <th></th>\n",
       "      <th>PassengerId</th>\n",
       "      <th>Survived</th>\n",
       "      <th>Pclass</th>\n",
       "      <th>Name</th>\n",
       "      <th>Sex</th>\n",
       "      <th>Age</th>\n",
       "      <th>SibSp</th>\n",
       "      <th>Parch</th>\n",
       "      <th>Ticket</th>\n",
       "      <th>Fare</th>\n",
       "      <th>Cabin</th>\n",
       "      <th>Embarked</th>\n",
       "      <th>FamilySize</th>\n",
       "    </tr>\n",
       "  </thead>\n",
       "  <tbody>\n",
       "    <tr>\n",
       "      <th>0</th>\n",
       "      <td>1</td>\n",
       "      <td>0</td>\n",
       "      <td>3</td>\n",
       "      <td>Braund, Mr. Owen Harris</td>\n",
       "      <td>male</td>\n",
       "      <td>22.0</td>\n",
       "      <td>1</td>\n",
       "      <td>0</td>\n",
       "      <td>A/5 21171</td>\n",
       "      <td>7.2500</td>\n",
       "      <td>NaN</td>\n",
       "      <td>S</td>\n",
       "      <td>2</td>\n",
       "    </tr>\n",
       "    <tr>\n",
       "      <th>1</th>\n",
       "      <td>2</td>\n",
       "      <td>1</td>\n",
       "      <td>1</td>\n",
       "      <td>Cumings, Mrs. John Bradley (Florence Briggs Th...</td>\n",
       "      <td>female</td>\n",
       "      <td>38.0</td>\n",
       "      <td>1</td>\n",
       "      <td>0</td>\n",
       "      <td>PC 17599</td>\n",
       "      <td>71.2833</td>\n",
       "      <td>C85</td>\n",
       "      <td>C</td>\n",
       "      <td>2</td>\n",
       "    </tr>\n",
       "    <tr>\n",
       "      <th>2</th>\n",
       "      <td>3</td>\n",
       "      <td>1</td>\n",
       "      <td>3</td>\n",
       "      <td>Heikkinen, Miss. Laina</td>\n",
       "      <td>female</td>\n",
       "      <td>26.0</td>\n",
       "      <td>0</td>\n",
       "      <td>0</td>\n",
       "      <td>STON/O2. 3101282</td>\n",
       "      <td>7.9250</td>\n",
       "      <td>NaN</td>\n",
       "      <td>S</td>\n",
       "      <td>1</td>\n",
       "    </tr>\n",
       "    <tr>\n",
       "      <th>3</th>\n",
       "      <td>4</td>\n",
       "      <td>1</td>\n",
       "      <td>1</td>\n",
       "      <td>Futrelle, Mrs. Jacques Heath (Lily May Peel)</td>\n",
       "      <td>female</td>\n",
       "      <td>35.0</td>\n",
       "      <td>1</td>\n",
       "      <td>0</td>\n",
       "      <td>113803</td>\n",
       "      <td>53.1000</td>\n",
       "      <td>C123</td>\n",
       "      <td>S</td>\n",
       "      <td>2</td>\n",
       "    </tr>\n",
       "    <tr>\n",
       "      <th>4</th>\n",
       "      <td>5</td>\n",
       "      <td>0</td>\n",
       "      <td>3</td>\n",
       "      <td>Allen, Mr. William Henry</td>\n",
       "      <td>male</td>\n",
       "      <td>35.0</td>\n",
       "      <td>0</td>\n",
       "      <td>0</td>\n",
       "      <td>373450</td>\n",
       "      <td>8.0500</td>\n",
       "      <td>NaN</td>\n",
       "      <td>S</td>\n",
       "      <td>1</td>\n",
       "    </tr>\n",
       "    <tr>\n",
       "      <th>...</th>\n",
       "      <td>...</td>\n",
       "      <td>...</td>\n",
       "      <td>...</td>\n",
       "      <td>...</td>\n",
       "      <td>...</td>\n",
       "      <td>...</td>\n",
       "      <td>...</td>\n",
       "      <td>...</td>\n",
       "      <td>...</td>\n",
       "      <td>...</td>\n",
       "      <td>...</td>\n",
       "      <td>...</td>\n",
       "      <td>...</td>\n",
       "    </tr>\n",
       "    <tr>\n",
       "      <th>886</th>\n",
       "      <td>887</td>\n",
       "      <td>0</td>\n",
       "      <td>2</td>\n",
       "      <td>Montvila, Rev. Juozas</td>\n",
       "      <td>male</td>\n",
       "      <td>27.0</td>\n",
       "      <td>0</td>\n",
       "      <td>0</td>\n",
       "      <td>211536</td>\n",
       "      <td>13.0000</td>\n",
       "      <td>NaN</td>\n",
       "      <td>S</td>\n",
       "      <td>1</td>\n",
       "    </tr>\n",
       "    <tr>\n",
       "      <th>887</th>\n",
       "      <td>888</td>\n",
       "      <td>1</td>\n",
       "      <td>1</td>\n",
       "      <td>Graham, Miss. Margaret Edith</td>\n",
       "      <td>female</td>\n",
       "      <td>19.0</td>\n",
       "      <td>0</td>\n",
       "      <td>0</td>\n",
       "      <td>112053</td>\n",
       "      <td>30.0000</td>\n",
       "      <td>B42</td>\n",
       "      <td>S</td>\n",
       "      <td>1</td>\n",
       "    </tr>\n",
       "    <tr>\n",
       "      <th>888</th>\n",
       "      <td>889</td>\n",
       "      <td>0</td>\n",
       "      <td>3</td>\n",
       "      <td>Johnston, Miss. Catherine Helen \"Carrie\"</td>\n",
       "      <td>female</td>\n",
       "      <td>NaN</td>\n",
       "      <td>1</td>\n",
       "      <td>2</td>\n",
       "      <td>W./C. 6607</td>\n",
       "      <td>23.4500</td>\n",
       "      <td>NaN</td>\n",
       "      <td>S</td>\n",
       "      <td>4</td>\n",
       "    </tr>\n",
       "    <tr>\n",
       "      <th>889</th>\n",
       "      <td>890</td>\n",
       "      <td>1</td>\n",
       "      <td>1</td>\n",
       "      <td>Behr, Mr. Karl Howell</td>\n",
       "      <td>male</td>\n",
       "      <td>26.0</td>\n",
       "      <td>0</td>\n",
       "      <td>0</td>\n",
       "      <td>111369</td>\n",
       "      <td>30.0000</td>\n",
       "      <td>C148</td>\n",
       "      <td>C</td>\n",
       "      <td>1</td>\n",
       "    </tr>\n",
       "    <tr>\n",
       "      <th>890</th>\n",
       "      <td>891</td>\n",
       "      <td>0</td>\n",
       "      <td>3</td>\n",
       "      <td>Dooley, Mr. Patrick</td>\n",
       "      <td>male</td>\n",
       "      <td>32.0</td>\n",
       "      <td>0</td>\n",
       "      <td>0</td>\n",
       "      <td>370376</td>\n",
       "      <td>7.7500</td>\n",
       "      <td>NaN</td>\n",
       "      <td>Q</td>\n",
       "      <td>1</td>\n",
       "    </tr>\n",
       "  </tbody>\n",
       "</table>\n",
       "<p>891 rows × 13 columns</p>\n",
       "</div>"
      ]
     },
     "execution_count": 32,
     "metadata": {},
     "output_type": "execute_result"
    }
   ],
   "execution_count": 32
  },
  {
   "metadata": {},
   "cell_type": "markdown",
   "source": "Comprovem ràpidament la nostra hipòtesi mirant només el coeficient de correlació de Pearson (que detecta relació de linealitat entre les dues variables)."
  },
  {
   "metadata": {
    "ExecuteTime": {
     "end_time": "2025-10-23T18:10:03.846521Z",
     "start_time": "2025-10-23T18:10:03.840105Z"
    }
   },
   "cell_type": "code",
   "source": "df[\"Age\"].corr(add_family_size_transformer.transform(df)[\"FamilySize\"])",
   "outputs": [
    {
     "data": {
      "text/plain": [
       "np.float64(-0.30191395919247593)"
      ]
     },
     "execution_count": 33,
     "metadata": {},
     "output_type": "execute_result"
    }
   ],
   "execution_count": 33
  },
  {
   "metadata": {},
   "cell_type": "markdown",
   "source": [
    "Dona negatiu, com esperàvem, és dir que a més membres en la familia, menor és l'edat. En valor absolut no és gaire convincent, es considera un valor baix, però de moment inclourem aquesta dada per fer la predicció de l'edat.\n",
    "\n",
    "Amb totes les noves features que hem creat en la base de dades, ja podem pensar en com podem predir l'edat per a les persones que no en tenen una indicada. Estem en un cas ideal per fer servir l'algoritme KNN. Té sentit que si dos passatgers estan \"a prop\" en aquest espai multidimensional, tinguin edats similars. Per això, farem servir les variables categòriques títol i deck (que passarem a variables indicadores binàries), les numèriques preu, germans/parelles, pares/fills, membres de la familia i la binària que ens diu si té indicada una cabina.\n",
    "\n",
    "Com aquest algoritme KNN és sensible a l'escala de les variables (ja que tracta amb distàncies), és necessari aplicar una normalització de les dades numèriques abans de començar el procés iteratiu.\n",
    "\n",
    "Implementem tot això a través d'un pipeline que automàticament ens passa les categòriques a binàries, normalitza i prediu les edats (després d'incloure tots els transformers fets anteriorment)."
   ]
  },
  {
   "metadata": {
    "ExecuteTime": {
     "end_time": "2025-10-23T18:10:03.889165Z",
     "start_time": "2025-10-23T18:10:03.883582Z"
    }
   },
   "cell_type": "code",
   "source": [
    "categorical_features = [\"Title\", \"Cabin__missing\", \"Pclass\"]\n",
    "numerical_features = [\"Fare\", \"SibSp\", \"Parch\", \"FamilySize\"]\n",
    "\n",
    "age_preprocessor = ColumnTransformer(\n",
    "    transformers=[\n",
    "        (\"cat\", OneHotEncoder(drop=\"first\", handle_unknown=\"ignore\"), categorical_features),\n",
    "        (\"num\", StandardScaler(), numerical_features),\n",
    "        (\"pred\", \"passthrough\", [\"Age\"])\n",
    "    ]\n",
    ")\n",
    "\n",
    "age_pipeline = Pipeline([\n",
    "    (\"missing_cabin\", indicate_missing_cabin_transformer),\n",
    "    (\"extract_title\", extract_title_transformer),\n",
    "    (\"add_family_size\", add_family_size_transformer),\n",
    "    (\"preprocessor\", age_preprocessor),\n",
    "    (\"imputer\", KNNImputer(n_neighbors=5))\n",
    "])"
   ],
   "outputs": [],
   "execution_count": 34
  },
  {
   "metadata": {},
   "cell_type": "markdown",
   "source": "Executem el pipeline i guardem el resultat final per fer unes observacions."
  },
  {
   "metadata": {
    "ExecuteTime": {
     "end_time": "2025-10-23T18:10:03.957149Z",
     "start_time": "2025-10-23T18:10:03.900320Z"
    }
   },
   "cell_type": "code",
   "source": [
    "new_df = pd.DataFrame(age_pipeline.fit_transform(df), columns=age_pipeline.named_steps[\"preprocessor\"].get_feature_names_out())\n",
    "new_df.describe()"
   ],
   "outputs": [
    {
     "data": {
      "text/plain": [
       "       cat__Title_Col  cat__Title_Countess  cat__Title_Don  cat__Title_Dr  \\\n",
       "count      891.000000           891.000000      891.000000     891.000000   \n",
       "mean         0.002245             0.001122        0.001122       0.007856   \n",
       "std          0.047351             0.033501        0.033501       0.088337   \n",
       "min          0.000000             0.000000        0.000000       0.000000   \n",
       "25%          0.000000             0.000000        0.000000       0.000000   \n",
       "50%          0.000000             0.000000        0.000000       0.000000   \n",
       "75%          0.000000             0.000000        0.000000       0.000000   \n",
       "max          1.000000             1.000000        1.000000       1.000000   \n",
       "\n",
       "       cat__Title_Jonkheer  cat__Title_Lady  cat__Title_Major  \\\n",
       "count           891.000000       891.000000        891.000000   \n",
       "mean              0.001122         0.001122          0.002245   \n",
       "std               0.033501         0.033501          0.047351   \n",
       "min               0.000000         0.000000          0.000000   \n",
       "25%               0.000000         0.000000          0.000000   \n",
       "50%               0.000000         0.000000          0.000000   \n",
       "75%               0.000000         0.000000          0.000000   \n",
       "max               1.000000         1.000000          1.000000   \n",
       "\n",
       "       cat__Title_Master  cat__Title_Miss  cat__Title_Mlle  ...  \\\n",
       "count         891.000000       891.000000       891.000000  ...   \n",
       "mean            0.044893         0.204265         0.002245  ...   \n",
       "std             0.207186         0.403390         0.047351  ...   \n",
       "min             0.000000         0.000000         0.000000  ...   \n",
       "25%             0.000000         0.000000         0.000000  ...   \n",
       "50%             0.000000         0.000000         0.000000  ...   \n",
       "75%             0.000000         0.000000         0.000000  ...   \n",
       "max             1.000000         1.000000         1.000000  ...   \n",
       "\n",
       "       cat__Title_Rev  cat__Title_Sir  cat__Cabin__missing_1  cat__Pclass_2  \\\n",
       "count      891.000000      891.000000             891.000000     891.000000   \n",
       "mean         0.006734        0.001122               0.771044       0.206510   \n",
       "std          0.081830        0.033501               0.420397       0.405028   \n",
       "min          0.000000        0.000000               0.000000       0.000000   \n",
       "25%          0.000000        0.000000               1.000000       0.000000   \n",
       "50%          0.000000        0.000000               1.000000       0.000000   \n",
       "75%          0.000000        0.000000               1.000000       0.000000   \n",
       "max          1.000000        1.000000               1.000000       1.000000   \n",
       "\n",
       "       cat__Pclass_3     num__Fare    num__SibSp    num__Parch  \\\n",
       "count     891.000000  8.910000e+02  8.910000e+02  8.910000e+02   \n",
       "mean        0.551066  3.987333e-18  4.386066e-17  5.382900e-17   \n",
       "std         0.497665  1.000562e+00  1.000562e+00  1.000562e+00   \n",
       "min         0.000000 -6.484217e-01 -4.745452e-01 -4.736736e-01   \n",
       "25%         0.000000 -4.891482e-01 -4.745452e-01 -4.736736e-01   \n",
       "50%         1.000000 -3.573909e-01 -4.745452e-01 -4.736736e-01   \n",
       "75%         1.000000 -2.424635e-02  4.327934e-01 -4.736736e-01   \n",
       "max         1.000000  9.667167e+00  6.784163e+00  6.974147e+00   \n",
       "\n",
       "       num__FamilySize   pred__Age  \n",
       "count     8.910000e+02  891.000000  \n",
       "mean     -2.392400e-17   29.655598  \n",
       "std       1.000562e+00   13.892370  \n",
       "min      -5.609748e-01    0.420000  \n",
       "25%      -5.609748e-01   21.000000  \n",
       "50%      -5.609748e-01   28.500000  \n",
       "75%       5.915988e-02   38.000000  \n",
       "max       5.640372e+00   80.000000  \n",
       "\n",
       "[8 rows x 24 columns]"
      ],
      "text/html": [
       "<div>\n",
       "<style scoped>\n",
       "    .dataframe tbody tr th:only-of-type {\n",
       "        vertical-align: middle;\n",
       "    }\n",
       "\n",
       "    .dataframe tbody tr th {\n",
       "        vertical-align: top;\n",
       "    }\n",
       "\n",
       "    .dataframe thead th {\n",
       "        text-align: right;\n",
       "    }\n",
       "</style>\n",
       "<table border=\"1\" class=\"dataframe\">\n",
       "  <thead>\n",
       "    <tr style=\"text-align: right;\">\n",
       "      <th></th>\n",
       "      <th>cat__Title_Col</th>\n",
       "      <th>cat__Title_Countess</th>\n",
       "      <th>cat__Title_Don</th>\n",
       "      <th>cat__Title_Dr</th>\n",
       "      <th>cat__Title_Jonkheer</th>\n",
       "      <th>cat__Title_Lady</th>\n",
       "      <th>cat__Title_Major</th>\n",
       "      <th>cat__Title_Master</th>\n",
       "      <th>cat__Title_Miss</th>\n",
       "      <th>cat__Title_Mlle</th>\n",
       "      <th>...</th>\n",
       "      <th>cat__Title_Rev</th>\n",
       "      <th>cat__Title_Sir</th>\n",
       "      <th>cat__Cabin__missing_1</th>\n",
       "      <th>cat__Pclass_2</th>\n",
       "      <th>cat__Pclass_3</th>\n",
       "      <th>num__Fare</th>\n",
       "      <th>num__SibSp</th>\n",
       "      <th>num__Parch</th>\n",
       "      <th>num__FamilySize</th>\n",
       "      <th>pred__Age</th>\n",
       "    </tr>\n",
       "  </thead>\n",
       "  <tbody>\n",
       "    <tr>\n",
       "      <th>count</th>\n",
       "      <td>891.000000</td>\n",
       "      <td>891.000000</td>\n",
       "      <td>891.000000</td>\n",
       "      <td>891.000000</td>\n",
       "      <td>891.000000</td>\n",
       "      <td>891.000000</td>\n",
       "      <td>891.000000</td>\n",
       "      <td>891.000000</td>\n",
       "      <td>891.000000</td>\n",
       "      <td>891.000000</td>\n",
       "      <td>...</td>\n",
       "      <td>891.000000</td>\n",
       "      <td>891.000000</td>\n",
       "      <td>891.000000</td>\n",
       "      <td>891.000000</td>\n",
       "      <td>891.000000</td>\n",
       "      <td>8.910000e+02</td>\n",
       "      <td>8.910000e+02</td>\n",
       "      <td>8.910000e+02</td>\n",
       "      <td>8.910000e+02</td>\n",
       "      <td>891.000000</td>\n",
       "    </tr>\n",
       "    <tr>\n",
       "      <th>mean</th>\n",
       "      <td>0.002245</td>\n",
       "      <td>0.001122</td>\n",
       "      <td>0.001122</td>\n",
       "      <td>0.007856</td>\n",
       "      <td>0.001122</td>\n",
       "      <td>0.001122</td>\n",
       "      <td>0.002245</td>\n",
       "      <td>0.044893</td>\n",
       "      <td>0.204265</td>\n",
       "      <td>0.002245</td>\n",
       "      <td>...</td>\n",
       "      <td>0.006734</td>\n",
       "      <td>0.001122</td>\n",
       "      <td>0.771044</td>\n",
       "      <td>0.206510</td>\n",
       "      <td>0.551066</td>\n",
       "      <td>3.987333e-18</td>\n",
       "      <td>4.386066e-17</td>\n",
       "      <td>5.382900e-17</td>\n",
       "      <td>-2.392400e-17</td>\n",
       "      <td>29.655598</td>\n",
       "    </tr>\n",
       "    <tr>\n",
       "      <th>std</th>\n",
       "      <td>0.047351</td>\n",
       "      <td>0.033501</td>\n",
       "      <td>0.033501</td>\n",
       "      <td>0.088337</td>\n",
       "      <td>0.033501</td>\n",
       "      <td>0.033501</td>\n",
       "      <td>0.047351</td>\n",
       "      <td>0.207186</td>\n",
       "      <td>0.403390</td>\n",
       "      <td>0.047351</td>\n",
       "      <td>...</td>\n",
       "      <td>0.081830</td>\n",
       "      <td>0.033501</td>\n",
       "      <td>0.420397</td>\n",
       "      <td>0.405028</td>\n",
       "      <td>0.497665</td>\n",
       "      <td>1.000562e+00</td>\n",
       "      <td>1.000562e+00</td>\n",
       "      <td>1.000562e+00</td>\n",
       "      <td>1.000562e+00</td>\n",
       "      <td>13.892370</td>\n",
       "    </tr>\n",
       "    <tr>\n",
       "      <th>min</th>\n",
       "      <td>0.000000</td>\n",
       "      <td>0.000000</td>\n",
       "      <td>0.000000</td>\n",
       "      <td>0.000000</td>\n",
       "      <td>0.000000</td>\n",
       "      <td>0.000000</td>\n",
       "      <td>0.000000</td>\n",
       "      <td>0.000000</td>\n",
       "      <td>0.000000</td>\n",
       "      <td>0.000000</td>\n",
       "      <td>...</td>\n",
       "      <td>0.000000</td>\n",
       "      <td>0.000000</td>\n",
       "      <td>0.000000</td>\n",
       "      <td>0.000000</td>\n",
       "      <td>0.000000</td>\n",
       "      <td>-6.484217e-01</td>\n",
       "      <td>-4.745452e-01</td>\n",
       "      <td>-4.736736e-01</td>\n",
       "      <td>-5.609748e-01</td>\n",
       "      <td>0.420000</td>\n",
       "    </tr>\n",
       "    <tr>\n",
       "      <th>25%</th>\n",
       "      <td>0.000000</td>\n",
       "      <td>0.000000</td>\n",
       "      <td>0.000000</td>\n",
       "      <td>0.000000</td>\n",
       "      <td>0.000000</td>\n",
       "      <td>0.000000</td>\n",
       "      <td>0.000000</td>\n",
       "      <td>0.000000</td>\n",
       "      <td>0.000000</td>\n",
       "      <td>0.000000</td>\n",
       "      <td>...</td>\n",
       "      <td>0.000000</td>\n",
       "      <td>0.000000</td>\n",
       "      <td>1.000000</td>\n",
       "      <td>0.000000</td>\n",
       "      <td>0.000000</td>\n",
       "      <td>-4.891482e-01</td>\n",
       "      <td>-4.745452e-01</td>\n",
       "      <td>-4.736736e-01</td>\n",
       "      <td>-5.609748e-01</td>\n",
       "      <td>21.000000</td>\n",
       "    </tr>\n",
       "    <tr>\n",
       "      <th>50%</th>\n",
       "      <td>0.000000</td>\n",
       "      <td>0.000000</td>\n",
       "      <td>0.000000</td>\n",
       "      <td>0.000000</td>\n",
       "      <td>0.000000</td>\n",
       "      <td>0.000000</td>\n",
       "      <td>0.000000</td>\n",
       "      <td>0.000000</td>\n",
       "      <td>0.000000</td>\n",
       "      <td>0.000000</td>\n",
       "      <td>...</td>\n",
       "      <td>0.000000</td>\n",
       "      <td>0.000000</td>\n",
       "      <td>1.000000</td>\n",
       "      <td>0.000000</td>\n",
       "      <td>1.000000</td>\n",
       "      <td>-3.573909e-01</td>\n",
       "      <td>-4.745452e-01</td>\n",
       "      <td>-4.736736e-01</td>\n",
       "      <td>-5.609748e-01</td>\n",
       "      <td>28.500000</td>\n",
       "    </tr>\n",
       "    <tr>\n",
       "      <th>75%</th>\n",
       "      <td>0.000000</td>\n",
       "      <td>0.000000</td>\n",
       "      <td>0.000000</td>\n",
       "      <td>0.000000</td>\n",
       "      <td>0.000000</td>\n",
       "      <td>0.000000</td>\n",
       "      <td>0.000000</td>\n",
       "      <td>0.000000</td>\n",
       "      <td>0.000000</td>\n",
       "      <td>0.000000</td>\n",
       "      <td>...</td>\n",
       "      <td>0.000000</td>\n",
       "      <td>0.000000</td>\n",
       "      <td>1.000000</td>\n",
       "      <td>0.000000</td>\n",
       "      <td>1.000000</td>\n",
       "      <td>-2.424635e-02</td>\n",
       "      <td>4.327934e-01</td>\n",
       "      <td>-4.736736e-01</td>\n",
       "      <td>5.915988e-02</td>\n",
       "      <td>38.000000</td>\n",
       "    </tr>\n",
       "    <tr>\n",
       "      <th>max</th>\n",
       "      <td>1.000000</td>\n",
       "      <td>1.000000</td>\n",
       "      <td>1.000000</td>\n",
       "      <td>1.000000</td>\n",
       "      <td>1.000000</td>\n",
       "      <td>1.000000</td>\n",
       "      <td>1.000000</td>\n",
       "      <td>1.000000</td>\n",
       "      <td>1.000000</td>\n",
       "      <td>1.000000</td>\n",
       "      <td>...</td>\n",
       "      <td>1.000000</td>\n",
       "      <td>1.000000</td>\n",
       "      <td>1.000000</td>\n",
       "      <td>1.000000</td>\n",
       "      <td>1.000000</td>\n",
       "      <td>9.667167e+00</td>\n",
       "      <td>6.784163e+00</td>\n",
       "      <td>6.974147e+00</td>\n",
       "      <td>5.640372e+00</td>\n",
       "      <td>80.000000</td>\n",
       "    </tr>\n",
       "  </tbody>\n",
       "</table>\n",
       "<p>8 rows × 24 columns</p>\n",
       "</div>"
      ]
     },
     "execution_count": 35,
     "metadata": {},
     "output_type": "execute_result"
    }
   ],
   "execution_count": 35
  },
  {
   "metadata": {},
   "cell_type": "markdown",
   "source": "Mirem, primer, que ara sí tinguem totes les dades sense NaN's (entre les columnes que hem fet servir en el preprocessador pel KNN, per exemple cabines segueix tenint NaN's)."
  },
  {
   "metadata": {
    "ExecuteTime": {
     "end_time": "2025-10-23T18:10:03.970562Z",
     "start_time": "2025-10-23T18:10:03.964928Z"
    }
   },
   "cell_type": "code",
   "source": "new_df.isna().sum().sum()",
   "outputs": [
    {
     "data": {
      "text/plain": [
       "np.int64(0)"
      ]
     },
     "execution_count": 36,
     "metadata": {},
     "output_type": "execute_result"
    }
   ],
   "execution_count": 36
  },
  {
   "metadata": {},
   "cell_type": "markdown",
   "source": "Ara comparem les edats mitjanes per títol abans, i després de l'imputament amb el KNN."
  },
  {
   "metadata": {
    "ExecuteTime": {
     "end_time": "2025-10-23T18:10:04.004976Z",
     "start_time": "2025-10-23T18:10:03.988651Z"
    }
   },
   "cell_type": "code",
   "source": [
    "df_titled = extract_title_transformer.transform(df)\n",
    "df_titled[\"Imputed Age\"] = new_df.iloc[:, -1]\n",
    "age_comparison = pd.DataFrame({\n",
    "    \"Original_Age\": df_titled.groupby(\"Title\")[\"Age\"].mean(),\n",
    "    \"Imputed_Age\": df_titled.groupby(\"Title\")[\"Imputed Age\"].mean(),\n",
    "})\n",
    "age_comparison[\"NaN_Count\"] = df_titled.groupby(\"Title\")[\"Age\"].apply(lambda x: x.isna().sum())\n",
    "age_comparison[\"Difference\"] = age_comparison[\"Imputed_Age\"] - age_comparison[\"Original_Age\"]\n",
    "\n",
    "age_comparison"
   ],
   "outputs": [
    {
     "data": {
      "text/plain": [
       "          Original_Age  Imputed_Age  NaN_Count  Difference\n",
       "Title                                                     \n",
       "Capt         70.000000    70.000000          0    0.000000\n",
       "Col          58.000000    58.000000          0    0.000000\n",
       "Countess     33.000000    33.000000          0    0.000000\n",
       "Don          40.000000    40.000000          0    0.000000\n",
       "Dr           42.000000    41.314286          1   -0.685714\n",
       "Jonkheer     38.000000    38.000000          0    0.000000\n",
       "Lady         48.000000    48.000000          0    0.000000\n",
       "Major        48.500000    48.500000          0    0.000000\n",
       "Master        4.574167     4.770950          4    0.196783\n",
       "Miss         21.773973    21.157143         36   -0.616830\n",
       "Mlle         24.000000    24.000000          0    0.000000\n",
       "Mme          24.000000    24.000000          0    0.000000\n",
       "Mr           32.368090    32.446228        119    0.078138\n",
       "Mrs          35.898148    35.742400         17   -0.155748\n",
       "Ms           28.000000    28.000000          0    0.000000\n",
       "Rev          43.166667    43.166667          0    0.000000\n",
       "Sir          49.000000    49.000000          0    0.000000"
      ],
      "text/html": [
       "<div>\n",
       "<style scoped>\n",
       "    .dataframe tbody tr th:only-of-type {\n",
       "        vertical-align: middle;\n",
       "    }\n",
       "\n",
       "    .dataframe tbody tr th {\n",
       "        vertical-align: top;\n",
       "    }\n",
       "\n",
       "    .dataframe thead th {\n",
       "        text-align: right;\n",
       "    }\n",
       "</style>\n",
       "<table border=\"1\" class=\"dataframe\">\n",
       "  <thead>\n",
       "    <tr style=\"text-align: right;\">\n",
       "      <th></th>\n",
       "      <th>Original_Age</th>\n",
       "      <th>Imputed_Age</th>\n",
       "      <th>NaN_Count</th>\n",
       "      <th>Difference</th>\n",
       "    </tr>\n",
       "    <tr>\n",
       "      <th>Title</th>\n",
       "      <th></th>\n",
       "      <th></th>\n",
       "      <th></th>\n",
       "      <th></th>\n",
       "    </tr>\n",
       "  </thead>\n",
       "  <tbody>\n",
       "    <tr>\n",
       "      <th>Capt</th>\n",
       "      <td>70.000000</td>\n",
       "      <td>70.000000</td>\n",
       "      <td>0</td>\n",
       "      <td>0.000000</td>\n",
       "    </tr>\n",
       "    <tr>\n",
       "      <th>Col</th>\n",
       "      <td>58.000000</td>\n",
       "      <td>58.000000</td>\n",
       "      <td>0</td>\n",
       "      <td>0.000000</td>\n",
       "    </tr>\n",
       "    <tr>\n",
       "      <th>Countess</th>\n",
       "      <td>33.000000</td>\n",
       "      <td>33.000000</td>\n",
       "      <td>0</td>\n",
       "      <td>0.000000</td>\n",
       "    </tr>\n",
       "    <tr>\n",
       "      <th>Don</th>\n",
       "      <td>40.000000</td>\n",
       "      <td>40.000000</td>\n",
       "      <td>0</td>\n",
       "      <td>0.000000</td>\n",
       "    </tr>\n",
       "    <tr>\n",
       "      <th>Dr</th>\n",
       "      <td>42.000000</td>\n",
       "      <td>41.314286</td>\n",
       "      <td>1</td>\n",
       "      <td>-0.685714</td>\n",
       "    </tr>\n",
       "    <tr>\n",
       "      <th>Jonkheer</th>\n",
       "      <td>38.000000</td>\n",
       "      <td>38.000000</td>\n",
       "      <td>0</td>\n",
       "      <td>0.000000</td>\n",
       "    </tr>\n",
       "    <tr>\n",
       "      <th>Lady</th>\n",
       "      <td>48.000000</td>\n",
       "      <td>48.000000</td>\n",
       "      <td>0</td>\n",
       "      <td>0.000000</td>\n",
       "    </tr>\n",
       "    <tr>\n",
       "      <th>Major</th>\n",
       "      <td>48.500000</td>\n",
       "      <td>48.500000</td>\n",
       "      <td>0</td>\n",
       "      <td>0.000000</td>\n",
       "    </tr>\n",
       "    <tr>\n",
       "      <th>Master</th>\n",
       "      <td>4.574167</td>\n",
       "      <td>4.770950</td>\n",
       "      <td>4</td>\n",
       "      <td>0.196783</td>\n",
       "    </tr>\n",
       "    <tr>\n",
       "      <th>Miss</th>\n",
       "      <td>21.773973</td>\n",
       "      <td>21.157143</td>\n",
       "      <td>36</td>\n",
       "      <td>-0.616830</td>\n",
       "    </tr>\n",
       "    <tr>\n",
       "      <th>Mlle</th>\n",
       "      <td>24.000000</td>\n",
       "      <td>24.000000</td>\n",
       "      <td>0</td>\n",
       "      <td>0.000000</td>\n",
       "    </tr>\n",
       "    <tr>\n",
       "      <th>Mme</th>\n",
       "      <td>24.000000</td>\n",
       "      <td>24.000000</td>\n",
       "      <td>0</td>\n",
       "      <td>0.000000</td>\n",
       "    </tr>\n",
       "    <tr>\n",
       "      <th>Mr</th>\n",
       "      <td>32.368090</td>\n",
       "      <td>32.446228</td>\n",
       "      <td>119</td>\n",
       "      <td>0.078138</td>\n",
       "    </tr>\n",
       "    <tr>\n",
       "      <th>Mrs</th>\n",
       "      <td>35.898148</td>\n",
       "      <td>35.742400</td>\n",
       "      <td>17</td>\n",
       "      <td>-0.155748</td>\n",
       "    </tr>\n",
       "    <tr>\n",
       "      <th>Ms</th>\n",
       "      <td>28.000000</td>\n",
       "      <td>28.000000</td>\n",
       "      <td>0</td>\n",
       "      <td>0.000000</td>\n",
       "    </tr>\n",
       "    <tr>\n",
       "      <th>Rev</th>\n",
       "      <td>43.166667</td>\n",
       "      <td>43.166667</td>\n",
       "      <td>0</td>\n",
       "      <td>0.000000</td>\n",
       "    </tr>\n",
       "    <tr>\n",
       "      <th>Sir</th>\n",
       "      <td>49.000000</td>\n",
       "      <td>49.000000</td>\n",
       "      <td>0</td>\n",
       "      <td>0.000000</td>\n",
       "    </tr>\n",
       "  </tbody>\n",
       "</table>\n",
       "</div>"
      ]
     },
     "execution_count": 37,
     "metadata": {},
     "output_type": "execute_result"
    }
   ],
   "execution_count": 37
  },
  {
   "metadata": {},
   "cell_type": "markdown",
   "source": [
    "Podem observar que l'algoritme KNN ha estat molt fidel amb el que nosaltres esperàvem, que les edats siguin semblants pel mateix títol. Veiem que les mitjanes per honorífic han canviat molt poc.\n",
    "\n",
    "Analitzem també les distribucions de les edats abans i després de l'imputament."
   ]
  },
  {
   "metadata": {
    "ExecuteTime": {
     "end_time": "2025-10-23T18:10:04.160014Z",
     "start_time": "2025-10-23T18:10:04.031583Z"
    }
   },
   "cell_type": "code",
   "source": [
    "plt.hist(df_titled[\"Imputed Age\"], bins=30, alpha=0.5, label=\"Imputed Age\")\n",
    "plt.hist(df_titled[\"Age\"].dropna(), bins=30, alpha=0.5, label=\"Original Age\")\n",
    "plt.xlabel(\"Age\")\n",
    "plt.ylabel(\"Count\")\n",
    "plt.title(\"Histogram of Original vs Imputed Age\")\n",
    "plt.legend()\n",
    "plt.show()"
   ],
   "outputs": [
    {
     "data": {
      "text/plain": [
       "<Figure size 640x480 with 1 Axes>"
      ],
      "image/png": "[encoded data removed]"
     },
     "metadata": {},
     "output_type": "display_data"
    }
   ],
   "execution_count": 38
  },
  {
   "metadata": {},
   "cell_type": "markdown",
   "source": [
    "Observem que la distribució de les edats imputades segueix prou precisament la forma de les edats originals, per tant donarem aquests resultats per bons.\n",
    "\n",
    "Amb aquesta última anàlisi, acabem de tractar totes les columnes amb informació mancant. Fem un repàs:\n",
    "\n",
    "- `Cabin`: hem extret la columna `Deck` (`extract_deck_transformer`) i hem afegit un indicador `Cabin__missing` per saber si disposem de la dada (`indicate_missing_cabin_transformer`)\n",
    "- `Embark`: hem extret els passatgers de la mateixa classe i preu semblant i hem agafat la moda (`impute_embarked_transformer`)\n",
    "- `Age`: hem vist que `Pclass` i `Cabin__missing` son importants per predir l'edat, hem extret el títol del nom per crear `Title` (`extract_title_transformer`) i la mida de la família a partir dels germans/parelles i pares/fills per crear `FamilySize` (`add_family_size_transformer`), i amb totes aquestes dades hem fet un KNN per predir les edats que faltaven (`age_pipeline`)\n",
    "\n",
    "Com més endavant voldrem enllaçar tots els transformers en una pipeline, millorem el transformer de predicció de l'edat. Ho farem creant una classe custom a partir de les classes base de sklearn, implementant les funcions base `fit` i `transform`."
   ]
  },
  {
   "metadata": {
    "ExecuteTime": {
     "end_time": "2025-10-23T18:10:04.172399Z",
     "start_time": "2025-10-23T18:10:04.166464Z"
    }
   },
   "cell_type": "code",
   "source": [
    "class AgeKNNImputer(BaseEstimator, TransformerMixin):\n",
    "    def __init__(self, n_neighbors=5):\n",
    "        self.n_neighbors = n_neighbors\n",
    "        self.age_features = [\"Fare\", \"SibSp\", \"Parch\", \"FamilySize\", \"Title\", \"Cabin__missing\", \"Pclass\"]\n",
    "        self.ohe = None\n",
    "        self.scaler = None\n",
    "        self.knn = None\n",
    "        self.column_transformer = None\n",
    "        self.feature_names_out_ = None\n",
    "\n",
    "    @staticmethod\n",
    "    def create_necessary_features(dataframe_x: pd.DataFrame) -> pd.DataFrame:\n",
    "        # Crear les features que calen si no hi son\n",
    "        if \"FamilySize\" not in dataframe_x.columns:\n",
    "            dataframe_x = add_family_size_transformer.transform(dataframe_x)\n",
    "        if \"Title\" not in dataframe_x.columns:\n",
    "            dataframe_x = extract_title_transformer.transform(dataframe_x)\n",
    "        if \"Cabin__missing\" not in dataframe_x.columns:\n",
    "            dataframe_x = indicate_missing_cabin_transformer.transform(dataframe_x)\n",
    "\n",
    "        return dataframe_x\n",
    "\n",
    "    def fit(self, dataframe_x, y=None):\n",
    "        # Copiar el dataframe\n",
    "        dataframe_x = dataframe_x.copy()\n",
    "\n",
    "        # Crear les features que no existeixen\n",
    "        dataframe_x = self.create_necessary_features(dataframe_x)\n",
    "\n",
    "        # Features\n",
    "        cat_fts = [\"Title\", \"Cabin__missing\", \"Pclass\"]\n",
    "        num_fts = [\"Fare\", \"SibSp\", \"Parch\", \"FamilySize\"]\n",
    "\n",
    "        # Transformadors\n",
    "        self.column_transformer = ColumnTransformer(\n",
    "            transformers=[\n",
    "                (\"cat\", OneHotEncoder(drop=\"first\", handle_unknown=\"ignore\"), cat_fts),\n",
    "                (\"num\", StandardScaler(), num_fts),\n",
    "                (\"pred\", \"passthrough\", [\"Age\"])\n",
    "            ]\n",
    "        )\n",
    "\n",
    "        # Fit dels transformadors\n",
    "        self.column_transformer.fit(dataframe_x)\n",
    "\n",
    "        # Fit KNNImputer\n",
    "        transformed = self.column_transformer.transform(dataframe_x)\n",
    "        self.knn = KNNImputer(n_neighbors=self.n_neighbors)\n",
    "        self.knn.fit(transformed)\n",
    "\n",
    "        # Guardar els noms de les columnes\n",
    "        cat_features_out = self.column_transformer.named_transformers_[\"cat\"].get_feature_names_out(categorical_features)\n",
    "        self.feature_names_out_ = np.concatenate([cat_features_out, numerical_features, [\"Age\"]])\n",
    "\n",
    "        return self\n",
    "\n",
    "    def transform(self, dataframe_x):\n",
    "        # Copiar el datagram\n",
    "        dataframe_x = dataframe_x.copy()\n",
    "        \n",
    "        # Crear les features que no existeixen\n",
    "        dataframe_x = self.create_necessary_features(dataframe_x)\n",
    "\n",
    "        # Predir l'edat\n",
    "        transformed = self.column_transformer.transform(dataframe_x)\n",
    "        imputed = self.knn.transform(transformed)\n",
    "\n",
    "        # Copiar els resultats\n",
    "        result = dataframe_x.copy()\n",
    "        result[\"Age\"] = imputed[:, -1]\n",
    "\n",
    "        return result"
   ],
   "outputs": [],
   "execution_count": 39
  },
  {
   "metadata": {},
   "cell_type": "markdown",
   "source": "Provem si funciona la classe igual que abans."
  },
  {
   "metadata": {
    "ExecuteTime": {
     "end_time": "2025-10-23T18:10:04.218558Z",
     "start_time": "2025-10-23T18:10:04.187494Z"
    }
   },
   "cell_type": "code",
   "source": [
    "age_knn_processor = AgeKNNImputer(n_neighbors=5)\n",
    "age_knn_processor.fit(df)\n",
    "new_df = age_knn_processor.transform(df)\n",
    "new_df.isna().sum()"
   ],
   "outputs": [
    {
     "data": {
      "text/plain": [
       "PassengerId         0\n",
       "Survived            0\n",
       "Pclass              0\n",
       "Name                0\n",
       "Sex                 0\n",
       "Age                 0\n",
       "SibSp               0\n",
       "Parch               0\n",
       "Ticket              0\n",
       "Fare                0\n",
       "Cabin             687\n",
       "Embarked            2\n",
       "FamilySize          0\n",
       "Title               0\n",
       "Cabin__missing      0\n",
       "dtype: int64"
      ]
     },
     "execution_count": 40,
     "metadata": {},
     "output_type": "execute_result"
    }
   ],
   "execution_count": 40
  },
  {
   "metadata": {},
   "cell_type": "markdown",
   "source": [
    "Veiem que retorna les mateixes columnes (els mateixos noms) més totes les auxiliars que es necessiten per fer la predicció. També observem que efectivament no queden valors nul·ls a la columna de les edats.\n",
    "\n",
    "**IMPORTANT**: encara no hem encadenat tots els transformadors, és normal que tinguem embarked i cabines NaN's, en cap moment li hem aplicat el transformador corresponent per treure-les, al final de la secció farem un pipeline general amb totes les funcions.\n",
    "\n",
    "En aquest moment ja tenim transformadors per aprofitar al màxim la informació de totes les columnes.\n",
    "\n",
    "De la columna `Title` recordem que tenim moltes categories, de les quals la majoria son per a només poques persones. Com després haurem de passar aquesta variable a indicadors binaris, no volem tenir la meitat de features que siguin indicadors del títol, per tant, reduïm les categories d'aquesta variable a només unes quantes."
   ]
  },
  {
   "metadata": {
    "ExecuteTime": {
     "end_time": "2025-10-23T18:10:04.228914Z",
     "start_time": "2025-10-23T18:10:04.225175Z"
    }
   },
   "cell_type": "code",
   "source": [
    "def compress_title(dataframe: pd.DataFrame) -> pd.DataFrame:\n",
    "    # Copiar el dataframe\n",
    "    dataframe = dataframe.copy()\n",
    "\n",
    "    # Diccionari de categories\n",
    "    mapping = {\n",
    "        \"Capt\": \"Military\", \"Col\": \"Military\", \"Major\": \"Military\",\n",
    "        \"Don\": \"Nobility\", \"Dona\": \"Nobility\", \"Jonkheer\": \"Nobility\",\n",
    "        \"Lady\": \"Nobility\", \"Sir\": \"Nobility\", \"Countess\": \"Nobility\",\n",
    "        \"Master\": \"Nobility\", \"Miss\": \"Ms\", \"Mlle\": \"Ms\", \"Ms\": \"Ms\",\n",
    "        \"Mrs\": \"Mrs\", \"Mme\": \"Mrs\"\n",
    "    }\n",
    "\n",
    "    # Fer el mapeig\n",
    "    dataframe[\"Title\"] = dataframe[\"Title\"].map(mapping).fillna(dataframe[\"Title\"])\n",
    "\n",
    "    return dataframe\n",
    "\n",
    "compress_title_transformer = FunctionTransformer(compress_title, validate=False)"
   ],
   "outputs": [],
   "execution_count": 41
  },
  {
   "metadata": {},
   "cell_type": "markdown",
   "source": "Veiem que funciona."
  },
  {
   "metadata": {
    "ExecuteTime": {
     "end_time": "2025-10-23T18:10:04.252973Z",
     "start_time": "2025-10-23T18:10:04.245922Z"
    }
   },
   "cell_type": "code",
   "source": "compress_title_transformer.transform(extract_title_transformer.transform(df))[\"Title\"].value_counts()",
   "outputs": [
    {
     "data": {
      "text/plain": [
       "Title\n",
       "Mr          517\n",
       "Ms          185\n",
       "Mrs         126\n",
       "Nobility     45\n",
       "Dr            7\n",
       "Rev           6\n",
       "Military      5\n",
       "Name: count, dtype: int64"
      ]
     },
     "execution_count": 42,
     "metadata": {},
     "output_type": "execute_result"
    }
   ],
   "execution_count": 42
  },
  {
   "metadata": {},
   "cell_type": "markdown",
   "source": [
    "De la columna del tiquet no hem pogut trobar ni extreure cap informació valuosa per la predicció, així que decidim esborrar-la.\n",
    "\n",
    "Tornem ara a les distribucions de les dades numèriques i categòriques per decidir si tenim outliers o si caldria limitar el domini de cada atribut. Ho fem només ara perquè ara sí que tenim totes les dades que necessitem (sobretot, les edats), i també hem de considerar la columna creada `FamilySize`. La columna `Pclass` no la tindrem en compte perquè ja hem vist que està equilibrada i no hi ha valors extrems.\n",
    "\n",
    "Creem un pipeline ràpid per afegir les columnes que falten i imputar les edats."
   ]
  },
  {
   "metadata": {
    "ExecuteTime": {
     "end_time": "2025-10-23T18:10:04.294055Z",
     "start_time": "2025-10-23T18:10:04.259122Z"
    }
   },
   "cell_type": "code",
   "source": [
    "temp_preprocessor = Pipeline(steps=[\n",
    "    (\"extract_deck\", extract_deck_transformer),\n",
    "    (\"missing_cabin\", indicate_missing_cabin_transformer),\n",
    "    (\"impute_embarked\", impute_embarked_transformer),\n",
    "    (\"extract_title\", extract_title_transformer),\n",
    "    (\"add_family_size\", add_family_size_transformer),\n",
    "    (\"impute_age\", AgeKNNImputer()),\n",
    "    (\"compress_title\", compress_title_transformer),\n",
    "])\n",
    "\n",
    "temp_df = temp_preprocessor.fit_transform(df)"
   ],
   "outputs": [],
   "execution_count": 43
  },
  {
   "metadata": {
    "ExecuteTime": {
     "end_time": "2025-10-23T18:10:05.117862Z",
     "start_time": "2025-10-23T18:10:04.301381Z"
    }
   },
   "cell_type": "code",
   "source": [
    "cols = [\"Age\", \"SibSp\", \"Parch\", \"Fare\", \"FamilySize\", \"Deck\", \"Embarked\", \"Title\", \"Cabin__missing\", \"Pclass\"]\n",
    "fig, axes = plt.subplots(4, 3, figsize=(18, 15))\n",
    "axes = axes.flatten()\n",
    "\n",
    "for ax, col in zip(axes, cols):\n",
    "    if temp_df[col].dtype == \"object\":\n",
    "        sns.countplot(x=col, data=temp_df, ax=ax)\n",
    "    else:\n",
    "        temp_df[col].hist(bins=30, ax=ax)\n",
    "    ax.set_title(col)\n",
    "\n",
    "for ax in axes[len(cols):]:\n",
    "    ax.set_visible(False)\n",
    "\n",
    "plt.tight_layout()\n",
    "plt.show()"
   ],
   "outputs": [
    {
     "data": {
      "text/plain": [
       "<Figure size 1800x1500 with 12 Axes>"
      ],
      "image/png": "[encoded data removed]"
     },
     "metadata": {},
     "output_type": "display_data"
    }
   ],
   "execution_count": 44
  },
  {
   "metadata": {},
   "cell_type": "markdown",
   "source": "La idea és trobar els valors \"outlier\", o atípics. Podem aconseguir això mirant l'interval interquartílic. Creem un transformador que ens retalli les variables numèriques a 1.5 cops aquest interval i veiem els resultats."
  },
  {
   "metadata": {
    "ExecuteTime": {
     "end_time": "2025-10-23T18:10:05.141094Z",
     "start_time": "2025-10-23T18:10:05.124575Z"
    }
   },
   "cell_type": "code",
   "source": [
    "class IQRTrimmer(BaseEstimator, TransformerMixin):\n",
    "    def __init__(self, factor=1.5):\n",
    "        self.factor = factor\n",
    "        self.bounds_ = {}\n",
    "\n",
    "    def fit(self, X, y=None):\n",
    "        X = pd.DataFrame(X)\n",
    "        for col in X.select_dtypes(include=[np.number]).columns:\n",
    "            q1 = X[col].quantile(0.25)\n",
    "            q3 = X[col].quantile(0.75)\n",
    "            iqr = q3 - q1\n",
    "            lower = q1 - self.factor * iqr\n",
    "            upper = q3 + self.factor * iqr\n",
    "            self.bounds_[col] = (lower, upper)\n",
    "        return self\n",
    "\n",
    "    def transform(self, X):\n",
    "        X = pd.DataFrame(X).copy()\n",
    "        for col, (lower, upper) in self.bounds_.items():\n",
    "            if col in X.columns:\n",
    "                X[col] = X[col].clip(lower=lower, upper=upper)\n",
    "        return X\n",
    "\n",
    "trimmer = IQRTrimmer()\n",
    "temp_df_trimmed = trimmer.fit_transform(temp_df)"
   ],
   "outputs": [],
   "execution_count": 45
  },
  {
   "metadata": {},
   "cell_type": "markdown",
   "source": "Repetim les gràfiques amb el nou dataframe."
  },
  {
   "metadata": {
    "ExecuteTime": {
     "end_time": "2025-10-23T18:10:05.877950Z",
     "start_time": "2025-10-23T18:10:05.148633Z"
    }
   },
   "cell_type": "code",
   "source": [
    "cols = [\"Age\", \"SibSp\", \"Parch\", \"Fare\", \"FamilySize\", \"Deck\", \"Embarked\", \"Title\", \"Cabin__missing\", \"Pclass\"]\n",
    "fig, axes = plt.subplots(4, 3, figsize=(18, 15))\n",
    "axes = axes.flatten()\n",
    "\n",
    "for ax, col in zip(axes, cols):\n",
    "    if temp_df_trimmed[col].dtype == \"object\":\n",
    "        sns.countplot(x=col, data=temp_df_trimmed, ax=ax)\n",
    "    else:\n",
    "        temp_df_trimmed[col].hist(bins=30, ax=ax)\n",
    "    ax.set_title(col)\n",
    "\n",
    "for ax in axes[len(cols):]:\n",
    "    ax.set_visible(False)\n",
    "\n",
    "plt.tight_layout()\n",
    "plt.show()"
   ],
   "outputs": [
    {
     "data": {
      "text/plain": [
       "<Figure size 1800x1500 with 12 Axes>"
      ],
      "image/png": "[encoded data removed]"
     },
     "metadata": {},
     "output_type": "display_data"
    }
   ],
   "execution_count": 46
  },
  {
   "metadata": {},
   "cell_type": "markdown",
   "source": [
    "Veiem que els resultats no son els esperats. De la columna `Cabin__missing` no volem perdre tota la informació que tenim (que seria posar que tots tenen cabin), per tant, per cada columna farem un tractament diferent:\n",
    "\n",
    "- `Age`: agafarem un threshold aproximat de 65\n",
    "- `Parch` i `SibSp`: limitarem a 0, 1 o 2 (considerant 2 com 2 o més)\n",
    "- `FamilySize`: limitarem a 1, 2, 3 i 4 (considerant 4 com 4 o més)\n",
    "- `Fare`: limitarem al preu aproximate de 100\n",
    "\n",
    "Deixarem les altres variables com estan."
   ]
  },
  {
   "metadata": {
    "ExecuteTime": {
     "end_time": "2025-10-23T18:10:05.890303Z",
     "start_time": "2025-10-23T18:10:05.885227Z"
    }
   },
   "cell_type": "code",
   "source": [
    "def custom_threshold(dataframe: pd.DataFrame) -> pd.DataFrame:\n",
    "    # Copiar el dataframe\n",
    "    dataframe = dataframe.copy()\n",
    "\n",
    "    # Age: threshold a 65\n",
    "    if \"Age\" in dataframe.columns:\n",
    "        dataframe[\"Age\"] = np.where(dataframe[\"Age\"] > 65, 65, dataframe[\"Age\"])\n",
    "\n",
    "    # Parch i SibSp: màxim 2\n",
    "    for col in [\"Parch\", \"SibSp\"]:\n",
    "        if col in dataframe.columns:\n",
    "            dataframe[col] = np.where(dataframe[col] > 2, 2, dataframe[col])\n",
    "\n",
    "    # FamilySize: màxim 4\n",
    "    if \"FamilySize\" in dataframe.columns:\n",
    "        dataframe[\"FamilySize\"] = np.where(dataframe[\"FamilySize\"] > 4, 4, dataframe[\"FamilySize\"])\n",
    "\n",
    "    # Fare: threshold a 100\n",
    "    if \"Fare\" in dataframe.columns:\n",
    "        dataframe[\"Fare\"] = np.where(dataframe[\"Fare\"] > 100, 100, dataframe[\"Fare\"])\n",
    "\n",
    "    return dataframe\n",
    "\n",
    "custom_threshold_transformer = FunctionTransformer(custom_threshold, validate=False)\n",
    "temp_df_threshold = custom_threshold_transformer.transform(temp_df)"
   ],
   "outputs": [],
   "execution_count": 47
  },
  {
   "metadata": {},
   "cell_type": "markdown",
   "source": "Analitzem les noves distribucions."
  },
  {
   "metadata": {
    "ExecuteTime": {
     "end_time": "2025-10-23T18:10:06.332253Z",
     "start_time": "2025-10-23T18:10:05.905692Z"
    }
   },
   "cell_type": "code",
   "source": [
    "cols = [\"Age\", \"SibSp\", \"Parch\", \"Fare\", \"FamilySize\"]\n",
    "fig, axes = plt.subplots(4, 3, figsize=(18, 15))\n",
    "axes = axes.flatten()\n",
    "\n",
    "for ax, col in zip(axes, cols):\n",
    "    if temp_df_threshold[col].dtype == \"object\":\n",
    "        sns.countplot(x=col, data=temp_df_threshold, ax=ax)\n",
    "    else:\n",
    "        temp_df_threshold[col].hist(bins=30, ax=ax)\n",
    "    ax.set_title(col)\n",
    "\n",
    "for ax in axes[len(cols):]:\n",
    "    ax.set_visible(False)\n",
    "\n",
    "plt.tight_layout()\n",
    "plt.show()"
   ],
   "outputs": [
    {
     "data": {
      "text/plain": [
       "<Figure size 1800x1500 with 12 Axes>"
      ],
      "image/png": "[encoded data removed]"
     },
     "metadata": {},
     "output_type": "display_data"
    }
   ],
   "execution_count": 48
  },
  {
   "metadata": {},
   "cell_type": "markdown",
   "source": [
    "Considerem que les noves distribucions tenen sentit, així que les deixarem per la versió final del dataframe.\n",
    "\n",
    "Els models d'aprenentatge que farem servir només entenen atributs numèrics, així que ens hem de desfer dels que no ho son. Els categòrics (`Sex`, `Embarked`, `Title`, `Deck`) els podrem passar a binaris (també s'accepten com a 0 o 1), així que aquests els deixem. De la columna `Name` ja no en traurem més profit a part del `Title`, així que decidim esborrar aquesta columna del dataset final. Passa igual amb la cabina, ja li hem extret el `Deck` i no podem fer servir cap més informació a part d'aquesta, la decidim esborrar també."
   ]
  },
  {
   "metadata": {
    "ExecuteTime": {
     "end_time": "2025-10-23T18:10:06.365417Z",
     "start_time": "2025-10-23T18:10:06.352153Z"
    }
   },
   "cell_type": "code",
   "source": [
    "def normalize_numerics(df: pd.DataFrame) -> pd.DataFrame:\n",
    "    df = df.copy()\n",
    "    num_cols = [\"Age\", \"SibSp\", \"Parch\", \"Fare\", \"FamilySize\", \"Pclass\"]\n",
    "    df_num = df[num_cols].copy()\n",
    "    for col in num_cols:\n",
    "        mean = df_num[col].mean()\n",
    "        std = df_num[col].std()\n",
    "        df_num[col] = (df_num[col] - mean) / std if std != 0 else 0\n",
    "    other_cols = df.drop(columns=num_cols)\n",
    "    df_final = pd.concat([df_num, other_cols], axis=1)\n",
    "    return df_final\n",
    "\n",
    "normalize_numerics_transformer = FunctionTransformer(normalize_numerics, validate=False)\n",
    "normalized_df = normalize_numerics_transformer.fit_transform(temp_df_threshold)\n",
    "\n",
    "def encode_categoricals(df: pd.DataFrame) -> pd.DataFrame:\n",
    "    df = df.copy()\n",
    "    cat_cols = [\"Sex\", \"Embarked\", \"Deck\", \"Title\"]\n",
    "    df_encoded = pd.get_dummies(df[cat_cols], drop_first=True, dummy_na=False)\n",
    "    other_cols = df.drop(columns=cat_cols)\n",
    "    df_final = pd.concat([df_encoded, other_cols], axis=1)\n",
    "    return df_final\n",
    "\n",
    "encode_categoricals_transformer = FunctionTransformer(encode_categoricals, validate=False)\n",
    "encoded_df = encode_categoricals_transformer.fit_transform(normalized_df)"
   ],
   "outputs": [],
   "execution_count": 49
  },
  {
   "metadata": {},
   "cell_type": "markdown",
   "source": "Podem observar les dades normalitzades."
  },
  {
   "metadata": {
    "ExecuteTime": {
     "end_time": "2025-10-23T18:10:06.827089Z",
     "start_time": "2025-10-23T18:10:06.371817Z"
    }
   },
   "cell_type": "code",
   "source": [
    "cols = [\"Age\", \"SibSp\", \"Parch\", \"Fare\", \"FamilySize\", \"Pclass\"]\n",
    "fig, axes = plt.subplots(3, 3, figsize=(18, 10))\n",
    "axes = axes.flatten()\n",
    "\n",
    "for ax, col in zip(axes, cols):\n",
    "    if normalized_df[col].dtype == \"object\":\n",
    "        sns.countplot(x=col, data=normalized_df, ax=ax)\n",
    "    else:\n",
    "        normalized_df[col].hist(bins=30, ax=ax)\n",
    "    ax.set_title(col)\n",
    "\n",
    "for ax in axes[len(cols):]:\n",
    "    ax.set_visible(False)\n",
    "\n",
    "plt.tight_layout()\n",
    "plt.show()"
   ],
   "outputs": [
    {
     "data": {
      "text/plain": [
       "<Figure size 1800x1000 with 9 Axes>"
      ],
      "image/png": "[encoded data removed]"
     },
     "metadata": {},
     "output_type": "display_data"
    }
   ],
   "execution_count": 50
  },
  {
   "metadata": {},
   "cell_type": "markdown",
   "source": "Fem un transformer ràpid per eliminar les columnes."
  },
  {
   "metadata": {
    "ExecuteTime": {
     "end_time": "2025-10-23T18:10:06.837886Z",
     "start_time": "2025-10-23T18:10:06.834732Z"
    }
   },
   "cell_type": "code",
   "source": [
    "def drop_column(dataframe, columns):\n",
    "    # Copiar el dataframe\n",
    "    dataframe = dataframe.copy()\n",
    "\n",
    "    # Esborrar les columnes\n",
    "    return dataframe.drop(columns=columns, errors=\"ignore\")\n",
    "\n",
    "drop_cols = {\"columns\": [\"Name\", \"Cabin\", \"Ticket\"]}\n",
    "\n",
    "drop_transformer = FunctionTransformer(drop_column, kw_args=drop_cols, validate=False)"
   ],
   "outputs": [],
   "execution_count": 51
  },
  {
   "metadata": {},
   "cell_type": "markdown",
   "source": "Finalment, construïm el pipeline final amb totes les implementacions que hem fet."
  },
  {
   "metadata": {
    "ExecuteTime": {
     "end_time": "2025-10-23T18:10:06.858714Z",
     "start_time": "2025-10-23T18:10:06.855443Z"
    }
   },
   "cell_type": "code",
   "source": [
    "preprocessor = Pipeline(steps=[\n",
    "    (\"extract_deck\", extract_deck_transformer),\n",
    "    (\"missing_cabin\", indicate_missing_cabin_transformer),\n",
    "    (\"impute_embarked\", impute_embarked_transformer),\n",
    "    (\"extract_title\", extract_title_transformer),\n",
    "    (\"add_family_size\", add_family_size_transformer),\n",
    "    (\"impute_age\", AgeKNNImputer()),\n",
    "    (\"compress_title\", compress_title_transformer),\n",
    "    (\"custom_threshold\", custom_threshold_transformer),\n",
    "    (\"normalize\", normalize_numerics_transformer),\n",
    "    (\"encode\", encode_categoricals_transformer),\n",
    "    (\"drop\", drop_transformer),\n",
    "])"
   ],
   "outputs": [],
   "execution_count": 52
  },
  {
   "metadata": {},
   "cell_type": "markdown",
   "source": "Apliquem aquest pipeline al dataframe per comprovar que funciona correctament."
  },
  {
   "metadata": {
    "ExecuteTime": {
     "end_time": "2025-10-23T18:10:06.912411Z",
     "start_time": "2025-10-23T18:10:06.868088Z"
    }
   },
   "cell_type": "code",
   "source": [
    "processed_df = preprocessor.fit_transform(df)\n",
    "display(processed_df)\n",
    "display(processed_df.columns)"
   ],
   "outputs": [
    {
     "data": {
      "text/plain": [
       "     Sex_male  Embarked_Q  Embarked_S  Deck_B  Deck_C  Deck_D  Deck_E  Deck_F  \\\n",
       "0        True       False        True   False   False   False   False   False   \n",
       "1       False       False       False   False    True   False   False   False   \n",
       "2       False       False        True   False   False   False   False   False   \n",
       "3       False       False        True   False    True   False   False   False   \n",
       "4        True       False        True   False   False   False   False   False   \n",
       "..        ...         ...         ...     ...     ...     ...     ...     ...   \n",
       "886      True       False        True   False   False   False   False   False   \n",
       "887     False       False        True    True   False   False   False   False   \n",
       "888     False       False        True   False   False   False   False   False   \n",
       "889      True       False       False   False    True   False   False   False   \n",
       "890      True        True       False   False   False   False   False   False   \n",
       "\n",
       "     Deck_G  Deck_X  ...  Title_Rev       Age     SibSp     Parch      Fare  \\\n",
       "0     False    True  ...      False -0.553590  0.939785 -0.521177 -0.724528   \n",
       "1     False   False  ...      False  0.612373  0.939785 -0.521177  1.621304   \n",
       "2     False    True  ...      False -0.262099 -0.628283 -0.521177 -0.699799   \n",
       "3     False   False  ...      False  0.393755  0.939785 -0.521177  0.955167   \n",
       "4     False    True  ...      False  0.393755 -0.628283 -0.521177 -0.695220   \n",
       "..      ...     ...  ...        ...       ...       ...       ...       ...   \n",
       "886   False    True  ...       True -0.189227 -0.628283 -0.521177 -0.513879   \n",
       "887   False   False  ...      False -0.772208 -0.628283 -0.521177  0.108908   \n",
       "888   False    True  ...      False -1.500936  0.939785  2.494203 -0.131048   \n",
       "889   False   False  ...      False -0.262099 -0.628283 -0.521177  0.108908   \n",
       "890   False    True  ...      False  0.175137 -0.628283 -0.521177 -0.706211   \n",
       "\n",
       "     FamilySize    Pclass  PassengerId  Survived  Cabin__missing  \n",
       "0      0.277604  0.826913            1         0               1  \n",
       "1      0.277604 -1.565228            2         1               0  \n",
       "2     -0.700045  0.826913            3         1               1  \n",
       "3      0.277604 -1.565228            4         1               0  \n",
       "4     -0.700045  0.826913            5         0               1  \n",
       "..          ...       ...          ...       ...             ...  \n",
       "886   -0.700045 -0.369158          887         0               1  \n",
       "887   -0.700045 -1.565228          888         1               0  \n",
       "888    2.232901  0.826913          889         0               1  \n",
       "889   -0.700045 -1.565228          890         1               0  \n",
       "890   -0.700045  0.826913          891         0               1  \n",
       "\n",
       "[891 rows x 25 columns]"
      ],
      "text/html": [
       "<div>\n",
       "<style scoped>\n",
       "    .dataframe tbody tr th:only-of-type {\n",
       "        vertical-align: middle;\n",
       "    }\n",
       "\n",
       "    .dataframe tbody tr th {\n",
       "        vertical-align: top;\n",
       "    }\n",
       "\n",
       "    .dataframe thead th {\n",
       "        text-align: right;\n",
       "    }\n",
       "</style>\n",
       "<table border=\"1\" class=\"dataframe\">\n",
       "  <thead>\n",
       "    <tr style=\"text-align: right;\">\n",
       "      <th></th>\n",
       "      <th>Sex_male</th>\n",
       "      <th>Embarked_Q</th>\n",
       "      <th>Embarked_S</th>\n",
       "      <th>Deck_B</th>\n",
       "      <th>Deck_C</th>\n",
       "      <th>Deck_D</th>\n",
       "      <th>Deck_E</th>\n",
       "      <th>Deck_F</th>\n",
       "      <th>Deck_G</th>\n",
       "      <th>Deck_X</th>\n",
       "      <th>...</th>\n",
       "      <th>Title_Rev</th>\n",
       "      <th>Age</th>\n",
       "      <th>SibSp</th>\n",
       "      <th>Parch</th>\n",
       "      <th>Fare</th>\n",
       "      <th>FamilySize</th>\n",
       "      <th>Pclass</th>\n",
       "      <th>PassengerId</th>\n",
       "      <th>Survived</th>\n",
       "      <th>Cabin__missing</th>\n",
       "    </tr>\n",
       "  </thead>\n",
       "  <tbody>\n",
       "    <tr>\n",
       "      <th>0</th>\n",
       "      <td>True</td>\n",
       "      <td>False</td>\n",
       "      <td>True</td>\n",
       "      <td>False</td>\n",
       "      <td>False</td>\n",
       "      <td>False</td>\n",
       "      <td>False</td>\n",
       "      <td>False</td>\n",
       "      <td>False</td>\n",
       "      <td>True</td>\n",
       "      <td>...</td>\n",
       "      <td>False</td>\n",
       "      <td>-0.553590</td>\n",
       "      <td>0.939785</td>\n",
       "      <td>-0.521177</td>\n",
       "      <td>-0.724528</td>\n",
       "      <td>0.277604</td>\n",
       "      <td>0.826913</td>\n",
       "      <td>1</td>\n",
       "      <td>0</td>\n",
       "      <td>1</td>\n",
       "    </tr>\n",
       "    <tr>\n",
       "      <th>1</th>\n",
       "      <td>False</td>\n",
       "      <td>False</td>\n",
       "      <td>False</td>\n",
       "      <td>False</td>\n",
       "      <td>True</td>\n",
       "      <td>False</td>\n",
       "      <td>False</td>\n",
       "      <td>False</td>\n",
       "      <td>False</td>\n",
       "      <td>False</td>\n",
       "      <td>...</td>\n",
       "      <td>False</td>\n",
       "      <td>0.612373</td>\n",
       "      <td>0.939785</td>\n",
       "      <td>-0.521177</td>\n",
       "      <td>1.621304</td>\n",
       "      <td>0.277604</td>\n",
       "      <td>-1.565228</td>\n",
       "      <td>2</td>\n",
       "      <td>1</td>\n",
       "      <td>0</td>\n",
       "    </tr>\n",
       "    <tr>\n",
       "      <th>2</th>\n",
       "      <td>False</td>\n",
       "      <td>False</td>\n",
       "      <td>True</td>\n",
       "      <td>False</td>\n",
       "      <td>False</td>\n",
       "      <td>False</td>\n",
       "      <td>False</td>\n",
       "      <td>False</td>\n",
       "      <td>False</td>\n",
       "      <td>True</td>\n",
       "      <td>...</td>\n",
       "      <td>False</td>\n",
       "      <td>-0.262099</td>\n",
       "      <td>-0.628283</td>\n",
       "      <td>-0.521177</td>\n",
       "      <td>-0.699799</td>\n",
       "      <td>-0.700045</td>\n",
       "      <td>0.826913</td>\n",
       "      <td>3</td>\n",
       "      <td>1</td>\n",
       "      <td>1</td>\n",
       "    </tr>\n",
       "    <tr>\n",
       "      <th>3</th>\n",
       "      <td>False</td>\n",
       "      <td>False</td>\n",
       "      <td>True</td>\n",
       "      <td>False</td>\n",
       "      <td>True</td>\n",
       "      <td>False</td>\n",
       "      <td>False</td>\n",
       "      <td>False</td>\n",
       "      <td>False</td>\n",
       "      <td>False</td>\n",
       "      <td>...</td>\n",
       "      <td>False</td>\n",
       "      <td>0.393755</td>\n",
       "      <td>0.939785</td>\n",
       "      <td>-0.521177</td>\n",
       "      <td>0.955167</td>\n",
       "      <td>0.277604</td>\n",
       "      <td>-1.565228</td>\n",
       "      <td>4</td>\n",
       "      <td>1</td>\n",
       "      <td>0</td>\n",
       "    </tr>\n",
       "    <tr>\n",
       "      <th>4</th>\n",
       "      <td>True</td>\n",
       "      <td>False</td>\n",
       "      <td>True</td>\n",
       "      <td>False</td>\n",
       "      <td>False</td>\n",
       "      <td>False</td>\n",
       "      <td>False</td>\n",
       "      <td>False</td>\n",
       "      <td>False</td>\n",
       "      <td>True</td>\n",
       "      <td>...</td>\n",
       "      <td>False</td>\n",
       "      <td>0.393755</td>\n",
       "      <td>-0.628283</td>\n",
       "      <td>-0.521177</td>\n",
       "      <td>-0.695220</td>\n",
       "      <td>-0.700045</td>\n",
       "      <td>0.826913</td>\n",
       "      <td>5</td>\n",
       "      <td>0</td>\n",
       "      <td>1</td>\n",
       "    </tr>\n",
       "    <tr>\n",
       "      <th>...</th>\n",
       "      <td>...</td>\n",
       "      <td>...</td>\n",
       "      <td>...</td>\n",
       "      <td>...</td>\n",
       "      <td>...</td>\n",
       "      <td>...</td>\n",
       "      <td>...</td>\n",
       "      <td>...</td>\n",
       "      <td>...</td>\n",
       "      <td>...</td>\n",
       "      <td>...</td>\n",
       "      <td>...</td>\n",
       "      <td>...</td>\n",
       "      <td>...</td>\n",
       "      <td>...</td>\n",
       "      <td>...</td>\n",
       "      <td>...</td>\n",
       "      <td>...</td>\n",
       "      <td>...</td>\n",
       "      <td>...</td>\n",
       "      <td>...</td>\n",
       "    </tr>\n",
       "    <tr>\n",
       "      <th>886</th>\n",
       "      <td>True</td>\n",
       "      <td>False</td>\n",
       "      <td>True</td>\n",
       "      <td>False</td>\n",
       "      <td>False</td>\n",
       "      <td>False</td>\n",
       "      <td>False</td>\n",
       "      <td>False</td>\n",
       "      <td>False</td>\n",
       "      <td>True</td>\n",
       "      <td>...</td>\n",
       "      <td>True</td>\n",
       "      <td>-0.189227</td>\n",
       "      <td>-0.628283</td>\n",
       "      <td>-0.521177</td>\n",
       "      <td>-0.513879</td>\n",
       "      <td>-0.700045</td>\n",
       "      <td>-0.369158</td>\n",
       "      <td>887</td>\n",
       "      <td>0</td>\n",
       "      <td>1</td>\n",
       "    </tr>\n",
       "    <tr>\n",
       "      <th>887</th>\n",
       "      <td>False</td>\n",
       "      <td>False</td>\n",
       "      <td>True</td>\n",
       "      <td>True</td>\n",
       "      <td>False</td>\n",
       "      <td>False</td>\n",
       "      <td>False</td>\n",
       "      <td>False</td>\n",
       "      <td>False</td>\n",
       "      <td>False</td>\n",
       "      <td>...</td>\n",
       "      <td>False</td>\n",
       "      <td>-0.772208</td>\n",
       "      <td>-0.628283</td>\n",
       "      <td>-0.521177</td>\n",
       "      <td>0.108908</td>\n",
       "      <td>-0.700045</td>\n",
       "      <td>-1.565228</td>\n",
       "      <td>888</td>\n",
       "      <td>1</td>\n",
       "      <td>0</td>\n",
       "    </tr>\n",
       "    <tr>\n",
       "      <th>888</th>\n",
       "      <td>False</td>\n",
       "      <td>False</td>\n",
       "      <td>True</td>\n",
       "      <td>False</td>\n",
       "      <td>False</td>\n",
       "      <td>False</td>\n",
       "      <td>False</td>\n",
       "      <td>False</td>\n",
       "      <td>False</td>\n",
       "      <td>True</td>\n",
       "      <td>...</td>\n",
       "      <td>False</td>\n",
       "      <td>-1.500936</td>\n",
       "      <td>0.939785</td>\n",
       "      <td>2.494203</td>\n",
       "      <td>-0.131048</td>\n",
       "      <td>2.232901</td>\n",
       "      <td>0.826913</td>\n",
       "      <td>889</td>\n",
       "      <td>0</td>\n",
       "      <td>1</td>\n",
       "    </tr>\n",
       "    <tr>\n",
       "      <th>889</th>\n",
       "      <td>True</td>\n",
       "      <td>False</td>\n",
       "      <td>False</td>\n",
       "      <td>False</td>\n",
       "      <td>True</td>\n",
       "      <td>False</td>\n",
       "      <td>False</td>\n",
       "      <td>False</td>\n",
       "      <td>False</td>\n",
       "      <td>False</td>\n",
       "      <td>...</td>\n",
       "      <td>False</td>\n",
       "      <td>-0.262099</td>\n",
       "      <td>-0.628283</td>\n",
       "      <td>-0.521177</td>\n",
       "      <td>0.108908</td>\n",
       "      <td>-0.700045</td>\n",
       "      <td>-1.565228</td>\n",
       "      <td>890</td>\n",
       "      <td>1</td>\n",
       "      <td>0</td>\n",
       "    </tr>\n",
       "    <tr>\n",
       "      <th>890</th>\n",
       "      <td>True</td>\n",
       "      <td>True</td>\n",
       "      <td>False</td>\n",
       "      <td>False</td>\n",
       "      <td>False</td>\n",
       "      <td>False</td>\n",
       "      <td>False</td>\n",
       "      <td>False</td>\n",
       "      <td>False</td>\n",
       "      <td>True</td>\n",
       "      <td>...</td>\n",
       "      <td>False</td>\n",
       "      <td>0.175137</td>\n",
       "      <td>-0.628283</td>\n",
       "      <td>-0.521177</td>\n",
       "      <td>-0.706211</td>\n",
       "      <td>-0.700045</td>\n",
       "      <td>0.826913</td>\n",
       "      <td>891</td>\n",
       "      <td>0</td>\n",
       "      <td>1</td>\n",
       "    </tr>\n",
       "  </tbody>\n",
       "</table>\n",
       "<p>891 rows × 25 columns</p>\n",
       "</div>"
      ]
     },
     "metadata": {},
     "output_type": "display_data"
    },
    {
     "data": {
      "text/plain": [
       "Index(['Sex_male', 'Embarked_Q', 'Embarked_S', 'Deck_B', 'Deck_C', 'Deck_D',\n",
       "       'Deck_E', 'Deck_F', 'Deck_G', 'Deck_X', 'Title_Military', 'Title_Mr',\n",
       "       'Title_Mrs', 'Title_Ms', 'Title_Nobility', 'Title_Rev', 'Age', 'SibSp',\n",
       "       'Parch', 'Fare', 'FamilySize', 'Pclass', 'PassengerId', 'Survived',\n",
       "       'Cabin__missing'],\n",
       "      dtype='object')"
      ]
     },
     "metadata": {},
     "output_type": "display_data"
    }
   ],
   "execution_count": 53
  },
  {
   "metadata": {},
   "cell_type": "markdown",
   "source": "I no obtenim cap cel·la sense valors."
  },
  {
   "metadata": {
    "ExecuteTime": {
     "end_time": "2025-10-23T18:10:06.950946Z",
     "start_time": "2025-10-23T18:10:06.944223Z"
    }
   },
   "cell_type": "code",
   "source": "processed_df.isna().sum().sum()",
   "outputs": [
    {
     "data": {
      "text/plain": [
       "np.int64(0)"
      ]
     },
     "execution_count": 54,
     "metadata": {},
     "output_type": "execute_result"
    }
   ],
   "execution_count": 54
  },
  {
   "metadata": {},
   "cell_type": "markdown",
   "source": [
    "Per acabar aquesta secció comentarem dues coses importants: PCA i normalització.\n",
    "\n",
    "La primera: Primary Component Analysis. La utilitat principal d'aquest mètode és reduir la dimensionalitat d'un problema si aquest és molt gran o si pensem que hi ha dimensions que no aporten informació a la predicció. En el nostre cas, no es dona cap de les situacions. La dimensió és relativament petita, i a priori pensem que totes les variables son importants. A més, tenim una explicació molt fàcil i interpretació directa a partir de les quantitats. Aplicar PCA es carregaria aquesta interpretabilitat, potser augmentant lleugerament el temps de còmput (un cop entrenat), però perdrem un gran part del problema que és la interpretació de les dades, bàsicament el treball que hem estat fent en aquestes dues seccions.\n",
    "\n",
    "La segona: Normalització. Quan estem treballant amb algoritmes que fan servir distàncies, és normal aplicar una normalització a tots els atributs per així no donar prioritat a les magnituds que potser simplement estan en una altra escala. Per evitar això, normalment s'agafen totes les dades i se les aplica una transformació lineal per centrar-les al zero i amb variació 1. Aquesta és la Standard, la més normal. També hi ha la MinMax, que porta tot el rang de valor a un altre interval desitjat. Com estem treballant amb pipelines i ja tenim funcions implementades per fer aquestes normalitzacions, és molt fàcil afegir o treure-les quan vulguem. Sabem que per alguns mètodes està bé conservar la magnitud (en general és igual), així que, de moment, deixarem les dades amb les magnituds reals i després, per cada model, afegirem una línia que aplicarà la normalització abans."
   ]
  },
  {
   "metadata": {},
   "cell_type": "markdown",
   "source": [
    "### 3. Metric selection (1.5 punts)\n",
    "En aquest apartat ens centrarem en les mètriques de classificació ([documentació](https://scikit-learn.org/stable/modules/model_evaluation.html#classification-metrics)). Per a fer-ho, entreneu una regressio logistica i a partir d'aquesta generarem una serie de funcions per analitzar els nostres resultats. Aquestes funcions ens serviran més endavant. Caldrà tambe triar la mètrica que farem servir després per triar el millor model.\n",
    "\n",
    "**Preguntes:**\n",
    "* A teoria, hem vist el resultat d'aplicar el `accuracy_score` sobre dades no balancejades. Podrieu explicar i justificar quina de les següents mètriques será la més adient pel vostre problema? `accuracy_score`, `f1_score` o `average_precision_score`?\n",
    "* Abans de començar a entrenar models, genereu una suite de funcions per poder analitzar graficament com esta anant el vostre model. Mostreu la Precisió-Recall Curve i la ROC Curve. Quina és més rellevant pel vostre dataset?\n",
    "* Què mostra [classification_report](https://scikit-learn.org/stable/modules/generated/sklearn.metrics.classification_report.html)? Quina mètrica us fixareu per tal de optimitzar-ne la classificació pel vostre cas?\n",
    "\n",
    "**Nota**: Fixeu-vos que en aquest apartat NO ES VALOREN ELS RESULTATS. L'únic que es valora és l'elecció de la mètrica de classificació així com saber quin tipus de gràfiques fer per analitzar els resultats. Abans de solucionar un problema cal tenir molt clar la mètrica d'error que es farà servir, i és una decisió que cal pendre de forma prèvia a entrenar models."
   ]
  },
  {
   "metadata": {},
   "cell_type": "markdown",
   "source": [
    "### 4. Model Selection amb validació creuada (4 punts)\n",
    "\n",
    "Fent servir la mètrica trobada en l'apartat anterior, en aquest apartat caldrà seleccionar una sèrie de models i, fent ús de la validació creuada, seleccionar el millor model amb els seus respectius millors hyperpàrametres que haurem buscat fent hyperparameter search.\n",
    "\n",
    "La tasca d'aquesta pràctica s'enmarca dins l'aprenentatge computacional **supervisat**. A sklearn, disposem de diverses tècniques [(veure documentació)](https://scikit-learn.org/stable/supervised_learning.html). A les classes de teoria, hem vist tècniques com ara logistic regression, SVM amb diferents kernels, Nearest Neighbour... i també coneixeu altres tecniques d'altres cursos, com els arbres de decisio. Per aquest apartat es demana seleccionar **un minim de 3 models**.\n",
    "\n",
    "**Preguntes:**\n",
    "* Quins models heu considerat? Per què els heu seleccionat?\n",
    "* Fent servir validació creuada, escolliu el millor model (agafant els hiperparàmetres per defecte). Recordeu fer servir la mètrica utilitzada en l'apartat anterior i fer fer servir algun [tipus de validacio creuada](https://scikit-learn.org/stable/modules/cross_validation.html).\n",
    "\n",
    "* Seleccioneu una sèrie d'hiperparàmetres a provar per cadascun dels models i realitzeu una cerca d'hiperparàmetres. Hi ha algun model que creieu que podeu descartar de primeres? Per què?\n",
    "\n",
    "* Mostreu els resultats en una taula on es mostri el model, els experiments realitzats i els resultats obtinguts (tant en train com en test). Podeu mostrar tambe el temps d'entrenament de cada model.\n",
    "\n",
    "* Quin tipus de validació heu escollit en la selecció de models?\n",
    "\n",
    "* Quines formes de buscar els millors hiperparàmetres heu trobat? Són costoses computacionalment parlant? [documentació](https://scikit-learn.org/stable/modules/grid_search.html). Quina heu seleccionat?\n",
    "\n",
    "* Si disposem de recursos limitats (per exemple, un PC durant 1 hora), quin dels mètodes creieu que obtindrà millor resultat final?\n",
    "\n",
    "* Opcional: Feu la prova, i amb el model i el metode de validació creuada escollit, configureu els diferents mètodes de cerca per a que s'executin durant el mateix temps (i.e. depenent del problema, 0,5h-1 hora). Analitzeu quin ha arribat a una millor solució. (Ajuda: estimeu el temps que trigarà a fer 1 training el vostre model, i així trobeu el número de intents que podeu fer en cada cas.)"
   ]
  },
  {
   "metadata": {},
   "cell_type": "markdown",
   "source": [
    "### 5.Anàlisi Final (1.5 punt)\n",
    "\n",
    "Un cop seleccionat el millor model amb els millors hiperparàmetres, caldrà fer un anàlisi final amb els resultats obtinguts.\n",
    "\n",
    "**Preguntes:**\n",
    "* Mostreu les corves ROC/PR (la que hagueu escollit en l'apartat 2) i interpreteu els resultats.\n",
    "\n",
    "* Analitzeu en detall les diferents mètriques que trobeu adients i comenteu per sobre com podrieu fer servir aquest model en un futur. Això és el que es coneix com un cas d'ús.\n",
    "\n",
    "* Com creieu que es podria millorar el vostre model?"
   ]
  }
 ],
 "metadata": {
  "colab": {
   "provenance": []
  },
  "kernelspec": {
   "display_name": "Python 3",
   "language": "python",
   "name": "python3"
  },
  "language_info": {
   "codemirror_mode": {
    "name": "ipython",
    "version": 3
   },
   "file_extension": ".py",
   "mimetype": "text/x-python",
   "name": "python",
   "nbconvert_exporter": "python",
   "pygments_lexer": "ipython3",
   "version": "3.13.3"
  }
 },
 "nbformat": 4,
 "nbformat_minor": 0
}
